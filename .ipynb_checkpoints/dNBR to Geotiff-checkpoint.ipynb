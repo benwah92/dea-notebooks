{
 "cells": [
  {
   "cell_type": "markdown",
   "metadata": {},
   "source": [
    "### dNBR to Geotiff\n",
    "Created by Amos Bennett.<br>\n",
    "Last Updated 12 Jun 20. <br>\n",
    "Updates: Script was pulled from DEA sandbox and loaded to NCI VDI after an error with not sourcing s2a/b_ard_granule and s2a/b_nrt_granule correctly. Because the fires being analysed occured several months ago, nrt (near real time) is no longer required and was removed. The DEA startup on the NCI VDI side was set up to be linked to module DEA version 1.8.0 due to a deprecation issue with write_geotiff()."
   ]
  },
  {
   "cell_type": "code",
   "execution_count": 38,
   "metadata": {},
   "outputs": [],
   "source": [
    "import sys\n",
    "import datacube\n",
    "from datacube.helpers import write_geotiff\n",
    "from datetime import datetime\n",
    "from datetime import timedelta\n",
    "import pandas as pd\n",
    "import xarray as xr\n",
    "import numpy as np\n",
    "import matplotlib.pyplot as plt\n",
    "\n",
    "sys.path.append(\"../Scripts\")\n",
    "import dea_datahandling\n",
    "from dea_datahandling import load_ard\n",
    "from dea_plotting import rgb\n",
    "from dea_plotting import display_map\n",
    "from dea_bandindices import calculate_indices"
   ]
  },
  {
   "cell_type": "code",
   "execution_count": 39,
   "metadata": {},
   "outputs": [
    {
     "name": "stdout",
     "output_type": "stream",
     "text": [
      "1.8.0\n"
     ]
    }
   ],
   "source": [
    "print(datacube.__version__)"
   ]
  },
  {
   "cell_type": "code",
   "execution_count": 40,
   "metadata": {},
   "outputs": [],
   "source": [
    "dc = datacube.Datacube(app=\"dNBR\")"
   ]
  },
  {
   "cell_type": "code",
   "execution_count": 41,
   "metadata": {},
   "outputs": [
    {
     "name": "stderr",
     "output_type": "stream",
     "text": [
      "/g/data/v10/public/modules/dea-env/20200605/lib/python3.6/site-packages/pyproj/crs/crs.py:53: FutureWarning: '+init=<authority>:<code>' syntax is deprecated. '<authority>:<code>' is the preferred initialization method. When making the change, be mindful of axis order changes: https://pyproj4.github.io/pyproj/stable/gotchas.html#axis-order-changes-in-proj-6\n",
      "  return _prepare_from_string(\" \".join(pjargs))\n",
      "/g/data/v10/public/modules/dea-env/20200605/lib/python3.6/site-packages/pyproj/crs/crs.py:294: FutureWarning: '+init=<authority>:<code>' syntax is deprecated. '<authority>:<code>' is the preferred initialization method. When making the change, be mindful of axis order changes: https://pyproj4.github.io/pyproj/stable/gotchas.html#axis-order-changes-in-proj-6\n",
      "  projstring = _prepare_from_string(\" \".join((projstring, projkwargs)))\n",
      "/g/data/v10/public/modules/dea-env/20200605/lib/python3.6/site-packages/pyproj/crs/crs.py:53: FutureWarning: '+init=<authority>:<code>' syntax is deprecated. '<authority>:<code>' is the preferred initialization method. When making the change, be mindful of axis order changes: https://pyproj4.github.io/pyproj/stable/gotchas.html#axis-order-changes-in-proj-6\n",
      "  return _prepare_from_string(\" \".join(pjargs))\n",
      "/g/data/v10/public/modules/dea-env/20200605/lib/python3.6/site-packages/pyproj/crs/crs.py:294: FutureWarning: '+init=<authority>:<code>' syntax is deprecated. '<authority>:<code>' is the preferred initialization method. When making the change, be mindful of axis order changes: https://pyproj4.github.io/pyproj/stable/gotchas.html#axis-order-changes-in-proj-6\n",
      "  projstring = _prepare_from_string(\" \".join((projstring, projkwargs)))\n"
     ]
    },
    {
     "data": {
      "text/html": [
       "<div style=\"width:100%;\"><div style=\"position:relative;width:100%;height:0;padding-bottom:60%;\"><iframe src=\"data:text/html;charset=utf-8;base64,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\" style=\"position:absolute;width:100%;height:100%;left:0;top:0;border:none !important;\" allowfullscreen webkitallowfullscreen mozallowfullscreen></iframe></div></div>"
      ],
      "text/plain": [
       "<folium.folium.Map at 0x7f38b3cbbb00>"
      ]
     },
     "execution_count": 41,
     "metadata": {},
     "output_type": "execute_result"
    }
   ],
   "source": [
    "# Set the central latitude and longitude\n",
    "central_lat = -35.5655\n",
    "central_lon = 148.6547\n",
    "\n",
    "# Canberra 148.6547665°E 35.5655761°S\n",
    "# Bago 148.1578780°E 35.6453203°S\n",
    "# Koziosko 148.3517111°E 36.1864717°S \n",
    "\n",
    "# Set the buffer to load around the central coordinates (even numbers such as 0.2, 1.0, 2.2 etc)\n",
    "buffer = 0.6\n",
    "\n",
    "# Compute the bounding box for the study area\n",
    "study_area_lat = (central_lat - buffer, central_lat + buffer)\n",
    "study_area_lon = (central_lon - buffer, central_lon + buffer)\n",
    "\n",
    "display_map(x=study_area_lon, y=study_area_lat, margin=-0.2)"
   ]
  },
  {
   "cell_type": "code",
   "execution_count": 42,
   "metadata": {},
   "outputs": [],
   "source": [
    "import shapely\n",
    "from shapely.geometry import Point\n",
    "\n",
    "# Create a range for generating point grid.\n",
    "magic_number = int(buffer*10/1)\n",
    "rng = range(int(magic_number/2))\n",
    "\n",
    "x_coord = []\n",
    "y_coord = []\n",
    "\n",
    "# Calculate x and y for point grid.\n",
    "for i in rng:\n",
    "    l = i/5 + 0.1\n",
    "    neg_lat = central_lat - l\n",
    "    neg_lon = central_lon - l\n",
    "    pos_lat = central_lat + l\n",
    "    pos_lon = central_lon + l\n",
    "    x_coord.append(neg_lon)\n",
    "    x_coord.append(pos_lon)\n",
    "    y_coord.append(neg_lat)\n",
    "    y_coord.append(pos_lat)\n",
    "    \n",
    "coords = []\n",
    "\n",
    "# Create list of shapely points.\n",
    "for x in x_coord:\n",
    "    for y in y_coord:\n",
    "        p = Point(x, y)\n",
    "        coords.append(p)"
   ]
  },
  {
   "cell_type": "code",
   "execution_count": 43,
   "metadata": {},
   "outputs": [],
   "source": [
    "# Fire event date\n",
    "fire_date = '2020-02-20'\n",
    "\n",
    "# Length of baseline period\n",
    "baseline_length = '3 months'"
   ]
  },
  {
   "cell_type": "code",
   "execution_count": 44,
   "metadata": {},
   "outputs": [],
   "source": [
    "# Define dates for loading data\n",
    "if baseline_length == '12 months':\n",
    "    time_step = timedelta(days=365)\n",
    "if baseline_length == '6 months':\n",
    "    time_step = timedelta(days=182.5)\n",
    "if baseline_length == '3 months':\n",
    "    time_step = timedelta(days=91)\n",
    "\n",
    "# Calculate the start and end date for baseline data load\n",
    "start_date_pre = datetime.strftime(((datetime.strptime(fire_date, '%Y-%m-%d'))-time_step), '%Y-%m-%d')\n",
    "end_date_pre = datetime.strftime(((datetime.strptime(fire_date, '%Y-%m-%d'))-timedelta(days=25)), '%Y-%m-%d')\n",
    "\n",
    "# Calculate end date for post fire data load\n",
    "start_date_post = datetime.strftime(((datetime.strptime(fire_date, '%Y-%m-%d'))+timedelta(days=0)), '%Y-%m-%d')\n",
    "end_date_post = datetime.strftime(((datetime.strptime(fire_date, '%Y-%m-%d'))+timedelta(days=9)), '%Y-%m-%d')"
   ]
  },
  {
   "cell_type": "code",
   "execution_count": 45,
   "metadata": {},
   "outputs": [
    {
     "name": "stdout",
     "output_type": "stream",
     "text": [
      "start_date_pre:  2019-11-21\n",
      "end_date_pre:    2020-01-26\n",
      "fire_date:       2020-02-20\n",
      "start_date_post: 2020-02-20\n",
      "end_date_post:   2020-02-29\n"
     ]
    }
   ],
   "source": [
    "# Print dates\n",
    "print('start_date_pre:  '+start_date_pre)\n",
    "print('end_date_pre:    '+end_date_pre)\n",
    "print('fire_date:       '+fire_date)\n",
    "print('start_date_post: '+start_date_post)\n",
    "print('end_date_post:   '+end_date_post)"
   ]
  },
  {
   "cell_type": "code",
   "execution_count": 47,
   "metadata": {},
   "outputs": [],
   "source": [
    "def dNBR_processing(coordinates):\n",
    "    \n",
    "    # Load all data in baseline period available from s2a/b_ard_granule datasets\n",
    "    baseline_ard = load_ard(dc=dc,\n",
    "                   products=['s2a_ard_granule', 's2b_ard_granule'],\n",
    "                   x = (coordinates.x - 0.1, coordinates.x + 0.1),\n",
    "                   y = (coordinates.y - 0.1, coordinates.y + 0.1),\n",
    "                   time=(start_date_pre, end_date_pre),\n",
    "                   measurements=['nbart_nir_1',\n",
    "                                 'nbart_swir_3'],\n",
    "                   min_gooddata=0.1,\n",
    "                   output_crs='EPSG:32756',\n",
    "                   resolution=(-10,10),\n",
    "                   group_by='solar_day')\n",
    "\n",
    "    # Remove milliseconds \n",
    "    baseline_ard['time'] = baseline_ard.indexes['time'].normalize()\n",
    "    \n",
    "    baseline_ard = calculate_indices(baseline_ard,\n",
    "                                     index='NBR', \n",
    "                                     collection='ga_s2_1', \n",
    "                                     drop=False)\n",
    "\n",
    "    # Compute median using all observations in the dataset along the time axis\n",
    "    baseline_image = baseline_ard.median(dim='time')\n",
    "\n",
    "    # Delete baseline_combined\n",
    "    del baseline_ard\n",
    "\n",
    "    # Select NBR\n",
    "    baseline_NBR = baseline_image.NBR\n",
    "\n",
    "    del baseline_image\n",
    "\n",
    "    # Load all data in post-fire period available from s2a/b_ard_granule datasets\n",
    "    post_col = load_ard(dc=dc,\n",
    "               products=['s2a_ard_granule', 's2b_ard_granule'],\n",
    "               x = (coordinates.x - 0.1, coordinates.x + 0.1),\n",
    "               y = (coordinates.y - 0.1, coordinates.y + 0.1),\n",
    "               time=(start_date_post, end_date_post),\n",
    "               measurements=['nbart_nir_1',\n",
    "                             'nbart_swir_3'],\n",
    "               min_gooddata=0.1,\n",
    "               output_crs='EPSG:32756',\n",
    "               resolution=(-10,10),\n",
    "               group_by='solar_day')\n",
    "\n",
    "    # Calculate NBR on all post-fire images\n",
    "    post_combined = calculate_indices(post_col, index='NBR', collection='ga_s2_1', drop=False)\n",
    "\n",
    "    del post_col\n",
    "\n",
    "    # Calculate the median post-fire image\n",
    "    post_image = post_combined.median(dim='time')\n",
    "\n",
    "    del post_combined\n",
    "\n",
    "    # Select NBR\n",
    "    post_NBR = post_image.NBR\n",
    "\n",
    "    del post_image\n",
    "\n",
    "    # Calculate delta\n",
    "    delta_NBR = baseline_NBR - post_NBR\n",
    "\n",
    "    del baseline_NBR\n",
    "    del post_NBR\n",
    "    \n",
    "    x = np.round_(coordinates.x, decimals=4)\n",
    "    y = np.round_(coordinates.y, decimals=4)\n",
    "\n",
    "    # Turn dNBR into a x-array dataset for export to GeoTIFF\n",
    "    dnbr_dataset = delta_NBR.to_dataset(name='burnt_area')\n",
    "    write_geotiff(f'./geotiffs/{x}_{y}_dNBR.tif', dnbr_dataset)\n",
    "        \n",
    "    del delta_NBR\n",
    "    del dnbr_dataset"
   ]
  },
  {
   "cell_type": "code",
   "execution_count": 48,
   "metadata": {
    "collapsed": true,
    "jupyter": {
     "outputs_hidden": true
    }
   },
   "outputs": [
    {
     "name": "stdout",
     "output_type": "stream",
     "text": [
      "Loading s2a_ard_granule data\n",
      "    Filtering to 12 out of 14 observations\n",
      "    Applying pixel quality mask\n",
      "Loading s2b_ard_granule data\n",
      "    Filtering to 10 out of 12 observations\n",
      "    Applying pixel quality mask\n",
      "Combining and sorting data\n",
      "Masking out invalid values\n",
      "    Returning 22 observations \n",
      "Loading s2a_ard_granule data\n",
      "    Filtering to 1 out of 1 observations\n",
      "    Applying pixel quality mask\n",
      "Loading s2b_ard_granule data\n",
      "    Filtering to 2 out of 2 observations\n",
      "    Applying pixel quality mask\n",
      "Combining and sorting data\n",
      "Masking out invalid values\n",
      "    Returning 3 observations \n"
     ]
    },
    {
     "name": "stderr",
     "output_type": "stream",
     "text": [
      "/g/data/v10/public/modules/dea/20200605/lib/python3.6/site-packages/datacube/helpers.py:34: DeprecationWarning: Function datacube.helpers.write_geotiff is deprecated,\n",
      "please use datacube.utils.cog.write_cog instead\n",
      "  category=DeprecationWarning)\n"
     ]
    },
    {
     "name": "stdout",
     "output_type": "stream",
     "text": [
      "Loading s2a_ard_granule data\n",
      "    Filtering to 10 out of 14 observations\n",
      "    Applying pixel quality mask\n",
      "Loading s2b_ard_granule data\n",
      "    Filtering to 11 out of 12 observations\n",
      "    Applying pixel quality mask\n",
      "Combining and sorting data\n",
      "Masking out invalid values\n",
      "    Returning 21 observations \n",
      "Loading s2a_ard_granule data\n",
      "    Filtering to 1 out of 1 observations\n",
      "    Applying pixel quality mask\n",
      "Loading s2b_ard_granule data\n",
      "    Filtering to 2 out of 2 observations\n",
      "    Applying pixel quality mask\n",
      "Combining and sorting data\n",
      "Masking out invalid values\n",
      "    Returning 3 observations \n"
     ]
    },
    {
     "name": "stderr",
     "output_type": "stream",
     "text": [
      "/g/data/v10/public/modules/dea/20200605/lib/python3.6/site-packages/datacube/helpers.py:34: DeprecationWarning: Function datacube.helpers.write_geotiff is deprecated,\n",
      "please use datacube.utils.cog.write_cog instead\n",
      "  category=DeprecationWarning)\n"
     ]
    },
    {
     "name": "stdout",
     "output_type": "stream",
     "text": [
      "Loading s2a_ard_granule data\n",
      "    Filtering to 11 out of 14 observations\n",
      "    Applying pixel quality mask\n",
      "Loading s2b_ard_granule data\n",
      "    Filtering to 10 out of 12 observations\n",
      "    Applying pixel quality mask\n",
      "Combining and sorting data\n",
      "Masking out invalid values\n",
      "    Returning 21 observations \n",
      "Loading s2a_ard_granule data\n",
      "    Filtering to 1 out of 1 observations\n",
      "    Applying pixel quality mask\n",
      "Loading s2b_ard_granule data\n",
      "    Filtering to 2 out of 2 observations\n",
      "    Applying pixel quality mask\n",
      "Combining and sorting data\n",
      "Masking out invalid values\n",
      "    Returning 3 observations \n"
     ]
    },
    {
     "name": "stderr",
     "output_type": "stream",
     "text": [
      "/g/data/v10/public/modules/dea/20200605/lib/python3.6/site-packages/datacube/helpers.py:34: DeprecationWarning: Function datacube.helpers.write_geotiff is deprecated,\n",
      "please use datacube.utils.cog.write_cog instead\n",
      "  category=DeprecationWarning)\n"
     ]
    },
    {
     "name": "stdout",
     "output_type": "stream",
     "text": [
      "Loading s2a_ard_granule data\n",
      "    Filtering to 11 out of 14 observations\n",
      "    Applying pixel quality mask\n",
      "Loading s2b_ard_granule data\n",
      "    Filtering to 11 out of 12 observations\n",
      "    Applying pixel quality mask\n",
      "Combining and sorting data\n",
      "Masking out invalid values\n",
      "    Returning 22 observations \n",
      "Loading s2a_ard_granule data\n",
      "    Filtering to 1 out of 1 observations\n",
      "    Applying pixel quality mask\n",
      "Loading s2b_ard_granule data\n",
      "    Filtering to 2 out of 2 observations\n",
      "    Applying pixel quality mask\n",
      "Combining and sorting data\n",
      "Masking out invalid values\n",
      "    Returning 3 observations \n"
     ]
    },
    {
     "name": "stderr",
     "output_type": "stream",
     "text": [
      "/g/data/v10/public/modules/dea/20200605/lib/python3.6/site-packages/datacube/helpers.py:34: DeprecationWarning: Function datacube.helpers.write_geotiff is deprecated,\n",
      "please use datacube.utils.cog.write_cog instead\n",
      "  category=DeprecationWarning)\n"
     ]
    },
    {
     "name": "stdout",
     "output_type": "stream",
     "text": [
      "Loading s2a_ard_granule data\n",
      "    Filtering to 10 out of 14 observations\n",
      "    Applying pixel quality mask\n",
      "Loading s2b_ard_granule data\n",
      "    Filtering to 7 out of 12 observations\n",
      "    Applying pixel quality mask\n",
      "Combining and sorting data\n",
      "Masking out invalid values\n",
      "    Returning 17 observations \n",
      "Loading s2a_ard_granule data\n",
      "    Filtering to 1 out of 1 observations\n",
      "    Applying pixel quality mask\n",
      "Loading s2b_ard_granule data\n",
      "    Filtering to 2 out of 2 observations\n",
      "    Applying pixel quality mask\n",
      "Combining and sorting data\n",
      "Masking out invalid values\n",
      "    Returning 3 observations \n"
     ]
    },
    {
     "name": "stderr",
     "output_type": "stream",
     "text": [
      "/g/data/v10/public/modules/dea/20200605/lib/python3.6/site-packages/datacube/helpers.py:34: DeprecationWarning: Function datacube.helpers.write_geotiff is deprecated,\n",
      "please use datacube.utils.cog.write_cog instead\n",
      "  category=DeprecationWarning)\n"
     ]
    },
    {
     "name": "stdout",
     "output_type": "stream",
     "text": [
      "Loading s2a_ard_granule data\n",
      "    Filtering to 12 out of 14 observations\n",
      "    Applying pixel quality mask\n",
      "Loading s2b_ard_granule data\n",
      "    Filtering to 10 out of 12 observations\n",
      "    Applying pixel quality mask\n",
      "Combining and sorting data\n",
      "Masking out invalid values\n",
      "    Returning 22 observations \n",
      "Loading s2a_ard_granule data\n",
      "    Filtering to 1 out of 1 observations\n",
      "    Applying pixel quality mask\n",
      "Loading s2b_ard_granule data\n",
      "    Filtering to 2 out of 2 observations\n",
      "    Applying pixel quality mask\n",
      "Combining and sorting data\n",
      "Masking out invalid values\n",
      "    Returning 3 observations \n"
     ]
    },
    {
     "name": "stderr",
     "output_type": "stream",
     "text": [
      "/g/data/v10/public/modules/dea/20200605/lib/python3.6/site-packages/datacube/helpers.py:34: DeprecationWarning: Function datacube.helpers.write_geotiff is deprecated,\n",
      "please use datacube.utils.cog.write_cog instead\n",
      "  category=DeprecationWarning)\n"
     ]
    },
    {
     "name": "stdout",
     "output_type": "stream",
     "text": [
      "Loading s2a_ard_granule data\n",
      "    Filtering to 12 out of 14 observations\n",
      "    Applying pixel quality mask\n",
      "Loading s2b_ard_granule data\n",
      "    Filtering to 11 out of 12 observations\n",
      "    Applying pixel quality mask\n",
      "Combining and sorting data\n",
      "Masking out invalid values\n",
      "    Returning 23 observations \n",
      "Loading s2a_ard_granule data\n",
      "    Filtering to 1 out of 1 observations\n",
      "    Applying pixel quality mask\n",
      "Loading s2b_ard_granule data\n",
      "    Filtering to 2 out of 2 observations\n",
      "    Applying pixel quality mask\n",
      "Combining and sorting data\n",
      "Masking out invalid values\n",
      "    Returning 3 observations \n"
     ]
    },
    {
     "name": "stderr",
     "output_type": "stream",
     "text": [
      "/g/data/v10/public/modules/dea/20200605/lib/python3.6/site-packages/datacube/helpers.py:34: DeprecationWarning: Function datacube.helpers.write_geotiff is deprecated,\n",
      "please use datacube.utils.cog.write_cog instead\n",
      "  category=DeprecationWarning)\n"
     ]
    },
    {
     "name": "stdout",
     "output_type": "stream",
     "text": [
      "Loading s2a_ard_granule data\n",
      "    Filtering to 12 out of 14 observations\n",
      "    Applying pixel quality mask\n",
      "Loading s2b_ard_granule data\n",
      "    Filtering to 9 out of 12 observations\n",
      "    Applying pixel quality mask\n",
      "Combining and sorting data\n",
      "Masking out invalid values\n",
      "    Returning 21 observations \n",
      "Loading s2a_ard_granule data\n",
      "    Filtering to 1 out of 1 observations\n",
      "    Applying pixel quality mask\n",
      "Loading s2b_ard_granule data\n",
      "    Filtering to 2 out of 2 observations\n",
      "    Applying pixel quality mask\n",
      "Combining and sorting data\n",
      "Masking out invalid values\n",
      "    Returning 3 observations \n"
     ]
    },
    {
     "name": "stderr",
     "output_type": "stream",
     "text": [
      "/g/data/v10/public/modules/dea/20200605/lib/python3.6/site-packages/datacube/helpers.py:34: DeprecationWarning: Function datacube.helpers.write_geotiff is deprecated,\n",
      "please use datacube.utils.cog.write_cog instead\n",
      "  category=DeprecationWarning)\n"
     ]
    },
    {
     "name": "stdout",
     "output_type": "stream",
     "text": [
      "Loading s2a_ard_granule data\n",
      "    Filtering to 11 out of 14 observations\n",
      "    Applying pixel quality mask\n",
      "Loading s2b_ard_granule data\n",
      "    Filtering to 9 out of 12 observations\n",
      "    Applying pixel quality mask\n",
      "Combining and sorting data\n",
      "Masking out invalid values\n",
      "    Returning 20 observations \n",
      "Loading s2a_ard_granule data\n",
      "    Filtering to 1 out of 1 observations\n",
      "    Applying pixel quality mask\n",
      "Loading s2b_ard_granule data\n",
      "    Filtering to 2 out of 2 observations\n",
      "    Applying pixel quality mask\n",
      "Combining and sorting data\n",
      "Masking out invalid values\n",
      "    Returning 3 observations \n"
     ]
    },
    {
     "name": "stderr",
     "output_type": "stream",
     "text": [
      "/g/data/v10/public/modules/dea/20200605/lib/python3.6/site-packages/datacube/helpers.py:34: DeprecationWarning: Function datacube.helpers.write_geotiff is deprecated,\n",
      "please use datacube.utils.cog.write_cog instead\n",
      "  category=DeprecationWarning)\n"
     ]
    },
    {
     "name": "stdout",
     "output_type": "stream",
     "text": [
      "Loading s2a_ard_granule data\n",
      "    Filtering to 13 out of 14 observations\n",
      "    Applying pixel quality mask\n",
      "Loading s2b_ard_granule data\n",
      "    Filtering to 10 out of 12 observations\n",
      "    Applying pixel quality mask\n",
      "Combining and sorting data\n",
      "Masking out invalid values\n",
      "    Returning 23 observations \n",
      "Loading s2a_ard_granule data\n",
      "    Filtering to 1 out of 1 observations\n",
      "    Applying pixel quality mask\n",
      "Loading s2b_ard_granule data\n",
      "    Filtering to 2 out of 2 observations\n",
      "    Applying pixel quality mask\n",
      "Combining and sorting data\n",
      "Masking out invalid values\n",
      "    Returning 3 observations \n"
     ]
    },
    {
     "name": "stderr",
     "output_type": "stream",
     "text": [
      "/g/data/v10/public/modules/dea/20200605/lib/python3.6/site-packages/datacube/helpers.py:34: DeprecationWarning: Function datacube.helpers.write_geotiff is deprecated,\n",
      "please use datacube.utils.cog.write_cog instead\n",
      "  category=DeprecationWarning)\n"
     ]
    },
    {
     "name": "stdout",
     "output_type": "stream",
     "text": [
      "Loading s2a_ard_granule data\n",
      "    Filtering to 11 out of 14 observations\n",
      "    Applying pixel quality mask\n",
      "Loading s2b_ard_granule data\n",
      "    Filtering to 8 out of 12 observations\n",
      "    Applying pixel quality mask\n",
      "Combining and sorting data\n",
      "Masking out invalid values\n",
      "    Returning 19 observations \n",
      "Loading s2a_ard_granule data\n",
      "    Filtering to 1 out of 1 observations\n",
      "    Applying pixel quality mask\n",
      "Loading s2b_ard_granule data\n",
      "    Filtering to 2 out of 2 observations\n",
      "    Applying pixel quality mask\n",
      "Combining and sorting data\n",
      "Masking out invalid values\n",
      "    Returning 3 observations \n"
     ]
    },
    {
     "name": "stderr",
     "output_type": "stream",
     "text": [
      "/g/data/v10/public/modules/dea/20200605/lib/python3.6/site-packages/datacube/helpers.py:34: DeprecationWarning: Function datacube.helpers.write_geotiff is deprecated,\n",
      "please use datacube.utils.cog.write_cog instead\n",
      "  category=DeprecationWarning)\n"
     ]
    },
    {
     "name": "stdout",
     "output_type": "stream",
     "text": [
      "Loading s2a_ard_granule data\n",
      "    Filtering to 13 out of 14 observations\n",
      "    Applying pixel quality mask\n",
      "Loading s2b_ard_granule data\n",
      "    Filtering to 11 out of 12 observations\n",
      "    Applying pixel quality mask\n",
      "Combining and sorting data\n",
      "Masking out invalid values\n",
      "    Returning 24 observations \n",
      "Loading s2a_ard_granule data\n",
      "    Filtering to 1 out of 1 observations\n",
      "    Applying pixel quality mask\n",
      "Loading s2b_ard_granule data\n",
      "    Filtering to 2 out of 2 observations\n",
      "    Applying pixel quality mask\n",
      "Combining and sorting data\n",
      "Masking out invalid values\n",
      "    Returning 3 observations \n"
     ]
    },
    {
     "name": "stderr",
     "output_type": "stream",
     "text": [
      "/g/data/v10/public/modules/dea/20200605/lib/python3.6/site-packages/datacube/helpers.py:34: DeprecationWarning: Function datacube.helpers.write_geotiff is deprecated,\n",
      "please use datacube.utils.cog.write_cog instead\n",
      "  category=DeprecationWarning)\n"
     ]
    },
    {
     "name": "stdout",
     "output_type": "stream",
     "text": [
      "Loading s2a_ard_granule data\n",
      "    Filtering to 8 out of 14 observations\n",
      "    Applying pixel quality mask\n",
      "Loading s2b_ard_granule data\n",
      "    Filtering to 10 out of 12 observations\n",
      "    Applying pixel quality mask\n",
      "Combining and sorting data\n",
      "Masking out invalid values\n",
      "    Returning 18 observations \n",
      "Loading s2a_ard_granule data\n",
      "    Filtering to 1 out of 1 observations\n",
      "    Applying pixel quality mask\n",
      "Loading s2b_ard_granule data\n",
      "    Filtering to 2 out of 2 observations\n",
      "    Applying pixel quality mask\n",
      "Combining and sorting data\n",
      "Masking out invalid values\n",
      "    Returning 3 observations \n"
     ]
    },
    {
     "name": "stderr",
     "output_type": "stream",
     "text": [
      "/g/data/v10/public/modules/dea/20200605/lib/python3.6/site-packages/datacube/helpers.py:34: DeprecationWarning: Function datacube.helpers.write_geotiff is deprecated,\n",
      "please use datacube.utils.cog.write_cog instead\n",
      "  category=DeprecationWarning)\n"
     ]
    },
    {
     "name": "stdout",
     "output_type": "stream",
     "text": [
      "Loading s2a_ard_granule data\n",
      "    Filtering to 11 out of 14 observations\n",
      "    Applying pixel quality mask\n",
      "Loading s2b_ard_granule data\n",
      "    Filtering to 11 out of 12 observations\n",
      "    Applying pixel quality mask\n",
      "Combining and sorting data\n",
      "Masking out invalid values\n",
      "    Returning 22 observations \n",
      "Loading s2a_ard_granule data\n",
      "    Filtering to 1 out of 1 observations\n",
      "    Applying pixel quality mask\n",
      "Loading s2b_ard_granule data\n",
      "    Filtering to 2 out of 2 observations\n",
      "    Applying pixel quality mask\n",
      "Combining and sorting data\n",
      "Masking out invalid values\n",
      "    Returning 3 observations \n"
     ]
    },
    {
     "name": "stderr",
     "output_type": "stream",
     "text": [
      "/g/data/v10/public/modules/dea/20200605/lib/python3.6/site-packages/datacube/helpers.py:34: DeprecationWarning: Function datacube.helpers.write_geotiff is deprecated,\n",
      "please use datacube.utils.cog.write_cog instead\n",
      "  category=DeprecationWarning)\n"
     ]
    },
    {
     "name": "stdout",
     "output_type": "stream",
     "text": [
      "Loading s2a_ard_granule data\n",
      "    Filtering to 8 out of 14 observations\n",
      "    Applying pixel quality mask\n",
      "Loading s2b_ard_granule data\n",
      "    Filtering to 9 out of 12 observations\n",
      "    Applying pixel quality mask\n",
      "Combining and sorting data\n",
      "Masking out invalid values\n",
      "    Returning 17 observations \n",
      "Loading s2a_ard_granule data\n",
      "    Filtering to 1 out of 1 observations\n",
      "    Applying pixel quality mask\n",
      "Loading s2b_ard_granule data\n",
      "    Filtering to 2 out of 2 observations\n",
      "    Applying pixel quality mask\n",
      "Combining and sorting data\n",
      "Masking out invalid values\n",
      "    Returning 3 observations \n"
     ]
    },
    {
     "name": "stderr",
     "output_type": "stream",
     "text": [
      "/g/data/v10/public/modules/dea/20200605/lib/python3.6/site-packages/datacube/helpers.py:34: DeprecationWarning: Function datacube.helpers.write_geotiff is deprecated,\n",
      "please use datacube.utils.cog.write_cog instead\n",
      "  category=DeprecationWarning)\n"
     ]
    },
    {
     "name": "stdout",
     "output_type": "stream",
     "text": [
      "Loading s2a_ard_granule data\n",
      "    Filtering to 11 out of 14 observations\n",
      "    Applying pixel quality mask\n",
      "Loading s2b_ard_granule data\n",
      "    Filtering to 11 out of 12 observations\n",
      "    Applying pixel quality mask\n",
      "Combining and sorting data\n",
      "Masking out invalid values\n",
      "    Returning 22 observations \n",
      "Loading s2a_ard_granule data\n",
      "    Filtering to 1 out of 1 observations\n",
      "    Applying pixel quality mask\n",
      "Loading s2b_ard_granule data\n",
      "    Filtering to 2 out of 2 observations\n",
      "    Applying pixel quality mask\n",
      "Combining and sorting data\n",
      "Masking out invalid values\n",
      "    Returning 3 observations \n"
     ]
    },
    {
     "name": "stderr",
     "output_type": "stream",
     "text": [
      "/g/data/v10/public/modules/dea/20200605/lib/python3.6/site-packages/datacube/helpers.py:34: DeprecationWarning: Function datacube.helpers.write_geotiff is deprecated,\n",
      "please use datacube.utils.cog.write_cog instead\n",
      "  category=DeprecationWarning)\n"
     ]
    },
    {
     "name": "stdout",
     "output_type": "stream",
     "text": [
      "Loading s2a_ard_granule data\n",
      "    Filtering to 11 out of 14 observations\n",
      "    Applying pixel quality mask\n",
      "Loading s2b_ard_granule data\n",
      "    Filtering to 9 out of 12 observations\n",
      "    Applying pixel quality mask\n",
      "Combining and sorting data\n",
      "Masking out invalid values\n",
      "    Returning 20 observations \n",
      "Loading s2a_ard_granule data\n",
      "    Filtering to 1 out of 1 observations\n",
      "    Applying pixel quality mask\n",
      "Loading s2b_ard_granule data\n",
      "    Filtering to 2 out of 2 observations\n",
      "    Applying pixel quality mask\n",
      "Combining and sorting data\n",
      "Masking out invalid values\n",
      "    Returning 3 observations \n"
     ]
    },
    {
     "name": "stderr",
     "output_type": "stream",
     "text": [
      "/g/data/v10/public/modules/dea/20200605/lib/python3.6/site-packages/datacube/helpers.py:34: DeprecationWarning: Function datacube.helpers.write_geotiff is deprecated,\n",
      "please use datacube.utils.cog.write_cog instead\n",
      "  category=DeprecationWarning)\n"
     ]
    },
    {
     "name": "stdout",
     "output_type": "stream",
     "text": [
      "Loading s2a_ard_granule data\n",
      "    Filtering to 11 out of 14 observations\n",
      "    Applying pixel quality mask\n",
      "Loading s2b_ard_granule data\n",
      "    Filtering to 10 out of 12 observations\n",
      "    Applying pixel quality mask\n",
      "Combining and sorting data\n",
      "Masking out invalid values\n",
      "    Returning 21 observations \n",
      "Loading s2a_ard_granule data\n",
      "    Filtering to 1 out of 1 observations\n",
      "    Applying pixel quality mask\n",
      "Loading s2b_ard_granule data\n",
      "    Filtering to 2 out of 2 observations\n",
      "    Applying pixel quality mask\n",
      "Combining and sorting data\n",
      "Masking out invalid values\n",
      "    Returning 3 observations \n"
     ]
    },
    {
     "name": "stderr",
     "output_type": "stream",
     "text": [
      "/g/data/v10/public/modules/dea/20200605/lib/python3.6/site-packages/datacube/helpers.py:34: DeprecationWarning: Function datacube.helpers.write_geotiff is deprecated,\n",
      "please use datacube.utils.cog.write_cog instead\n",
      "  category=DeprecationWarning)\n"
     ]
    },
    {
     "name": "stdout",
     "output_type": "stream",
     "text": [
      "Loading s2a_ard_granule data\n",
      "    Filtering to 5 out of 14 observations\n",
      "    Applying pixel quality mask\n",
      "Loading s2b_ard_granule data\n",
      "    Filtering to 6 out of 12 observations\n",
      "    Applying pixel quality mask\n",
      "Combining and sorting data\n",
      "Masking out invalid values\n",
      "    Returning 11 observations \n",
      "Loading s2a_ard_granule data\n",
      "    Filtering to 0 out of 1 observations\n",
      "Loading s2b_ard_granule data\n",
      "    Filtering to 1 out of 2 observations\n",
      "    Applying pixel quality mask\n",
      "Combining and sorting data\n",
      "Masking out invalid values\n",
      "    Returning 1 observations \n"
     ]
    },
    {
     "name": "stderr",
     "output_type": "stream",
     "text": [
      "/g/data/v10/public/modules/dea/20200605/lib/python3.6/site-packages/datacube/helpers.py:34: DeprecationWarning: Function datacube.helpers.write_geotiff is deprecated,\n",
      "please use datacube.utils.cog.write_cog instead\n",
      "  category=DeprecationWarning)\n"
     ]
    },
    {
     "name": "stdout",
     "output_type": "stream",
     "text": [
      "Loading s2a_ard_granule data\n",
      "    Filtering to 12 out of 14 observations\n",
      "    Applying pixel quality mask\n",
      "Loading s2b_ard_granule data\n",
      "    Filtering to 10 out of 12 observations\n",
      "    Applying pixel quality mask\n",
      "Combining and sorting data\n",
      "Masking out invalid values\n",
      "    Returning 22 observations \n",
      "Loading s2a_ard_granule data\n",
      "    Filtering to 0 out of 1 observations\n",
      "Loading s2b_ard_granule data\n",
      "    Filtering to 2 out of 2 observations\n",
      "    Applying pixel quality mask\n",
      "Combining and sorting data\n",
      "Masking out invalid values\n",
      "    Returning 2 observations \n"
     ]
    },
    {
     "name": "stderr",
     "output_type": "stream",
     "text": [
      "/g/data/v10/public/modules/dea/20200605/lib/python3.6/site-packages/datacube/helpers.py:34: DeprecationWarning: Function datacube.helpers.write_geotiff is deprecated,\n",
      "please use datacube.utils.cog.write_cog instead\n",
      "  category=DeprecationWarning)\n"
     ]
    },
    {
     "name": "stdout",
     "output_type": "stream",
     "text": [
      "Loading s2a_ard_granule data\n",
      "    Filtering to 5 out of 7 observations\n",
      "    Applying pixel quality mask\n",
      "Loading s2b_ard_granule data\n",
      "    Filtering to 6 out of 6 observations\n",
      "    Applying pixel quality mask\n",
      "Combining and sorting data\n",
      "Masking out invalid values\n",
      "    Returning 11 observations \n",
      "Loading s2a_ard_granule data\n",
      "    No data for s2a_ard_granule\n",
      "Loading s2b_ard_granule data\n",
      "    Filtering to 1 out of 1 observations\n",
      "    Applying pixel quality mask\n",
      "Combining and sorting data\n",
      "Masking out invalid values\n",
      "    Returning 1 observations \n"
     ]
    },
    {
     "name": "stderr",
     "output_type": "stream",
     "text": [
      "/g/data/v10/public/modules/dea/20200605/lib/python3.6/site-packages/datacube/helpers.py:34: DeprecationWarning: Function datacube.helpers.write_geotiff is deprecated,\n",
      "please use datacube.utils.cog.write_cog instead\n",
      "  category=DeprecationWarning)\n"
     ]
    },
    {
     "name": "stdout",
     "output_type": "stream",
     "text": [
      "Loading s2a_ard_granule data\n",
      "    Filtering to 12 out of 14 observations\n",
      "    Applying pixel quality mask\n",
      "Loading s2b_ard_granule data\n",
      "    Filtering to 10 out of 12 observations\n",
      "    Applying pixel quality mask\n",
      "Combining and sorting data\n",
      "Masking out invalid values\n",
      "    Returning 22 observations \n",
      "Loading s2a_ard_granule data\n",
      "    Filtering to 1 out of 1 observations\n",
      "    Applying pixel quality mask\n",
      "Loading s2b_ard_granule data\n",
      "    Filtering to 2 out of 2 observations\n",
      "    Applying pixel quality mask\n",
      "Combining and sorting data\n",
      "Masking out invalid values\n",
      "    Returning 3 observations \n"
     ]
    },
    {
     "name": "stderr",
     "output_type": "stream",
     "text": [
      "/g/data/v10/public/modules/dea/20200605/lib/python3.6/site-packages/datacube/helpers.py:34: DeprecationWarning: Function datacube.helpers.write_geotiff is deprecated,\n",
      "please use datacube.utils.cog.write_cog instead\n",
      "  category=DeprecationWarning)\n"
     ]
    },
    {
     "name": "stdout",
     "output_type": "stream",
     "text": [
      "Loading s2a_ard_granule data\n",
      "    Filtering to 4 out of 7 observations\n",
      "    Applying pixel quality mask\n",
      "Loading s2b_ard_granule data\n",
      "    Filtering to 5 out of 6 observations\n",
      "    Applying pixel quality mask\n",
      "Combining and sorting data\n",
      "Masking out invalid values\n",
      "    Returning 9 observations \n",
      "Loading s2a_ard_granule data\n",
      "    No data for s2a_ard_granule\n",
      "Loading s2b_ard_granule data\n",
      "    Filtering to 1 out of 1 observations\n",
      "    Applying pixel quality mask\n",
      "Combining and sorting data\n",
      "Masking out invalid values\n",
      "    Returning 1 observations \n"
     ]
    },
    {
     "name": "stderr",
     "output_type": "stream",
     "text": [
      "/g/data/v10/public/modules/dea/20200605/lib/python3.6/site-packages/datacube/helpers.py:34: DeprecationWarning: Function datacube.helpers.write_geotiff is deprecated,\n",
      "please use datacube.utils.cog.write_cog instead\n",
      "  category=DeprecationWarning)\n"
     ]
    },
    {
     "name": "stdout",
     "output_type": "stream",
     "text": [
      "Loading s2a_ard_granule data\n",
      "    Filtering to 12 out of 14 observations\n",
      "    Applying pixel quality mask\n",
      "Loading s2b_ard_granule data\n",
      "    Filtering to 10 out of 12 observations\n",
      "    Applying pixel quality mask\n",
      "Combining and sorting data\n",
      "Masking out invalid values\n",
      "    Returning 22 observations \n",
      "Loading s2a_ard_granule data\n",
      "    Filtering to 1 out of 1 observations\n",
      "    Applying pixel quality mask\n",
      "Loading s2b_ard_granule data\n",
      "    Filtering to 2 out of 2 observations\n",
      "    Applying pixel quality mask\n",
      "Combining and sorting data\n",
      "Masking out invalid values\n",
      "    Returning 3 observations \n"
     ]
    },
    {
     "name": "stderr",
     "output_type": "stream",
     "text": [
      "/g/data/v10/public/modules/dea/20200605/lib/python3.6/site-packages/datacube/helpers.py:34: DeprecationWarning: Function datacube.helpers.write_geotiff is deprecated,\n",
      "please use datacube.utils.cog.write_cog instead\n",
      "  category=DeprecationWarning)\n"
     ]
    },
    {
     "name": "stdout",
     "output_type": "stream",
     "text": [
      "Loading s2a_ard_granule data\n",
      "    Filtering to 10 out of 14 observations\n",
      "    Applying pixel quality mask\n",
      "Loading s2b_ard_granule data\n",
      "    Filtering to 10 out of 12 observations\n",
      "    Applying pixel quality mask\n",
      "Combining and sorting data\n",
      "Masking out invalid values\n",
      "    Returning 20 observations \n",
      "Loading s2a_ard_granule data\n",
      "    Filtering to 1 out of 1 observations\n",
      "    Applying pixel quality mask\n",
      "Loading s2b_ard_granule data\n",
      "    Filtering to 2 out of 2 observations\n",
      "    Applying pixel quality mask\n",
      "Combining and sorting data\n",
      "Masking out invalid values\n",
      "    Returning 3 observations \n"
     ]
    },
    {
     "name": "stderr",
     "output_type": "stream",
     "text": [
      "/g/data/v10/public/modules/dea/20200605/lib/python3.6/site-packages/datacube/helpers.py:34: DeprecationWarning: Function datacube.helpers.write_geotiff is deprecated,\n",
      "please use datacube.utils.cog.write_cog instead\n",
      "  category=DeprecationWarning)\n"
     ]
    },
    {
     "name": "stdout",
     "output_type": "stream",
     "text": [
      "Loading s2a_ard_granule data\n",
      "    Filtering to 10 out of 14 observations\n",
      "    Applying pixel quality mask\n",
      "Loading s2b_ard_granule data\n",
      "    Filtering to 10 out of 12 observations\n",
      "    Applying pixel quality mask\n",
      "Combining and sorting data\n",
      "Masking out invalid values\n",
      "    Returning 20 observations \n",
      "Loading s2a_ard_granule data\n",
      "    Filtering to 1 out of 1 observations\n",
      "    Applying pixel quality mask\n",
      "Loading s2b_ard_granule data\n",
      "    Filtering to 2 out of 2 observations\n",
      "    Applying pixel quality mask\n",
      "Combining and sorting data\n",
      "Masking out invalid values\n",
      "    Returning 3 observations \n"
     ]
    },
    {
     "name": "stderr",
     "output_type": "stream",
     "text": [
      "/g/data/v10/public/modules/dea/20200605/lib/python3.6/site-packages/datacube/helpers.py:34: DeprecationWarning: Function datacube.helpers.write_geotiff is deprecated,\n",
      "please use datacube.utils.cog.write_cog instead\n",
      "  category=DeprecationWarning)\n"
     ]
    },
    {
     "name": "stdout",
     "output_type": "stream",
     "text": [
      "Loading s2a_ard_granule data\n",
      "    Filtering to 9 out of 14 observations\n",
      "    Applying pixel quality mask\n",
      "Loading s2b_ard_granule data\n",
      "    Filtering to 9 out of 12 observations\n",
      "    Applying pixel quality mask\n",
      "Combining and sorting data\n",
      "Masking out invalid values\n",
      "    Returning 18 observations \n",
      "Loading s2a_ard_granule data\n",
      "    Filtering to 1 out of 1 observations\n",
      "    Applying pixel quality mask\n",
      "Loading s2b_ard_granule data\n",
      "    Filtering to 2 out of 2 observations\n",
      "    Applying pixel quality mask\n",
      "Combining and sorting data\n",
      "Masking out invalid values\n",
      "    Returning 3 observations \n"
     ]
    },
    {
     "name": "stderr",
     "output_type": "stream",
     "text": [
      "/g/data/v10/public/modules/dea/20200605/lib/python3.6/site-packages/datacube/helpers.py:34: DeprecationWarning: Function datacube.helpers.write_geotiff is deprecated,\n",
      "please use datacube.utils.cog.write_cog instead\n",
      "  category=DeprecationWarning)\n"
     ]
    },
    {
     "name": "stdout",
     "output_type": "stream",
     "text": [
      "Loading s2a_ard_granule data\n",
      "    Filtering to 10 out of 14 observations\n",
      "    Applying pixel quality mask\n",
      "Loading s2b_ard_granule data\n",
      "    Filtering to 10 out of 12 observations\n",
      "    Applying pixel quality mask\n",
      "Combining and sorting data\n",
      "Masking out invalid values\n",
      "    Returning 20 observations \n",
      "Loading s2a_ard_granule data\n",
      "    Filtering to 1 out of 1 observations\n",
      "    Applying pixel quality mask\n",
      "Loading s2b_ard_granule data\n",
      "    Filtering to 2 out of 2 observations\n",
      "    Applying pixel quality mask\n",
      "Combining and sorting data\n",
      "Masking out invalid values\n",
      "    Returning 3 observations \n"
     ]
    },
    {
     "name": "stderr",
     "output_type": "stream",
     "text": [
      "/g/data/v10/public/modules/dea/20200605/lib/python3.6/site-packages/datacube/helpers.py:34: DeprecationWarning: Function datacube.helpers.write_geotiff is deprecated,\n",
      "please use datacube.utils.cog.write_cog instead\n",
      "  category=DeprecationWarning)\n"
     ]
    },
    {
     "name": "stdout",
     "output_type": "stream",
     "text": [
      "Loading s2a_ard_granule data\n",
      "    Filtering to 9 out of 14 observations\n",
      "    Applying pixel quality mask\n",
      "Loading s2b_ard_granule data\n",
      "    Filtering to 9 out of 12 observations\n",
      "    Applying pixel quality mask\n",
      "Combining and sorting data\n",
      "Masking out invalid values\n",
      "    Returning 18 observations \n",
      "Loading s2a_ard_granule data\n",
      "    Filtering to 1 out of 1 observations\n",
      "    Applying pixel quality mask\n",
      "Loading s2b_ard_granule data\n",
      "    Filtering to 2 out of 2 observations\n",
      "    Applying pixel quality mask\n",
      "Combining and sorting data\n",
      "Masking out invalid values\n",
      "    Returning 3 observations \n"
     ]
    },
    {
     "name": "stderr",
     "output_type": "stream",
     "text": [
      "/g/data/v10/public/modules/dea/20200605/lib/python3.6/site-packages/datacube/helpers.py:34: DeprecationWarning: Function datacube.helpers.write_geotiff is deprecated,\n",
      "please use datacube.utils.cog.write_cog instead\n",
      "  category=DeprecationWarning)\n"
     ]
    },
    {
     "name": "stdout",
     "output_type": "stream",
     "text": [
      "Loading s2a_ard_granule data\n",
      "    Filtering to 9 out of 14 observations\n",
      "    Applying pixel quality mask\n",
      "Loading s2b_ard_granule data\n",
      "    Filtering to 10 out of 12 observations\n",
      "    Applying pixel quality mask\n",
      "Combining and sorting data\n",
      "Masking out invalid values\n",
      "    Returning 19 observations \n",
      "Loading s2a_ard_granule data\n",
      "    Filtering to 1 out of 1 observations\n",
      "    Applying pixel quality mask\n",
      "Loading s2b_ard_granule data\n",
      "    Filtering to 2 out of 2 observations\n",
      "    Applying pixel quality mask\n",
      "Combining and sorting data\n",
      "Masking out invalid values\n",
      "    Returning 3 observations \n"
     ]
    },
    {
     "name": "stderr",
     "output_type": "stream",
     "text": [
      "/g/data/v10/public/modules/dea/20200605/lib/python3.6/site-packages/datacube/helpers.py:34: DeprecationWarning: Function datacube.helpers.write_geotiff is deprecated,\n",
      "please use datacube.utils.cog.write_cog instead\n",
      "  category=DeprecationWarning)\n"
     ]
    },
    {
     "name": "stdout",
     "output_type": "stream",
     "text": [
      "Loading s2a_ard_granule data\n",
      "    Filtering to 6 out of 7 observations\n",
      "    Applying pixel quality mask\n",
      "Loading s2b_ard_granule data\n",
      "    Filtering to 5 out of 6 observations\n",
      "    Applying pixel quality mask\n",
      "Combining and sorting data\n",
      "Masking out invalid values\n",
      "    Returning 11 observations \n",
      "Loading s2a_ard_granule data\n",
      "    No data for s2a_ard_granule\n",
      "Loading s2b_ard_granule data\n",
      "    Filtering to 1 out of 1 observations\n",
      "    Applying pixel quality mask\n",
      "Combining and sorting data\n",
      "Masking out invalid values\n",
      "    Returning 1 observations \n"
     ]
    },
    {
     "name": "stderr",
     "output_type": "stream",
     "text": [
      "/g/data/v10/public/modules/dea/20200605/lib/python3.6/site-packages/datacube/helpers.py:34: DeprecationWarning: Function datacube.helpers.write_geotiff is deprecated,\n",
      "please use datacube.utils.cog.write_cog instead\n",
      "  category=DeprecationWarning)\n"
     ]
    },
    {
     "name": "stdout",
     "output_type": "stream",
     "text": [
      "Loading s2a_ard_granule data\n",
      "    Filtering to 7 out of 7 observations\n",
      "    Applying pixel quality mask\n",
      "Loading s2b_ard_granule data\n",
      "    Filtering to 5 out of 6 observations\n",
      "    Applying pixel quality mask\n",
      "Combining and sorting data\n",
      "Masking out invalid values\n",
      "    Returning 12 observations \n",
      "Loading s2a_ard_granule data\n",
      "    No data for s2a_ard_granule\n",
      "Loading s2b_ard_granule data\n",
      "    Filtering to 1 out of 1 observations\n",
      "    Applying pixel quality mask\n",
      "Combining and sorting data\n",
      "Masking out invalid values\n",
      "    Returning 1 observations \n"
     ]
    },
    {
     "name": "stderr",
     "output_type": "stream",
     "text": [
      "/g/data/v10/public/modules/dea/20200605/lib/python3.6/site-packages/datacube/helpers.py:34: DeprecationWarning: Function datacube.helpers.write_geotiff is deprecated,\n",
      "please use datacube.utils.cog.write_cog instead\n",
      "  category=DeprecationWarning)\n"
     ]
    },
    {
     "name": "stdout",
     "output_type": "stream",
     "text": [
      "Loading s2a_ard_granule data\n",
      "    Filtering to 5 out of 7 observations\n",
      "    Applying pixel quality mask\n",
      "Loading s2b_ard_granule data\n",
      "    Filtering to 6 out of 6 observations\n",
      "    Applying pixel quality mask\n",
      "Combining and sorting data\n",
      "Masking out invalid values\n",
      "    Returning 11 observations \n",
      "Loading s2a_ard_granule data\n",
      "    No data for s2a_ard_granule\n",
      "Loading s2b_ard_granule data\n",
      "    Filtering to 1 out of 1 observations\n",
      "    Applying pixel quality mask\n",
      "Combining and sorting data\n",
      "Masking out invalid values\n",
      "    Returning 1 observations \n"
     ]
    },
    {
     "name": "stderr",
     "output_type": "stream",
     "text": [
      "/g/data/v10/public/modules/dea/20200605/lib/python3.6/site-packages/datacube/helpers.py:34: DeprecationWarning: Function datacube.helpers.write_geotiff is deprecated,\n",
      "please use datacube.utils.cog.write_cog instead\n",
      "  category=DeprecationWarning)\n"
     ]
    },
    {
     "name": "stdout",
     "output_type": "stream",
     "text": [
      "Loading s2a_ard_granule data\n",
      "    Filtering to 7 out of 7 observations\n",
      "    Applying pixel quality mask\n",
      "Loading s2b_ard_granule data\n",
      "    Filtering to 5 out of 6 observations\n",
      "    Applying pixel quality mask\n",
      "Combining and sorting data\n",
      "Masking out invalid values\n",
      "    Returning 12 observations \n",
      "Loading s2a_ard_granule data\n",
      "    No data for s2a_ard_granule\n",
      "Loading s2b_ard_granule data\n",
      "    Filtering to 1 out of 1 observations\n",
      "    Applying pixel quality mask\n",
      "Combining and sorting data\n",
      "Masking out invalid values\n",
      "    Returning 1 observations \n"
     ]
    },
    {
     "name": "stderr",
     "output_type": "stream",
     "text": [
      "/g/data/v10/public/modules/dea/20200605/lib/python3.6/site-packages/datacube/helpers.py:34: DeprecationWarning: Function datacube.helpers.write_geotiff is deprecated,\n",
      "please use datacube.utils.cog.write_cog instead\n",
      "  category=DeprecationWarning)\n"
     ]
    },
    {
     "name": "stdout",
     "output_type": "stream",
     "text": [
      "Loading s2a_ard_granule data\n",
      "    Filtering to 5 out of 7 observations\n",
      "    Applying pixel quality mask\n",
      "Loading s2b_ard_granule data\n",
      "    Filtering to 5 out of 6 observations\n",
      "    Applying pixel quality mask\n",
      "Combining and sorting data\n",
      "Masking out invalid values\n",
      "    Returning 10 observations \n",
      "Loading s2a_ard_granule data\n",
      "    No data for s2a_ard_granule\n",
      "Loading s2b_ard_granule data\n",
      "    Filtering to 1 out of 1 observations\n",
      "    Applying pixel quality mask\n",
      "Combining and sorting data\n",
      "Masking out invalid values\n",
      "    Returning 1 observations \n"
     ]
    },
    {
     "name": "stderr",
     "output_type": "stream",
     "text": [
      "/g/data/v10/public/modules/dea/20200605/lib/python3.6/site-packages/datacube/helpers.py:34: DeprecationWarning: Function datacube.helpers.write_geotiff is deprecated,\n",
      "please use datacube.utils.cog.write_cog instead\n",
      "  category=DeprecationWarning)\n"
     ]
    },
    {
     "name": "stdout",
     "output_type": "stream",
     "text": [
      "Loading s2a_ard_granule data\n",
      "    Filtering to 7 out of 11 observations\n",
      "    Applying pixel quality mask\n",
      "Loading s2b_ard_granule data\n",
      "    Filtering to 4 out of 9 observations\n",
      "    Applying pixel quality mask\n",
      "Combining and sorting data\n",
      "Masking out invalid values\n",
      "    Returning 11 observations \n",
      "Loading s2a_ard_granule data\n",
      "    No data for s2a_ard_granule\n",
      "Loading s2b_ard_granule data\n",
      "    Filtering to 1 out of 1 observations\n",
      "    Applying pixel quality mask\n",
      "Combining and sorting data\n",
      "Masking out invalid values\n",
      "    Returning 1 observations \n"
     ]
    },
    {
     "name": "stderr",
     "output_type": "stream",
     "text": [
      "/g/data/v10/public/modules/dea/20200605/lib/python3.6/site-packages/datacube/helpers.py:34: DeprecationWarning: Function datacube.helpers.write_geotiff is deprecated,\n",
      "please use datacube.utils.cog.write_cog instead\n",
      "  category=DeprecationWarning)\n"
     ]
    }
   ],
   "source": [
    "# Iterate through all shapely points to generate a dNBR geotiff.\n",
    "for i in coords:\n",
    "    dNBR_processing(i)"
   ]
  },
  {
   "cell_type": "code",
   "execution_count": null,
   "metadata": {},
   "outputs": [],
   "source": []
  }
 ],
 "metadata": {
  "kernelspec": {
   "display_name": "Python 3",
   "language": "python",
   "name": "python3"
  },
  "language_info": {
   "codemirror_mode": {
    "name": "ipython",
    "version": 3
   },
   "file_extension": ".py",
   "mimetype": "text/x-python",
   "name": "python",
   "nbconvert_exporter": "python",
   "pygments_lexer": "ipython3",
   "version": "3.6.10"
  }
 },
 "nbformat": 4,
 "nbformat_minor": 4
}
