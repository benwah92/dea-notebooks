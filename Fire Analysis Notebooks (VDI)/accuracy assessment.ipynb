{
 "cells": [
  {
   "cell_type": "markdown",
   "metadata": {},
   "source": [
    "# Accuracy Assessment of dNBR Classification <img align=\"right\" src=\"../DEA reference notebooks/Supplementary_data/dea_logo.jpg\">\n",
    "\n",
    "* **Compatability:** Notebook currently compatible with the `NCI VDI` or a `Local` environment only.\n",
    "* **Products derived from previously processed data:** \n",
    "[s2a_ard_granule](https://explorer.sandbox.dea.ga.gov.au/s2a_ard_granule), \n",
    "[s2b_ard_granule](https://explorer.sandbox.dea.ga.gov.au/s2b_ard_granule),\n",
    "[planet_dove](https://planet.com)"
   ]
  },
  {
   "cell_type": "markdown",
   "metadata": {},
   "source": [
    "## Background\n",
    "During the 2020 Black Summer Bushfires, the town of Tumbarumba, NSW was impacted by a fire event that occured on the 05 Jan 2020. This notebook is a supporting notebook to the `differenced normalised burn ratio` notebook. Having already produced the output dNBR GeoTIFF product, Planet Data (sourced under a Planet education and research license) was used to extract and classify points in accordance with the fire severity classes (unburt, low, moderate, high extreme). Producing accuracy assessments is critical to validating the results produced."
   ]
  },
  {
   "cell_type": "markdown",
   "metadata": {},
   "source": [
    "## Description\n",
    "This notebook is used to generate accuracy results for fire severity and fire extent. No connection is required to the NCI, as no connection to the datacube is required. Accuracy data (derived from Planet Dove imagery) has been provided as a shapefile and includes the dNBR value, the actual severity that was visually interpretted and the geometry. This notebook is split into the following sections:\n",
    "\n",
    "1. Import required modules\n",
    "2. Read in accuracy data\n",
    "3. Calculate fire severity and fire extent accuracy results (users, producers and overall).\n",
    "\n",
    "***"
   ]
  },
  {
   "cell_type": "markdown",
   "metadata": {},
   "source": [
    "## Getting started"
   ]
  },
  {
   "cell_type": "markdown",
   "metadata": {},
   "source": [
    "### Load packages"
   ]
  },
  {
   "cell_type": "code",
   "execution_count": 1,
   "metadata": {},
   "outputs": [],
   "source": [
    "import geopandas as gpd\n",
    "import pandas as pd\n",
    "from matplotlib import pyplot as plt"
   ]
  },
  {
   "cell_type": "markdown",
   "metadata": {},
   "source": [
    "### Read in Data"
   ]
  },
  {
   "cell_type": "code",
   "execution_count": 2,
   "metadata": {},
   "outputs": [
    {
     "data": {
      "text/html": [
       "<div>\n",
       "<style scoped>\n",
       "    .dataframe tbody tr th:only-of-type {\n",
       "        vertical-align: middle;\n",
       "    }\n",
       "\n",
       "    .dataframe tbody tr th {\n",
       "        vertical-align: top;\n",
       "    }\n",
       "\n",
       "    .dataframe thead th {\n",
       "        text-align: right;\n",
       "    }\n",
       "</style>\n",
       "<table border=\"1\" class=\"dataframe\">\n",
       "  <thead>\n",
       "    <tr style=\"text-align: right;\">\n",
       "      <th></th>\n",
       "      <th>dNBR</th>\n",
       "      <th>actual_severity</th>\n",
       "      <th>geometry</th>\n",
       "    </tr>\n",
       "  </thead>\n",
       "  <tbody>\n",
       "    <tr>\n",
       "      <th>0</th>\n",
       "      <td>-0.04120</td>\n",
       "      <td>Unburnt</td>\n",
       "      <td>POINT (620890.643 5981712.721)</td>\n",
       "    </tr>\n",
       "    <tr>\n",
       "      <th>1</th>\n",
       "      <td>0.58526</td>\n",
       "      <td>Moderate</td>\n",
       "      <td>POINT (584229.417 5980124.584)</td>\n",
       "    </tr>\n",
       "    <tr>\n",
       "      <th>2</th>\n",
       "      <td>0.20552</td>\n",
       "      <td>Low</td>\n",
       "      <td>POINT (585809.421 5980766.175)</td>\n",
       "    </tr>\n",
       "    <tr>\n",
       "      <th>3</th>\n",
       "      <td>0.31326</td>\n",
       "      <td>Moderate</td>\n",
       "      <td>POINT (623375.568 6070297.326)</td>\n",
       "    </tr>\n",
       "    <tr>\n",
       "      <th>4</th>\n",
       "      <td>0.00954</td>\n",
       "      <td>Unburnt</td>\n",
       "      <td>POINT (619427.841 6050698.299)</td>\n",
       "    </tr>\n",
       "  </tbody>\n",
       "</table>\n",
       "</div>"
      ],
      "text/plain": [
       "      dNBR actual_severity                        geometry\n",
       "0 -0.04120         Unburnt  POINT (620890.643 5981712.721)\n",
       "1  0.58526        Moderate  POINT (584229.417 5980124.584)\n",
       "2  0.20552             Low  POINT (585809.421 5980766.175)\n",
       "3  0.31326        Moderate  POINT (623375.568 6070297.326)\n",
       "4  0.00954         Unburnt  POINT (619427.841 6050698.299)"
      ]
     },
     "execution_count": 2,
     "metadata": {},
     "output_type": "execute_result"
    }
   ],
   "source": [
    "gdf = gpd.read_file(\"./training_accuracy_data.shp\")\n",
    "gdf = gdf.rename(columns={\"Tumbarumba\": \"dNBR\", \"SEVERITY\": \"actual_severity\"})\n",
    "gdf.head()"
   ]
  },
  {
   "cell_type": "markdown",
   "metadata": {},
   "source": [
    "__From dNBR raster histogram:__<br>\n",
    "mix value = -0.78936<br>\n",
    "max value = 1.2721"
   ]
  },
  {
   "cell_type": "markdown",
   "metadata": {},
   "source": [
    "Separate each class into separate geodataframes based on the actual (measured) classes:"
   ]
  },
  {
   "cell_type": "code",
   "execution_count": 3,
   "metadata": {},
   "outputs": [],
   "source": [
    "actual_unburnt = gdf.loc[(gdf[\"actual_severity\"] == \"Unburnt\")]\n",
    "actual_low = gdf.loc[(gdf[\"actual_severity\"] == \"Low\")]\n",
    "actual_moderate = gdf.loc[(gdf[\"actual_severity\"] == \"Moderate\")]\n",
    "actual_high = gdf.loc[(gdf[\"actual_severity\"] == \"High\")]\n",
    "actual_extreme = gdf.loc[(gdf[\"actual_severity\"] == \"Extreme\")]"
   ]
  },
  {
   "cell_type": "markdown",
   "metadata": {},
   "source": [
    "Plot the classes (less unburnt) on a histogram to find threshold values for separation:"
   ]
  },
  {
   "cell_type": "code",
   "execution_count": 4,
   "metadata": {},
   "outputs": [
    {
     "data": {
      "image/png": "[encoded data removed]",
      "text/plain": [
       "<Figure size 432x288 with 1 Axes>"
      ]
     },
     "metadata": {
      "needs_background": "light"
     },
     "output_type": "display_data"
    }
   ],
   "source": [
    "# plt.hist(actual_unburnt['dNBR'], bins=30, alpha = 0.5, label='unburnt')\n",
    "plt.hist(actual_low[\"dNBR\"], bins=7, alpha=0.5, label=\"low\")\n",
    "plt.hist(actual_moderate[\"dNBR\"], bins=16, alpha=0.5, label=\"moderate\")\n",
    "plt.hist(actual_high[\"dNBR\"], bins=10, alpha=0.5, label=\"high\")\n",
    "plt.hist(actual_extreme[\"dNBR\"], bins=17, alpha=0.5, label=\"extreme\")\n",
    "\n",
    "plt.legend(loc=\"upper left\")\n",
    "\n",
    "plt.xlabel(\"dNBR\")\n",
    "plt.ylabel(\"Count\")\n",
    "plt.title(\"Fire Severity Class Separability\")\n",
    "\n",
    "plt.savefig(\"class_separability_severity.png\")\n",
    "plt.show()"
   ]
  },
  {
   "cell_type": "markdown",
   "metadata": {},
   "source": [
    "Extremely poor separability between classes. This could be due to the accuracy data that was sourced by visually intepreting 3m resolution Planet Dove data using false colour cues. It was easy to identify 'extreme' classes that were completed charred and also unburnt healthy areas but distinguishing between low, moderate and high was very difficult."
   ]
  },
  {
   "cell_type": "markdown",
   "metadata": {},
   "source": [
    "Apply threshold values and map the categorical matches to the original geodataframe:"
   ]
  },
  {
   "cell_type": "code",
   "execution_count": 5,
   "metadata": {},
   "outputs": [],
   "source": [
    "classified_unburnt = gdf.loc[(gdf[\"dNBR\"] < 0.10)]\n",
    "classified_low = gdf.loc[(gdf[\"dNBR\"] >= 0.10) & (gdf[\"dNBR\"] < 0.30)]\n",
    "classified_moderate = gdf.loc[(gdf[\"dNBR\"] >= 0.30) & (gdf[\"dNBR\"] < 0.50)]\n",
    "classified_high = gdf.loc[(gdf[\"dNBR\"] >= 0.50) & (gdf[\"dNBR\"] < 0.65)]\n",
    "classified_extreme = gdf.loc[(gdf[\"dNBR\"] >= 0.65)]"
   ]
  },
  {
   "cell_type": "code",
   "execution_count": 6,
   "metadata": {},
   "outputs": [],
   "source": [
    "classified_unburnt = classified_unburnt.assign(classified_severity=\"Unburnt\")\n",
    "classified_low = classified_low.assign(classified_severity=\"Low\")\n",
    "classified_moderate = classified_moderate.assign(classified_severity=\"Moderate\")\n",
    "classified_high = classified_high.assign(classified_severity=\"High\")\n",
    "classified_extreme = classified_extreme.assign(classified_severity=\"Extreme\")"
   ]
  },
  {
   "cell_type": "markdown",
   "metadata": {},
   "source": [
    "Combined the results into a new geodataframe and produce a crosstab (accuracy matrix):"
   ]
  },
  {
   "cell_type": "code",
   "execution_count": 7,
   "metadata": {},
   "outputs": [
    {
     "data": {
      "text/html": [
       "<div>\n",
       "<style scoped>\n",
       "    .dataframe tbody tr th:only-of-type {\n",
       "        vertical-align: middle;\n",
       "    }\n",
       "\n",
       "    .dataframe tbody tr th {\n",
       "        vertical-align: top;\n",
       "    }\n",
       "\n",
       "    .dataframe thead th {\n",
       "        text-align: right;\n",
       "    }\n",
       "</style>\n",
       "<table border=\"1\" class=\"dataframe\">\n",
       "  <thead>\n",
       "    <tr style=\"text-align: right;\">\n",
       "      <th></th>\n",
       "      <th>dNBR</th>\n",
       "      <th>actual_severity</th>\n",
       "      <th>classified_severity</th>\n",
       "      <th>geometry</th>\n",
       "    </tr>\n",
       "  </thead>\n",
       "  <tbody>\n",
       "    <tr>\n",
       "      <th>0</th>\n",
       "      <td>-0.04120</td>\n",
       "      <td>Unburnt</td>\n",
       "      <td>Unburnt</td>\n",
       "      <td>POINT (620890.643 5981712.721)</td>\n",
       "    </tr>\n",
       "    <tr>\n",
       "      <th>4</th>\n",
       "      <td>0.00954</td>\n",
       "      <td>Unburnt</td>\n",
       "      <td>Unburnt</td>\n",
       "      <td>POINT (619427.841 6050698.299)</td>\n",
       "    </tr>\n",
       "    <tr>\n",
       "      <th>6</th>\n",
       "      <td>-0.05770</td>\n",
       "      <td>Unburnt</td>\n",
       "      <td>Unburnt</td>\n",
       "      <td>POINT (618872.144 5981099.339)</td>\n",
       "    </tr>\n",
       "    <tr>\n",
       "      <th>7</th>\n",
       "      <td>-0.14799</td>\n",
       "      <td>Unburnt</td>\n",
       "      <td>Unburnt</td>\n",
       "      <td>POINT (614146.389 6011331.299)</td>\n",
       "    </tr>\n",
       "    <tr>\n",
       "      <th>10</th>\n",
       "      <td>-0.07889</td>\n",
       "      <td>Unburnt</td>\n",
       "      <td>Unburnt</td>\n",
       "      <td>POINT (613935.682 6011263.956)</td>\n",
       "    </tr>\n",
       "  </tbody>\n",
       "</table>\n",
       "</div>"
      ],
      "text/plain": [
       "       dNBR actual_severity classified_severity  \\\n",
       "0  -0.04120         Unburnt             Unburnt   \n",
       "4   0.00954         Unburnt             Unburnt   \n",
       "6  -0.05770         Unburnt             Unburnt   \n",
       "7  -0.14799         Unburnt             Unburnt   \n",
       "10 -0.07889         Unburnt             Unburnt   \n",
       "\n",
       "                          geometry  \n",
       "0   POINT (620890.643 5981712.721)  \n",
       "4   POINT (619427.841 6050698.299)  \n",
       "6   POINT (618872.144 5981099.339)  \n",
       "7   POINT (614146.389 6011331.299)  \n",
       "10  POINT (613935.682 6011263.956)  "
      ]
     },
     "execution_count": 7,
     "metadata": {},
     "output_type": "execute_result"
    }
   ],
   "source": [
    "frames = [\n",
    "    classified_unburnt,\n",
    "    classified_low,\n",
    "    classified_moderate,\n",
    "    classified_high,\n",
    "    classified_extreme,\n",
    "]\n",
    "results = pd.concat(frames)\n",
    "results = results[[\"dNBR\", \"actual_severity\", \"classified_severity\", \"geometry\"]]\n",
    "results_duplicate = results  # used later on\n",
    "results.head()"
   ]
  },
  {
   "cell_type": "code",
   "execution_count": 8,
   "metadata": {},
   "outputs": [
    {
     "data": {
      "text/html": [
       "<div>\n",
       "<style scoped>\n",
       "    .dataframe tbody tr th:only-of-type {\n",
       "        vertical-align: middle;\n",
       "    }\n",
       "\n",
       "    .dataframe tbody tr th {\n",
       "        vertical-align: top;\n",
       "    }\n",
       "\n",
       "    .dataframe thead th {\n",
       "        text-align: right;\n",
       "    }\n",
       "</style>\n",
       "<table border=\"1\" class=\"dataframe\">\n",
       "  <thead>\n",
       "    <tr style=\"text-align: right;\">\n",
       "      <th>classified_severity</th>\n",
       "      <th>Unburnt</th>\n",
       "      <th>Low</th>\n",
       "      <th>Moderate</th>\n",
       "      <th>High</th>\n",
       "      <th>Extreme</th>\n",
       "    </tr>\n",
       "    <tr>\n",
       "      <th>actual_severity</th>\n",
       "      <th></th>\n",
       "      <th></th>\n",
       "      <th></th>\n",
       "      <th></th>\n",
       "      <th></th>\n",
       "    </tr>\n",
       "  </thead>\n",
       "  <tbody>\n",
       "    <tr>\n",
       "      <th>Unburnt</th>\n",
       "      <td>674</td>\n",
       "      <td>45</td>\n",
       "      <td>25</td>\n",
       "      <td>4</td>\n",
       "      <td>0</td>\n",
       "    </tr>\n",
       "    <tr>\n",
       "      <th>Low</th>\n",
       "      <td>16</td>\n",
       "      <td>20</td>\n",
       "      <td>12</td>\n",
       "      <td>0</td>\n",
       "      <td>0</td>\n",
       "    </tr>\n",
       "    <tr>\n",
       "      <th>Moderate</th>\n",
       "      <td>7</td>\n",
       "      <td>11</td>\n",
       "      <td>54</td>\n",
       "      <td>12</td>\n",
       "      <td>29</td>\n",
       "    </tr>\n",
       "    <tr>\n",
       "      <th>High</th>\n",
       "      <td>0</td>\n",
       "      <td>2</td>\n",
       "      <td>22</td>\n",
       "      <td>35</td>\n",
       "      <td>14</td>\n",
       "    </tr>\n",
       "    <tr>\n",
       "      <th>Extreme</th>\n",
       "      <td>0</td>\n",
       "      <td>0</td>\n",
       "      <td>2</td>\n",
       "      <td>21</td>\n",
       "      <td>99</td>\n",
       "    </tr>\n",
       "  </tbody>\n",
       "</table>\n",
       "</div>"
      ],
      "text/plain": [
       "classified_severity  Unburnt  Low  Moderate  High  Extreme\n",
       "actual_severity                                           \n",
       "Unburnt                  674   45        25     4        0\n",
       "Low                       16   20        12     0        0\n",
       "Moderate                   7   11        54    12       29\n",
       "High                       0    2        22    35       14\n",
       "Extreme                    0    0         2    21       99"
      ]
     },
     "execution_count": 8,
     "metadata": {},
     "output_type": "execute_result"
    }
   ],
   "source": [
    "xtab = pd.crosstab(results[\"actual_severity\"], results[\"classified_severity\"])\n",
    "sev = [\"Unburnt\", \"Low\", \"Moderate\", \"High\", \"Extreme\"]\n",
    "\n",
    "xtab = xtab.reindex(sev, axis=\"columns\")\n",
    "xtab = xtab.reindex(sev, axis=\"rows\")\n",
    "xtab.to_csv(\"./dNBR_accuracy_severity_skewed.csv\")\n",
    "xtab"
   ]
  },
  {
   "cell_type": "code",
   "execution_count": 9,
   "metadata": {},
   "outputs": [
    {
     "data": {
      "text/plain": [
       "79.8913043478261"
      ]
     },
     "execution_count": 9,
     "metadata": {},
     "output_type": "execute_result"
    }
   ],
   "source": [
    "overall_accuracy = (\n",
    "    (\n",
    "        xtab[\"Unburnt\"][\"Unburnt\"]\n",
    "        + xtab[\"Low\"][\"Low\"]\n",
    "        + xtab[\"Moderate\"][\"Moderate\"]\n",
    "        + xtab[\"High\"][\"High\"]\n",
    "        + xtab[\"Extreme\"][\"Extreme\"]\n",
    "    )\n",
    "    / len(gdf)\n",
    "    * 100\n",
    ")\n",
    "\n",
    "overall_accuracy"
   ]
  },
  {
   "cell_type": "code",
   "execution_count": 10,
   "metadata": {},
   "outputs": [
    {
     "data": {
      "text/html": [
       "<div>\n",
       "<style scoped>\n",
       "    .dataframe tbody tr th:only-of-type {\n",
       "        vertical-align: middle;\n",
       "    }\n",
       "\n",
       "    .dataframe tbody tr th {\n",
       "        vertical-align: top;\n",
       "    }\n",
       "\n",
       "    .dataframe thead th {\n",
       "        text-align: right;\n",
       "    }\n",
       "</style>\n",
       "<table border=\"1\" class=\"dataframe\">\n",
       "  <thead>\n",
       "    <tr style=\"text-align: right;\">\n",
       "      <th></th>\n",
       "      <th>dNBR</th>\n",
       "      <th>geometry</th>\n",
       "    </tr>\n",
       "    <tr>\n",
       "      <th>actual_severity</th>\n",
       "      <th></th>\n",
       "      <th></th>\n",
       "    </tr>\n",
       "  </thead>\n",
       "  <tbody>\n",
       "    <tr>\n",
       "      <th>Extreme</th>\n",
       "      <td>122</td>\n",
       "      <td>122</td>\n",
       "    </tr>\n",
       "    <tr>\n",
       "      <th>High</th>\n",
       "      <td>73</td>\n",
       "      <td>73</td>\n",
       "    </tr>\n",
       "    <tr>\n",
       "      <th>Low</th>\n",
       "      <td>48</td>\n",
       "      <td>48</td>\n",
       "    </tr>\n",
       "    <tr>\n",
       "      <th>Moderate</th>\n",
       "      <td>113</td>\n",
       "      <td>113</td>\n",
       "    </tr>\n",
       "    <tr>\n",
       "      <th>Unburnt</th>\n",
       "      <td>748</td>\n",
       "      <td>748</td>\n",
       "    </tr>\n",
       "  </tbody>\n",
       "</table>\n",
       "</div>"
      ],
      "text/plain": [
       "                 dNBR  geometry\n",
       "actual_severity                \n",
       "Extreme           122       122\n",
       "High               73        73\n",
       "Low                48        48\n",
       "Moderate          113       113\n",
       "Unburnt           748       748"
      ]
     },
     "execution_count": 10,
     "metadata": {},
     "output_type": "execute_result"
    }
   ],
   "source": [
    "gdf.groupby(\"actual_severity\").count()"
   ]
  },
  {
   "cell_type": "markdown",
   "metadata": {},
   "source": [
    "### Discussion\n",
    "There is a disproportionally high number of unburnt sample points which have likely skewed the results to be very high. We only need to look at the count to see that unburnt samples make up a majority of the points. Let's see what happens if only 40 points from each class are randomly sampled."
   ]
  },
  {
   "cell_type": "code",
   "execution_count": 11,
   "metadata": {},
   "outputs": [],
   "source": [
    "unburnt = results.loc[(gdf[\"actual_severity\"] == \"Unburnt\")]\n",
    "unburnt = unburnt.sample(n=40)\n",
    "\n",
    "low = results.loc[(gdf[\"actual_severity\"] == \"Low\")]\n",
    "low = low.sample(n=40)\n",
    "\n",
    "moderate = results.loc[(gdf[\"actual_severity\"] == \"Moderate\")]\n",
    "moderate = moderate.sample(n=40)\n",
    "\n",
    "high = results.loc[(gdf[\"actual_severity\"] == \"High\")]\n",
    "high = high.sample(n=40)\n",
    "\n",
    "extreme = results.loc[(gdf[\"actual_severity\"] == \"Extreme\")]\n",
    "extreme = extreme.sample(n=40)"
   ]
  },
  {
   "cell_type": "code",
   "execution_count": 12,
   "metadata": {},
   "outputs": [
    {
     "data": {
      "text/html": [
       "<div>\n",
       "<style scoped>\n",
       "    .dataframe tbody tr th:only-of-type {\n",
       "        vertical-align: middle;\n",
       "    }\n",
       "\n",
       "    .dataframe tbody tr th {\n",
       "        vertical-align: top;\n",
       "    }\n",
       "\n",
       "    .dataframe thead th {\n",
       "        text-align: right;\n",
       "    }\n",
       "</style>\n",
       "<table border=\"1\" class=\"dataframe\">\n",
       "  <thead>\n",
       "    <tr style=\"text-align: right;\">\n",
       "      <th></th>\n",
       "      <th>dNBR</th>\n",
       "      <th>actual_severity</th>\n",
       "      <th>classified_severity</th>\n",
       "      <th>geometry</th>\n",
       "    </tr>\n",
       "  </thead>\n",
       "  <tbody>\n",
       "    <tr>\n",
       "      <th>314</th>\n",
       "      <td>0.02703</td>\n",
       "      <td>Unburnt</td>\n",
       "      <td>Unburnt</td>\n",
       "      <td>POINT (619965.629 6050805.523)</td>\n",
       "    </tr>\n",
       "    <tr>\n",
       "      <th>671</th>\n",
       "      <td>-0.09013</td>\n",
       "      <td>Unburnt</td>\n",
       "      <td>Unburnt</td>\n",
       "      <td>POINT (622594.954 6080638.351)</td>\n",
       "    </tr>\n",
       "    <tr>\n",
       "      <th>418</th>\n",
       "      <td>0.01035</td>\n",
       "      <td>Unburnt</td>\n",
       "      <td>Unburnt</td>\n",
       "      <td>POINT (544694.871 5984661.600)</td>\n",
       "    </tr>\n",
       "    <tr>\n",
       "      <th>294</th>\n",
       "      <td>0.00020</td>\n",
       "      <td>Unburnt</td>\n",
       "      <td>Unburnt</td>\n",
       "      <td>POINT (608819.625 6053457.184)</td>\n",
       "    </tr>\n",
       "    <tr>\n",
       "      <th>482</th>\n",
       "      <td>-0.05578</td>\n",
       "      <td>Unburnt</td>\n",
       "      <td>Unburnt</td>\n",
       "      <td>POINT (621432.005 6079753.704)</td>\n",
       "    </tr>\n",
       "  </tbody>\n",
       "</table>\n",
       "</div>"
      ],
      "text/plain": [
       "        dNBR actual_severity classified_severity  \\\n",
       "314  0.02703         Unburnt             Unburnt   \n",
       "671 -0.09013         Unburnt             Unburnt   \n",
       "418  0.01035         Unburnt             Unburnt   \n",
       "294  0.00020         Unburnt             Unburnt   \n",
       "482 -0.05578         Unburnt             Unburnt   \n",
       "\n",
       "                           geometry  \n",
       "314  POINT (619965.629 6050805.523)  \n",
       "671  POINT (622594.954 6080638.351)  \n",
       "418  POINT (544694.871 5984661.600)  \n",
       "294  POINT (608819.625 6053457.184)  \n",
       "482  POINT (621432.005 6079753.704)  "
      ]
     },
     "execution_count": 12,
     "metadata": {},
     "output_type": "execute_result"
    }
   ],
   "source": [
    "frames = [unburnt, low, moderate, high, extreme]\n",
    "results = pd.concat(frames)\n",
    "results = results[[\"dNBR\", \"actual_severity\", \"classified_severity\", \"geometry\"]]\n",
    "results.head()"
   ]
  },
  {
   "cell_type": "code",
   "execution_count": 13,
   "metadata": {},
   "outputs": [
    {
     "data": {
      "text/html": [
       "<div>\n",
       "<style scoped>\n",
       "    .dataframe tbody tr th:only-of-type {\n",
       "        vertical-align: middle;\n",
       "    }\n",
       "\n",
       "    .dataframe tbody tr th {\n",
       "        vertical-align: top;\n",
       "    }\n",
       "\n",
       "    .dataframe thead th {\n",
       "        text-align: right;\n",
       "    }\n",
       "</style>\n",
       "<table border=\"1\" class=\"dataframe\">\n",
       "  <thead>\n",
       "    <tr style=\"text-align: right;\">\n",
       "      <th>classified_severity</th>\n",
       "      <th>Unburnt</th>\n",
       "      <th>Low</th>\n",
       "      <th>Moderate</th>\n",
       "      <th>High</th>\n",
       "      <th>Extreme</th>\n",
       "    </tr>\n",
       "    <tr>\n",
       "      <th>actual_severity</th>\n",
       "      <th></th>\n",
       "      <th></th>\n",
       "      <th></th>\n",
       "      <th></th>\n",
       "      <th></th>\n",
       "    </tr>\n",
       "  </thead>\n",
       "  <tbody>\n",
       "    <tr>\n",
       "      <th>Unburnt</th>\n",
       "      <td>37</td>\n",
       "      <td>0</td>\n",
       "      <td>3</td>\n",
       "      <td>0</td>\n",
       "      <td>0</td>\n",
       "    </tr>\n",
       "    <tr>\n",
       "      <th>Low</th>\n",
       "      <td>15</td>\n",
       "      <td>16</td>\n",
       "      <td>9</td>\n",
       "      <td>0</td>\n",
       "      <td>0</td>\n",
       "    </tr>\n",
       "    <tr>\n",
       "      <th>Moderate</th>\n",
       "      <td>2</td>\n",
       "      <td>2</td>\n",
       "      <td>21</td>\n",
       "      <td>4</td>\n",
       "      <td>11</td>\n",
       "    </tr>\n",
       "    <tr>\n",
       "      <th>High</th>\n",
       "      <td>0</td>\n",
       "      <td>1</td>\n",
       "      <td>12</td>\n",
       "      <td>18</td>\n",
       "      <td>9</td>\n",
       "    </tr>\n",
       "    <tr>\n",
       "      <th>Extreme</th>\n",
       "      <td>0</td>\n",
       "      <td>0</td>\n",
       "      <td>0</td>\n",
       "      <td>5</td>\n",
       "      <td>35</td>\n",
       "    </tr>\n",
       "  </tbody>\n",
       "</table>\n",
       "</div>"
      ],
      "text/plain": [
       "classified_severity  Unburnt  Low  Moderate  High  Extreme\n",
       "actual_severity                                           \n",
       "Unburnt                   37    0         3     0        0\n",
       "Low                       15   16         9     0        0\n",
       "Moderate                   2    2        21     4       11\n",
       "High                       0    1        12    18        9\n",
       "Extreme                    0    0         0     5       35"
      ]
     },
     "execution_count": 13,
     "metadata": {},
     "output_type": "execute_result"
    }
   ],
   "source": [
    "xtab = pd.crosstab(results[\"actual_severity\"], results[\"classified_severity\"])\n",
    "sev = [\"Unburnt\", \"Low\", \"Moderate\", \"High\", \"Extreme\"]\n",
    "\n",
    "xtab = xtab.reindex(sev, axis=\"columns\")\n",
    "xtab = xtab.reindex(sev, axis=\"rows\")\n",
    "xtab.to_csv(\"./dNBR_accuracy_severity_random.csv\")\n",
    "xtab"
   ]
  },
  {
   "cell_type": "code",
   "execution_count": 14,
   "metadata": {},
   "outputs": [
    {
     "data": {
      "text/plain": [
       "63.5"
      ]
     },
     "execution_count": 14,
     "metadata": {},
     "output_type": "execute_result"
    }
   ],
   "source": [
    "overall_accuracy = (\n",
    "    (\n",
    "        xtab[\"Unburnt\"][\"Unburnt\"]\n",
    "        + xtab[\"Low\"][\"Low\"]\n",
    "        + xtab[\"Moderate\"][\"Moderate\"]\n",
    "        + xtab[\"High\"][\"High\"]\n",
    "        + xtab[\"Extreme\"][\"Extreme\"]\n",
    "    )\n",
    "    / len(results)\n",
    "    * 100\n",
    ")\n",
    "\n",
    "overall_accuracy"
   ]
  },
  {
   "cell_type": "markdown",
   "metadata": {},
   "source": [
    "This is likely a far more accurate representation of the overall accuracy of this classification. This is still not based considering the very minimal processing overhead for a dNBR compared to a multi-band fully connected neural network approach. Unfortunately, with each different location, scene, weather conditions (pre/post), vegetation ecosystems etc; there is significant variability that the chose threshold values would need to be tweaked to suit each scene. This is where a majority of the time would be spent, and normalising severity from one scene to another become very difficult as moderate in one may not neccessarily map well to moderate in another location with a completely different ecosystem of flora."
   ]
  },
  {
   "cell_type": "markdown",
   "metadata": {},
   "source": [
    "Lets look at the accuracy if the only two endmembers were 'Unburnt' or 'Burnt' areas. In order to do this, we re-map low, moderate, high and extreme categorisations in the actual and classified severity columns to 'burnt' and reproduce the crosstab."
   ]
  },
  {
   "cell_type": "code",
   "execution_count": 15,
   "metadata": {},
   "outputs": [],
   "source": [
    "results_duplicate.loc[\n",
    "    results_duplicate.actual_severity == \"Low\", \"actual_severity\"\n",
    "] = \"Burnt\"\n",
    "results_duplicate.loc[\n",
    "    results_duplicate.actual_severity == \"Moderate\", \"actual_severity\"\n",
    "] = \"Burnt\"\n",
    "results_duplicate.loc[\n",
    "    results_duplicate.actual_severity == \"High\", \"actual_severity\"\n",
    "] = \"Burnt\"\n",
    "results_duplicate.loc[\n",
    "    results_duplicate.actual_severity == \"Extreme\", \"actual_severity\"\n",
    "] = \"Burnt\"\n",
    "results_duplicate.loc[\n",
    "    results_duplicate.classified_severity == \"Low\", \"classified_severity\"\n",
    "] = \"Burnt\"\n",
    "results_duplicate.loc[\n",
    "    results_duplicate.classified_severity == \"Moderate\", \"classified_severity\"\n",
    "] = \"Burnt\"\n",
    "results_duplicate.loc[\n",
    "    results_duplicate.classified_severity == \"High\", \"classified_severity\"\n",
    "] = \"Burnt\"\n",
    "results_duplicate.loc[\n",
    "    results_duplicate.classified_severity == \"Extreme\", \"classified_severity\"\n",
    "] = \"Burnt\""
   ]
  },
  {
   "cell_type": "code",
   "execution_count": 16,
   "metadata": {},
   "outputs": [
    {
     "data": {
      "text/html": [
       "<div>\n",
       "<style scoped>\n",
       "    .dataframe tbody tr th:only-of-type {\n",
       "        vertical-align: middle;\n",
       "    }\n",
       "\n",
       "    .dataframe tbody tr th {\n",
       "        vertical-align: top;\n",
       "    }\n",
       "\n",
       "    .dataframe thead th {\n",
       "        text-align: right;\n",
       "    }\n",
       "</style>\n",
       "<table border=\"1\" class=\"dataframe\">\n",
       "  <thead>\n",
       "    <tr style=\"text-align: right;\">\n",
       "      <th></th>\n",
       "      <th>dNBR</th>\n",
       "      <th>actual_severity</th>\n",
       "      <th>classified_severity</th>\n",
       "      <th>geometry</th>\n",
       "    </tr>\n",
       "  </thead>\n",
       "  <tbody>\n",
       "    <tr>\n",
       "      <th>0</th>\n",
       "      <td>-0.04120</td>\n",
       "      <td>Unburnt</td>\n",
       "      <td>Unburnt</td>\n",
       "      <td>POINT (620890.643 5981712.721)</td>\n",
       "    </tr>\n",
       "    <tr>\n",
       "      <th>4</th>\n",
       "      <td>0.00954</td>\n",
       "      <td>Unburnt</td>\n",
       "      <td>Unburnt</td>\n",
       "      <td>POINT (619427.841 6050698.299)</td>\n",
       "    </tr>\n",
       "    <tr>\n",
       "      <th>6</th>\n",
       "      <td>-0.05770</td>\n",
       "      <td>Unburnt</td>\n",
       "      <td>Unburnt</td>\n",
       "      <td>POINT (618872.144 5981099.339)</td>\n",
       "    </tr>\n",
       "    <tr>\n",
       "      <th>7</th>\n",
       "      <td>-0.14799</td>\n",
       "      <td>Unburnt</td>\n",
       "      <td>Unburnt</td>\n",
       "      <td>POINT (614146.389 6011331.299)</td>\n",
       "    </tr>\n",
       "    <tr>\n",
       "      <th>10</th>\n",
       "      <td>-0.07889</td>\n",
       "      <td>Unburnt</td>\n",
       "      <td>Unburnt</td>\n",
       "      <td>POINT (613935.682 6011263.956)</td>\n",
       "    </tr>\n",
       "  </tbody>\n",
       "</table>\n",
       "</div>"
      ],
      "text/plain": [
       "       dNBR actual_severity classified_severity  \\\n",
       "0  -0.04120         Unburnt             Unburnt   \n",
       "4   0.00954         Unburnt             Unburnt   \n",
       "6  -0.05770         Unburnt             Unburnt   \n",
       "7  -0.14799         Unburnt             Unburnt   \n",
       "10 -0.07889         Unburnt             Unburnt   \n",
       "\n",
       "                          geometry  \n",
       "0   POINT (620890.643 5981712.721)  \n",
       "4   POINT (619427.841 6050698.299)  \n",
       "6   POINT (618872.144 5981099.339)  \n",
       "7   POINT (614146.389 6011331.299)  \n",
       "10  POINT (613935.682 6011263.956)  "
      ]
     },
     "execution_count": 16,
     "metadata": {},
     "output_type": "execute_result"
    }
   ],
   "source": [
    "results_duplicate.head()"
   ]
  },
  {
   "cell_type": "code",
   "execution_count": 17,
   "metadata": {},
   "outputs": [],
   "source": [
    "unburnt = results_duplicate.loc[(results_duplicate[\"actual_severity\"] == \"Unburnt\")]\n",
    "unburnt = unburnt.sample(n=160)\n",
    "\n",
    "burnt = results_duplicate.loc[(results_duplicate[\"actual_severity\"] == \"Burnt\")]\n",
    "burnt = burnt.sample(n=160)"
   ]
  },
  {
   "cell_type": "code",
   "execution_count": 18,
   "metadata": {},
   "outputs": [
    {
     "data": {
      "image/png": "[encoded data removed]",
      "text/plain": [
       "<Figure size 432x288 with 1 Axes>"
      ]
     },
     "metadata": {
      "needs_background": "light"
     },
     "output_type": "display_data"
    }
   ],
   "source": [
    "plt.hist(unburnt[\"dNBR\"], bins=20, alpha=0.5, label=\"unburnt\")\n",
    "plt.hist(burnt[\"dNBR\"], bins=20, alpha=0.5, label=\"burnt\")\n",
    "\n",
    "plt.legend(loc=\"upper left\")\n",
    "\n",
    "plt.xlabel(\"dNBR\")\n",
    "plt.ylabel(\"Count\")\n",
    "plt.title(\"Fire Extent Class Separability\")\n",
    "\n",
    "plt.savefig(\"class_separability_extent.png\")\n",
    "plt.show()"
   ]
  },
  {
   "cell_type": "code",
   "execution_count": 19,
   "metadata": {},
   "outputs": [
    {
     "data": {
      "text/html": [
       "<div>\n",
       "<style scoped>\n",
       "    .dataframe tbody tr th:only-of-type {\n",
       "        vertical-align: middle;\n",
       "    }\n",
       "\n",
       "    .dataframe tbody tr th {\n",
       "        vertical-align: top;\n",
       "    }\n",
       "\n",
       "    .dataframe thead th {\n",
       "        text-align: right;\n",
       "    }\n",
       "</style>\n",
       "<table border=\"1\" class=\"dataframe\">\n",
       "  <thead>\n",
       "    <tr style=\"text-align: right;\">\n",
       "      <th></th>\n",
       "      <th>dNBR</th>\n",
       "      <th>actual_severity</th>\n",
       "      <th>classified_severity</th>\n",
       "      <th>geometry</th>\n",
       "    </tr>\n",
       "  </thead>\n",
       "  <tbody>\n",
       "    <tr>\n",
       "      <th>232</th>\n",
       "      <td>-0.08403</td>\n",
       "      <td>Unburnt</td>\n",
       "      <td>Unburnt</td>\n",
       "      <td>POINT (621556.897 6079711.928)</td>\n",
       "    </tr>\n",
       "    <tr>\n",
       "      <th>1050</th>\n",
       "      <td>-0.00610</td>\n",
       "      <td>Unburnt</td>\n",
       "      <td>Unburnt</td>\n",
       "      <td>POINT (606999.560 6022200.241)</td>\n",
       "    </tr>\n",
       "    <tr>\n",
       "      <th>650</th>\n",
       "      <td>0.11247</td>\n",
       "      <td>Unburnt</td>\n",
       "      <td>Burnt</td>\n",
       "      <td>POINT (619252.590 6052092.973)</td>\n",
       "    </tr>\n",
       "    <tr>\n",
       "      <th>922</th>\n",
       "      <td>-0.05074</td>\n",
       "      <td>Unburnt</td>\n",
       "      <td>Unburnt</td>\n",
       "      <td>POINT (625547.449 5984952.798)</td>\n",
       "    </tr>\n",
       "    <tr>\n",
       "      <th>916</th>\n",
       "      <td>0.09580</td>\n",
       "      <td>Unburnt</td>\n",
       "      <td>Unburnt</td>\n",
       "      <td>POINT (619722.073 6050258.325)</td>\n",
       "    </tr>\n",
       "  </tbody>\n",
       "</table>\n",
       "</div>"
      ],
      "text/plain": [
       "         dNBR actual_severity classified_severity  \\\n",
       "232  -0.08403         Unburnt             Unburnt   \n",
       "1050 -0.00610         Unburnt             Unburnt   \n",
       "650   0.11247         Unburnt               Burnt   \n",
       "922  -0.05074         Unburnt             Unburnt   \n",
       "916   0.09580         Unburnt             Unburnt   \n",
       "\n",
       "                            geometry  \n",
       "232   POINT (621556.897 6079711.928)  \n",
       "1050  POINT (606999.560 6022200.241)  \n",
       "650   POINT (619252.590 6052092.973)  \n",
       "922   POINT (625547.449 5984952.798)  \n",
       "916   POINT (619722.073 6050258.325)  "
      ]
     },
     "execution_count": 19,
     "metadata": {},
     "output_type": "execute_result"
    }
   ],
   "source": [
    "frames = [unburnt, burnt]\n",
    "results = pd.concat(frames)\n",
    "results = results[[\"dNBR\", \"actual_severity\", \"classified_severity\", \"geometry\"]]\n",
    "results.head()"
   ]
  },
  {
   "cell_type": "code",
   "execution_count": 20,
   "metadata": {},
   "outputs": [
    {
     "data": {
      "text/html": [
       "<div>\n",
       "<style scoped>\n",
       "    .dataframe tbody tr th:only-of-type {\n",
       "        vertical-align: middle;\n",
       "    }\n",
       "\n",
       "    .dataframe tbody tr th {\n",
       "        vertical-align: top;\n",
       "    }\n",
       "\n",
       "    .dataframe thead th {\n",
       "        text-align: right;\n",
       "    }\n",
       "</style>\n",
       "<table border=\"1\" class=\"dataframe\">\n",
       "  <thead>\n",
       "    <tr style=\"text-align: right;\">\n",
       "      <th>classified_severity</th>\n",
       "      <th>Unburnt</th>\n",
       "      <th>Burnt</th>\n",
       "    </tr>\n",
       "    <tr>\n",
       "      <th>actual_severity</th>\n",
       "      <th></th>\n",
       "      <th></th>\n",
       "    </tr>\n",
       "  </thead>\n",
       "  <tbody>\n",
       "    <tr>\n",
       "      <th>Unburnt</th>\n",
       "      <td>144</td>\n",
       "      <td>16</td>\n",
       "    </tr>\n",
       "    <tr>\n",
       "      <th>Burnt</th>\n",
       "      <td>13</td>\n",
       "      <td>147</td>\n",
       "    </tr>\n",
       "  </tbody>\n",
       "</table>\n",
       "</div>"
      ],
      "text/plain": [
       "classified_severity  Unburnt  Burnt\n",
       "actual_severity                    \n",
       "Unburnt                  144     16\n",
       "Burnt                     13    147"
      ]
     },
     "execution_count": 20,
     "metadata": {},
     "output_type": "execute_result"
    }
   ],
   "source": [
    "xtab = pd.crosstab(results[\"actual_severity\"], results[\"classified_severity\"])\n",
    "sev = [\"Unburnt\", \"Burnt\"]\n",
    "\n",
    "xtab = xtab.reindex(sev, axis=\"columns\")\n",
    "xtab = xtab.reindex(sev, axis=\"rows\")\n",
    "xtab.to_csv(\"./dNBR_accuracy_extent_random.csv\")\n",
    "xtab"
   ]
  },
  {
   "cell_type": "code",
   "execution_count": 21,
   "metadata": {},
   "outputs": [
    {
     "data": {
      "text/plain": [
       "90.9375"
      ]
     },
     "execution_count": 21,
     "metadata": {},
     "output_type": "execute_result"
    }
   ],
   "source": [
    "overall_accuracy = (\n",
    "    (xtab[\"Unburnt\"][\"Unburnt\"] + xtab[\"Burnt\"][\"Burnt\"]) / len(results) * 100\n",
    ")\n",
    "\n",
    "overall_accuracy"
   ]
  },
  {
   "cell_type": "markdown",
   "metadata": {},
   "source": [
    "Overall, the accuracy of the dNBR in identifying between unburnt and burnt areas is approximately 90%. This is very high and a decent result for the identification of burn area extent or boundaries. A good way to really test this however would be to sample many points across known boundary areas in order to determine if the same accuracy still holds."
   ]
  },
  {
   "cell_type": "markdown",
   "metadata": {},
   "source": [
    "***\n",
    "\n",
    "## Additional information\n",
    "\n",
    "**License:** The code in this notebook is licensed under the [Apache License, Version 2.0](https://www.apache.org/licenses/LICENSE-2.0). \n",
    "Digital Earth Australia data is licensed under the [Creative Commons by Attribution 4.0](https://creativecommons.org/licenses/by/4.0/) license.\n",
    "\n",
    "**Last modified:** 03 Nov 2020."
   ]
  },
  {
   "cell_type": "markdown",
   "metadata": {},
   "source": [
    "## Tags"
   ]
  },
  {
   "cell_type": "raw",
   "metadata": {
    "raw_mimetype": "text/restructuredtext"
   },
   "source": [
    "**Tags**: :index:`NCI compatible`, :index:`sentinel 2`, :index:`NBR`, :index:`time series`, :index:`statistics`, :index:`real world`, :index:`exporting data`, :index:`accuracy assessment`"
   ]
  }
 ],
 "metadata": {
  "kernelspec": {
   "display_name": "Python 3",
   "language": "python",
   "name": "python3"
  },
  "language_info": {
   "codemirror_mode": {
    "name": "ipython",
    "version": 3
   },
   "file_extension": ".py",
   "mimetype": "text/x-python",
   "name": "python",
   "nbconvert_exporter": "python",
   "pygments_lexer": "ipython3",
   "version": "3.8.2"
  }
 },
 "nbformat": 4,
 "nbformat_minor": 4
}
