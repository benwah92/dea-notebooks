{
 "cells": [
  {
   "cell_type": "markdown",
   "metadata": {},
   "source": [
    "# Sentinel-2 Plotting <img align=\"right\" src=\"../DEA reference notebooks/Supplementary_data/dea_logo.jpg\">\n",
    "\n",
    "* **Compatability:** Notebook currently compatible with the `NCI VDI` or a `Local` environment only.\n",
    "* **Products used:** \n",
    "[s2a_ard_granule](https://explorer.sandbox.dea.ga.gov.au/s2a_ard_granule), \n",
    "[s2b_ard_granule](https://explorer.sandbox.dea.ga.gov.au/s2b_ard_granule)"
   ]
  },
  {
   "cell_type": "markdown",
   "metadata": {},
   "source": [
    "## Description\n",
    "This notebook is used to access Sentinel-2 NBART products and plot the images to be used as supplementary graphics for analysis.\n",
    "\n",
    "1. Import required modules\n",
    "2. Connect to datacube and spatiotemporal query\n",
    "3. Plot images by time etc.\n",
    "\n",
    "***"
   ]
  },
  {
   "cell_type": "markdown",
   "metadata": {},
   "source": [
    "## Getting started"
   ]
  },
  {
   "cell_type": "markdown",
   "metadata": {},
   "source": [
    "### Load packages"
   ]
  },
  {
   "cell_type": "code",
   "execution_count": null,
   "metadata": {},
   "outputs": [],
   "source": [
    "%matplotlib inline\n",
    "\n",
    "import sys\n",
    "import datacube\n",
    "from datacube.helpers import write_geotiff\n",
    "import numpy as np\n",
    "import pandas as pd\n",
    "import xarray as xr\n",
    "from matplotlib import pyplot as plt\n",
    "\n",
    "sys.path.append(\"../Scripts\")\n",
    "from dea_datahandling import load_ard\n",
    "from dea_plotting import display_map, rgb"
   ]
  },
  {
   "cell_type": "code",
   "execution_count": null,
   "metadata": {},
   "outputs": [],
   "source": [
    "print(datacube.__version__)"
   ]
  },
  {
   "cell_type": "code",
   "execution_count": null,
   "metadata": {},
   "outputs": [],
   "source": [
    "dc = datacube.Datacube(app=\"plot\")"
   ]
  },
  {
   "cell_type": "code",
   "execution_count": null,
   "metadata": {},
   "outputs": [],
   "source": [
    "# Set the central latitude and longitude\n",
    "central_lat = -35.783333\n",
    "central_lon = 148.016667\n",
    "crs = \"EPSG:32755\"\n",
    "\n",
    "# Key Dates\n",
    "prefire_start = \"2019-11-01\"\n",
    "prefire_end = \"2020-01-06\"\n",
    "postfire_start = \"2020-01-07\"\n",
    "postfire_end = \"2020-05-01\"\n",
    "\n",
    "# Set the buffer to load around the central coordinates (even numbers such as 0.2, 1.0, 2.2 etc) in degrees (lat, lon)\n",
    "buffer = 0.15\n",
    "\n",
    "# Compute the bounding box for the study area\n",
    "study_area_lat = (central_lat - buffer, central_lat + buffer)\n",
    "study_area_lon = (central_lon - buffer, central_lon + buffer)\n",
    "\n",
    "display_map(x=study_area_lon, y=study_area_lat, margin=-0.2)"
   ]
  },
  {
   "cell_type": "code",
   "execution_count": null,
   "metadata": {},
   "outputs": [],
   "source": [
    "ard = load_ard(\n",
    "    dc=dc,\n",
    "    products=[\"s2a_ard_granule\", \"s2b_ard_granule\"],\n",
    "    x=(central_lon - buffer, central_lon + buffer),\n",
    "    y=(central_lat - buffer, central_lat + buffer),\n",
    "    time=(prefire_start, prefire_end),\n",
    "    measurements=[\"nbart_blue\", \"nbart_green\", \"nbart_red\"],\n",
    "    min_gooddata=0.1,\n",
    "    output_crs=\"EPSG:32755\",  # UTM Zone 55S\n",
    "    resolution=(-10, 10),\n",
    "    group_by=\"solar_day\",\n",
    ")"
   ]
  },
  {
   "cell_type": "code",
   "execution_count": null,
   "metadata": {},
   "outputs": [],
   "source": [
    "%%time\n",
    "rgb(\n",
    "    ard,\n",
    "    bands=[\"nbart_red\", \"nbart_green\", \"nbart_blue\"],\n",
    "    index=[4, 19],\n",
    "    percentile_stretch=[0.05, 0.95],\n",
    "    savefig_path=\"./prefire_timeplots.png\",\n",
    "    col_wrap=2,\n",
    ")"
   ]
  },
  {
   "cell_type": "markdown",
   "metadata": {},
   "source": [
    "***\n",
    "\n",
    "## Additional information\n",
    "\n",
    "**License:** The code in this notebook is licensed under the [Apache License, Version 2.0](https://www.apache.org/licenses/LICENSE-2.0). \n",
    "Digital Earth Australia data is licensed under the [Creative Commons by Attribution 4.0](https://creativecommons.org/licenses/by/4.0/) license.\n",
    "\n",
    "Contains modified Copernicus data (2020) processed by Digital Earth Australia.\n",
    "\n",
    "**Last modified:** 03 Nov 2020.\n",
    "\n",
    "**Compatible datacube version:**"
   ]
  },
  {
   "cell_type": "code",
   "execution_count": null,
   "metadata": {},
   "outputs": [],
   "source": [
    "print(datacube.__version__)"
   ]
  },
  {
   "cell_type": "markdown",
   "metadata": {},
   "source": [
    "## Tags"
   ]
  },
  {
   "cell_type": "raw",
   "metadata": {
    "raw_mimetype": "text/restructuredtext"
   },
   "source": [
    "**Tags**: :index:`NCI compatible`, :index:`sentinel 2`, :index:`real world`, :index:`exporting data`, \"index:`plotting`"
   ]
  }
 ],
 "metadata": {
  "kernelspec": {
   "display_name": "Python 3",
   "language": "python",
   "name": "python3"
  },
  "language_info": {
   "codemirror_mode": {
    "name": "ipython",
    "version": 3
   },
   "file_extension": ".py",
   "mimetype": "text/x-python",
   "name": "python",
   "nbconvert_exporter": "python",
   "pygments_lexer": "ipython3",
   "version": "3.6.10"
  }
 },
 "nbformat": 4,
 "nbformat_minor": 4
}
