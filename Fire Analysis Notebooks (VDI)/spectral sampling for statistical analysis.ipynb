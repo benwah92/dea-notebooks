{
 "cells": [
  {
   "cell_type": "markdown",
   "metadata": {},
   "source": [
    "# Spectral Sampling for Statistical Analysis <img align=\"right\" src=\"../DEA reference notebooks/Supplementary_data/dea_logo.jpg\">\n",
    "\n",
    "* **Compatability:** Notebook currently compatible with the `NCI VDI` environment only.\n",
    "* **Products used:** \n",
    "[s2a_ard_granule](https://explorer.sandbox.dea.ga.gov.au/s2a_ard_granule), \n",
    "[s2b_ard_granule](https://explorer.sandbox.dea.ga.gov.au/s2b_ard_granule)"
   ]
  },
  {
   "cell_type": "markdown",
   "metadata": {},
   "source": [
    "## Background\n",
    "During the 2020 Black Summer Bushfires, the town of Tumbarumba, NSW was impacted by a fire event that occured on the 05 Jan 2020. This notebook is a supporting notebook to the `differenced normalised burn ratio` notebook. Prior to calculating the differenced normalised burn ratio (dNBR), it is important to analyse the spectral curves of randomly sampled points to look for potential seasonal variation that may skew a temporal stack of images and minimise the number of images required (informs the spatiotemporal query variables required)."
   ]
  },
  {
   "cell_type": "markdown",
   "metadata": {},
   "source": [
    "## Description\n",
    "This notebook is used to generate supporting research graphics for the dNBR script. It is important to note that the s2a/b_ard_granule NBART bands are surface reflectance measurements scaled by 10,000. Surface reflectance is the proportion of electromagnetic energy reflected from the target. The script currently loads a subset of the area of interest into an x-array datasets for the time-period Nov-19 to May 20 (fire event at Tumbarumba IVO 06-Jan-20). Using a random sample method, NIR, SWIR and NBR statistics are generated with support graphics and visualisations. This ntebook is split into the following steps:\n",
    "\n",
    "1. Import required modules\n",
    "2. Set required spatiotemporal query variables (location, time)\n",
    "3. Generate a randomly sampled point\n",
    "4. Plot and save graphs of NIR, SWIR changes over time and histograms of NIR and SWIR.\n",
    "\n",
    "***"
   ]
  },
  {
   "cell_type": "markdown",
   "metadata": {},
   "source": [
    "## Getting started"
   ]
  },
  {
   "cell_type": "markdown",
   "metadata": {},
   "source": [
    "### Load packages"
   ]
  },
  {
   "cell_type": "code",
   "execution_count": null,
   "metadata": {},
   "outputs": [],
   "source": [
    "%matplotlib inline\n",
    "\n",
    "import sys\n",
    "import datacube\n",
    "import numpy as np\n",
    "import pandas as pd\n",
    "import xarray as xr\n",
    "from datacube.helpers import write_geotiff\n",
    "from matplotlib import pyplot as plt\n",
    "from matplotlib import rcParams\n",
    "rcParams[\"axes.titlepad\"] = 0\n",
    "\n",
    "sys.path.append(\"../Scripts\")\n",
    "from dea_datahandling import load_ard\n",
    "from dea_plotting import display_map, rgb"
   ]
  },
  {
   "cell_type": "markdown",
   "metadata": {},
   "source": [
    "### Connect to the datacube"
   ]
  },
  {
   "cell_type": "code",
   "execution_count": null,
   "metadata": {},
   "outputs": [],
   "source": [
    "dc = datacube.Datacube(app=\"statistics\")"
   ]
  },
  {
   "cell_type": "markdown",
   "metadata": {},
   "source": [
    "### Analysis parameters\n",
    "\n",
    "* `central_lat`: The centroid latitude in decimal degree of the target area of interest (e.g. `-35.783333`).\n",
    "* `central_lon`: The centroid longitude in decimal degree of the target area of interest (e.g. `148.016667`).\n",
    "* `crs`: The coordinate reference system code for your I/O tasks (e.g. `EPSG:32755`).\n",
    "* `prefire_start`: The pre-fire period start date (e.g. `2019-11-01`).\n",
    "* `postfire_end`: The post-fire period start date (e.g. `2020-05-01`).\n",
    "* `buffer`: The buffer (in arc seconds) around the target coordinates (e.g. `0.2 or 0.4 or 0.6 etc`). Needs to be an even fractional value as per examples."
   ]
  },
  {
   "cell_type": "code",
   "execution_count": null,
   "metadata": {},
   "outputs": [],
   "source": [
    "# Set the central latitude and longitude\n",
    "central_lat = -35.783333\n",
    "central_lon = 148.016667\n",
    "crs = \"EPSG:32755\"\n",
    "\n",
    "# Key Dates\n",
    "prefire_start = \"2019-11-01\"\n",
    "postfire_end = \"2020-05-01\"\n",
    "\n",
    "# Set the buffer to load around the central coordinates (even numbers such as 0.2, 1.0, 2.2 etc) in degrees (lat, lon)\n",
    "buffer = 0.6\n",
    "\n",
    "# Compute the bounding box for the study area\n",
    "study_area_lat = (central_lat - buffer, central_lat + buffer)\n",
    "study_area_lon = (central_lon - buffer, central_lon + buffer)\n",
    "\n",
    "display_map(x=study_area_lon, y=study_area_lat, margin=-0.2)"
   ]
  },
  {
   "cell_type": "markdown",
   "metadata": {},
   "source": [
    "### Load Sentinel-2 NBART Products"
   ]
  },
  {
   "cell_type": "code",
   "execution_count": null,
   "metadata": {},
   "outputs": [],
   "source": [
    "fulldate_ard = load_ard(\n",
    "    dc=dc,\n",
    "    products=[\"s2a_ard_granule\", \"s2b_ard_granule\"],\n",
    "    x=(central_lon - buffer, central_lon + buffer),\n",
    "    y=(central_lat - buffer, central_lat + buffer),\n",
    "    time=(prefire_start, postfire_end),\n",
    "    measurements=[\"nbart_nir_1\", \"nbart_swir_3\"],\n",
    "    min_gooddata=0.2,\n",
    "    output_crs=\"EPSG:32755\",  # UTM Zone 55S\n",
    "    resolution=(-10, 10),\n",
    "    group_by=\"solar_day\",\n",
    ")"
   ]
  },
  {
   "cell_type": "code",
   "execution_count": null,
   "metadata": {},
   "outputs": [],
   "source": [
    "fulldate_ard"
   ]
  },
  {
   "cell_type": "markdown",
   "metadata": {},
   "source": [
    "### Randomly Sampled Point\n",
    "As data is read into an x-array dataset with an x, y and time dimension, we will randomly select a point and plot how it's NIR and SWIR changes with time. It is probably a good idea to validate the point in terms of where it is located, and what it physical represents (i.e. vegetation, water etc).\n",
    "\n",
    "> **Note:** Depending on your spatial extent, the x-array x and y dimensions will vary. Change the dimensions below."
   ]
  },
  {
   "cell_type": "code",
   "execution_count": null,
   "metadata": {},
   "outputs": [],
   "source": [
    "lon = np.random.randint(0, 3662, size=1) # change according to x-array size\n",
    "lon = lon[0]\n",
    "lat = np.random.randint(0, 4475, size=1) # change according to x-array size\n",
    "lat = lat[0]"
   ]
  },
  {
   "cell_type": "code",
   "execution_count": null,
   "metadata": {},
   "outputs": [],
   "source": [
    "full_nir_df = fulldate_ard.nbart_nir_1[:, lon, lat].to_dataframe()\n",
    "full_swir_df = fulldate_ard.nbart_swir_3[:, lon, lat].to_dataframe()"
   ]
  },
  {
   "cell_type": "code",
   "execution_count": null,
   "metadata": {},
   "outputs": [],
   "source": [
    "nbart_swir_3 = full_swir_df[\"nbart_swir_3\"]\n",
    "fullfire = full_nir_df.join(nbart_swir_3).dropna()\n",
    "fullfire[\"nbr\"] = (fullfire.nbart_nir_1 - fullfire.nbart_swir_3) / (\n",
    "    fullfire.nbart_nir_1 + fullfire.nbart_swir_3\n",
    ")\n",
    "ycoord = np.int_(fullfire.y[0], decimals=0)\n",
    "xcoord = np.int_(fullfire.x[0], decimals=0)\n",
    "fullfire.head()"
   ]
  },
  {
   "cell_type": "markdown",
   "metadata": {},
   "source": [
    "### Plotting\n",
    "Where vegetation is healthy, the NIR reflectance is higher than SWIR. In burnt vegetation however, the SWIR will be higher than the NIR. A cross over between the two probably indicates when a fire event has occurred. Histograms are then also generated to show that pixels are skewed due to seasonal variation and that a median pixel value should be used as the median is the best measure of central tendancy in skewed data."
   ]
  },
  {
   "cell_type": "code",
   "execution_count": null,
   "metadata": {},
   "outputs": [],
   "source": [
    "fig = plt.figure(figsize=(16, 9))\n",
    "ax = plt.axes()\n",
    "x = fullfire.index\n",
    "y1 = fullfire.nbart_nir_1\n",
    "y2 = fullfire.nbart_swir_3\n",
    "plt.plot(x, y1, label=\"Near Infrared\")\n",
    "plt.plot(x, y2, label=\"Shortwave Infrared\")\n",
    "name = \"NIR & SWIR Reflectance (Scaled) vs Time \\n\"\n",
    "coordinate = \"UTM Zone 55S \" + str(xcoord) + \" \" + str(ycoord)\n",
    "plt.title(name + coordinate)\n",
    "plt.ylabel(\"Reflectance (Scaled x 10,000)\")\n",
    "plt.legend()"
   ]
  },
  {
   "cell_type": "code",
   "execution_count": null,
   "metadata": {},
   "outputs": [],
   "source": [
    "name = \"./supporting graphics/NIR_SWIR_Time_\" + coordinate + \".png\"\n",
    "fig.savefig(name)"
   ]
  },
  {
   "cell_type": "markdown",
   "metadata": {},
   "source": [
    "I keep seeing a large spike in the NBR value around May 2020 as I randomly sample points. I suspect this is due to either the loss or changing of colour of leaves during the autumn period but I am yet to confirm this theory."
   ]
  },
  {
   "cell_type": "code",
   "execution_count": null,
   "metadata": {},
   "outputs": [],
   "source": [
    "fig = plt.figure(figsize=(16, 9))\n",
    "ax = plt.axes()\n",
    "x = fullfire.index\n",
    "y = fullfire.nbr\n",
    "plt.plot(x, y, label=\"Normalised Burn Ratio\")\n",
    "name = \"NBR vs Time \\n\"\n",
    "coordinate = \"UTM Zone 55S \" + str(xcoord) + \" \" + str(ycoord)\n",
    "plt.title(name + coordinate)\n",
    "plt.ylabel(\"NBR ratio (NIR-SWIR)/(NIR+SWIR)\")\n",
    "plt.legend()"
   ]
  },
  {
   "cell_type": "code",
   "execution_count": null,
   "metadata": {},
   "outputs": [],
   "source": [
    "name = \"./supporting graphics/NBR_Time_\" + coordinate + \".png\"\n",
    "fig.savefig(name)"
   ]
  },
  {
   "cell_type": "code",
   "execution_count": null,
   "metadata": {},
   "outputs": [],
   "source": [
    "prefire = fullfire[:16]  # Dataframe sliced up to fire-event date.\n",
    "prefire"
   ]
  },
  {
   "cell_type": "code",
   "execution_count": null,
   "metadata": {},
   "outputs": [],
   "source": [
    "nir_med = prefire.nbart_nir_1.median()\n",
    "swir_med = prefire.nbart_swir_3.median()\n",
    "nbr_med = prefire.nbr.median()\n",
    "nbr_calc_med = (nir_med - swir_med) / (nir_med + swir_med)\n",
    "print(\"Prefire Statistics:\")\n",
    "print(\"Median NIR pixel value: \" + str(nir_med))\n",
    "print(\"Median SWIR pixel value: \" + str(swir_med))\n",
    "print(\"Median NBR pixel value: \" + str(nbr_med))\n",
    "print(\"NBR calculated from median NIR and SWIR: \" + str(nbr_calc_med))\n",
    "\n",
    "name = \"./supporting graphics/prefirestats_\" + coordinate + \".txt\"\n",
    "text_file = open(name, \"w\")\n",
    "text_file.write(\n",
    "    \"Prefire Statistics: \\n\"\n",
    "    \"Median NIR pixel value: \" + str(nir_med) + \"\\n\"\n",
    "    \"Median SWIR pixel value: \" + str(swir_med) + \"\\n\"\n",
    "    \"Median NBR pixel value: \" + str(nbr_med) + \"\\n\"\n",
    "    \"NBR calculated from median NIR and SWIR: \" + str(nbr_calc_med)\n",
    ")\n",
    "text_file.close()"
   ]
  },
  {
   "cell_type": "code",
   "execution_count": null,
   "metadata": {},
   "outputs": [],
   "source": [
    "fs = 9  # subplot fontsize\n",
    "ydis = 0.96  # subplot vertical displacement\n",
    "b = 7  # bins\n",
    "a = 0.5  # transparency\n",
    "\n",
    "name = \"Prefire Histograms \\n\"\n",
    "coordinate = \"UTM Zone 55S \" + str(xcoord) + \" \" + str(ycoord)\n",
    "\n",
    "fig, axs = plt.subplots(1, 3, figsize=(16, 5), sharey=False)\n",
    "axs[0].hist(prefire.nbart_nir_1, bins=b, histtype=\"stepfilled\", color=\"red\", alpha=a)\n",
    "axs[0].set_title(\"Near Infrared\", y=ydis, fontsize=fs)\n",
    "axs[0].set_xlabel(\"Surface Reflectance\\n(Scaled x 10,000)\")\n",
    "axs[1].hist(\n",
    "    prefire.nbart_swir_3, bins=b, histtype=\"stepfilled\", color=\"purple\", alpha=a\n",
    ")\n",
    "axs[1].set_title(\"Shortwave Infrared\", y=ydis, fontsize=fs)\n",
    "axs[1].set_xlabel(\"Surface Reflectance\\n(Scaled x 10,000)\")\n",
    "axs[2].hist(prefire.nbr, bins=b, histtype=\"stepfilled\", color=\"black\", alpha=a)\n",
    "axs[2].set_title(\"Normalised Burn Ratio\", y=ydis, fontsize=fs)\n",
    "axs[2].set_xlabel(\"NBR Ratio\\n(NIR-SWIR)/(NIR+SWIR)\")\n",
    "fig.suptitle(name + coordinate)\n",
    "\n",
    "name = \"./supporting graphics/prefirehists_\" + coordinate + \".png\"\n",
    "plt.savefig(name)"
   ]
  },
  {
   "cell_type": "code",
   "execution_count": null,
   "metadata": {},
   "outputs": [],
   "source": [
    "postfire = fullfire[17:40]  # Dataframe sliced post fire-event date.\n",
    "postfire"
   ]
  },
  {
   "cell_type": "code",
   "execution_count": null,
   "metadata": {},
   "outputs": [],
   "source": [
    "nir_med = postfire.nbart_nir_1.median()\n",
    "swir_med = postfire.nbart_swir_3.median()\n",
    "nbr_med = postfire.nbr.median()\n",
    "nbr_calc_med = (nir_med - swir_med) / (nir_med + swir_med)\n",
    "print(\"Postfire Statistics:\")\n",
    "print(\"Median NIR pixel value: \" + str(nir_med))\n",
    "print(\"Median SWIR pixel value: \" + str(swir_med))\n",
    "print(\"Median NBR pixel value: \" + str(nbr_med))\n",
    "print(\"NBR calculated from median NIR and SWIR: \" + str(nbr_calc_med))\n",
    "\n",
    "name = \"./supporting graphics/postfirestats_\" + coordinate + \".txt\"\n",
    "text_file = open(name, \"w\")\n",
    "text_file.write(\n",
    "    \"Postfire Statistics: \\n\"\n",
    "    \"Median NIR pixel value: \" + str(nir_med) + \"\\n\"\n",
    "    \"Median SWIR pixel value: \" + str(swir_med) + \"\\n\"\n",
    "    \"Median NBR pixel value: \" + str(nbr_med) + \"\\n\"\n",
    "    \"NBR calculated from median NIR and SWIR: \" + str(nbr_calc_med)\n",
    ")\n",
    "text_file.close()"
   ]
  },
  {
   "cell_type": "code",
   "execution_count": null,
   "metadata": {},
   "outputs": [],
   "source": [
    "fs = 9  # subplot fontsize\n",
    "ydis = 0.96  # subplot vertical displacement\n",
    "b = 7  # bins\n",
    "a = 0.5  # transparency\n",
    "\n",
    "name = \"Postfire Histograms \\n\"\n",
    "coordinate = \"UTM Zone 55S \" + str(xcoord) + \" \" + str(ycoord)\n",
    "\n",
    "fig, axs = plt.subplots(1, 3, figsize=(16, 5), sharey=False)\n",
    "axs[0].hist(postfire.nbart_nir_1, bins=b, histtype=\"stepfilled\", color=\"red\", alpha=a)\n",
    "axs[0].set_title(\"Near Infrared\", y=ydis, fontsize=fs)\n",
    "axs[0].set_xlabel(\"Surface Reflectance\\n(Scaled x 10,000)\")\n",
    "axs[1].hist(\n",
    "    postfire.nbart_swir_3, bins=b, histtype=\"stepfilled\", color=\"purple\", alpha=a\n",
    ")\n",
    "axs[1].set_title(\"Shortwave Infrared\", y=ydis, fontsize=fs)\n",
    "axs[1].set_xlabel(\"Surface Reflectance\\n(Scaled x 10,000)\")\n",
    "axs[2].hist(postfire.nbr, bins=b, histtype=\"stepfilled\", color=\"black\", alpha=a)\n",
    "axs[2].set_title(\"Normalised Burn Ratio\", y=ydis, fontsize=fs)\n",
    "axs[2].set_xlabel(\"NBR Ratio\\n(NIR-SWIR)/(NIR+SWIR)\")\n",
    "fig.suptitle(name + coordinate)\n",
    "\n",
    "name = \"./supporting graphics/postfirehists_\" + coordinate + \".png\"\n",
    "plt.savefig(name)"
   ]
  },
  {
   "cell_type": "markdown",
   "metadata": {},
   "source": [
    "***\n",
    "\n",
    "## Additional information\n",
    "\n",
    "**License:** The code in this notebook is licensed under the [Apache License, Version 2.0](https://www.apache.org/licenses/LICENSE-2.0). \n",
    "Digital Earth Australia data is licensed under the [Creative Commons by Attribution 4.0](https://creativecommons.org/licenses/by/4.0/) license.\n",
    "\n",
    "Contains modified Copernicus data (2020) processed by Digital Earth Australia.\n",
    "\n",
    "**Last modified:** 03 Nov 2020.\n",
    "\n",
    "**Compatible datacube version:**"
   ]
  },
  {
   "cell_type": "code",
   "execution_count": null,
   "metadata": {},
   "outputs": [],
   "source": [
    "print(datacube.__version__)"
   ]
  },
  {
   "cell_type": "markdown",
   "metadata": {},
   "source": [
    "## Tags"
   ]
  },
  {
   "cell_type": "raw",
   "metadata": {
    "raw_mimetype": "text/restructuredtext"
   },
   "source": [
    "**Tags**: :index:`NCI compatible`, :index:`sentinel 2`, :index:`NBR`, :index:`time series`, :index:`statistics`, :index:`real world`, :index:`exporting data`"
   ]
  }
 ],
 "metadata": {
  "kernelspec": {
   "display_name": "Python 3",
   "language": "python",
   "name": "python3"
  },
  "language_info": {
   "codemirror_mode": {
    "name": "ipython",
    "version": 3
   },
   "file_extension": ".py",
   "mimetype": "text/x-python",
   "name": "python",
   "nbconvert_exporter": "python",
   "pygments_lexer": "ipython3",
   "version": "3.6.10"
  }
 },
 "nbformat": 4,
 "nbformat_minor": 4
}
