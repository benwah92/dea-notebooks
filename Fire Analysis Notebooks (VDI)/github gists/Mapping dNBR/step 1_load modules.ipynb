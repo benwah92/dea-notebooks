{
 "cells": [
  {
   "cell_type": "code",
   "execution_count": null,
   "metadata": {},
   "outputs": [],
   "source": [
    "import os\n",
    "import sys\n",
    "import datacube\n",
    "from datacube.helpers import write_geotiff\n",
    "import numpy as np\n",
    "import xarray as xr\n",
    "from shapely.geometry import Point\n",
    "from matplotlib import pyplot as plt\n",
    "import glob\n",
    "import rasterio\n",
    "from rasterio.merge import merge\n",
    "from rasterio.plot import show\n",
    "\n",
    "sys.path.append(\"../Scripts\")\n",
    "from dea_bandindices import calculate_indices\n",
    "from dea_datahandling import load_ard\n",
    "from dea_plotting import display_map, rgb\n",
    "\n",
    "dc = datacube.Datacube(app=\"dNBR\")"
   ]
  }
 ],
 "metadata": {
  "kernelspec": {
   "display_name": "Python 3",
   "language": "python",
   "name": "python3"
  },
  "language_info": {
   "codemirror_mode": {
    "name": "ipython",
    "version": 3
   },
   "file_extension": ".py",
   "mimetype": "text/x-python",
   "name": "python",
   "nbconvert_exporter": "python",
   "pygments_lexer": "ipython3",
   "version": "3.8.2"
  }
 },
 "nbformat": 4,
 "nbformat_minor": 4
}
