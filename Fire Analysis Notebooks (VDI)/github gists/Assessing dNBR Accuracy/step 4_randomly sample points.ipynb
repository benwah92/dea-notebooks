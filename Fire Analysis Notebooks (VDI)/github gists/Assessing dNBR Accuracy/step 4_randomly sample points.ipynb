{
 "cells": [
  {
   "cell_type": "markdown",
   "metadata": {},
   "source": [
    "### Randomly Sample n=40 of Each Class\n",
    "There is a disproportionally high number of unburnt sample points, therefore we will randomly sample n=40 of each class to avoid any one class skewing results."
   ]
  },
  {
   "cell_type": "code",
   "execution_count": 11,
   "metadata": {},
   "outputs": [],
   "source": [
    "unburnt = results.loc[(gdf[\"actual_severity\"] == \"Unburnt\")]\n",
    "unburnt = unburnt.sample(n=40)\n",
    "\n",
    "low = results.loc[(gdf[\"actual_severity\"] == \"Low\")]\n",
    "low = low.sample(n=40)\n",
    "\n",
    "moderate = results.loc[(gdf[\"actual_severity\"] == \"Moderate\")]\n",
    "moderate = moderate.sample(n=40)\n",
    "\n",
    "high = results.loc[(gdf[\"actual_severity\"] == \"High\")]\n",
    "high = high.sample(n=40)\n",
    "\n",
    "extreme = results.loc[(gdf[\"actual_severity\"] == \"Extreme\")]\n",
    "extreme = extreme.sample(n=40)"
   ]
  },
  {
   "cell_type": "code",
   "execution_count": 12,
   "metadata": {},
   "outputs": [
    {
     "data": {
      "text/html": [
       "<div>\n",
       "<style scoped>\n",
       "    .dataframe tbody tr th:only-of-type {\n",
       "        vertical-align: middle;\n",
       "    }\n",
       "\n",
       "    .dataframe tbody tr th {\n",
       "        vertical-align: top;\n",
       "    }\n",
       "\n",
       "    .dataframe thead th {\n",
       "        text-align: right;\n",
       "    }\n",
       "</style>\n",
       "<table border=\"1\" class=\"dataframe\">\n",
       "  <thead>\n",
       "    <tr style=\"text-align: right;\">\n",
       "      <th></th>\n",
       "      <th>dNBR</th>\n",
       "      <th>actual_severity</th>\n",
       "      <th>classified_severity</th>\n",
       "      <th>geometry</th>\n",
       "    </tr>\n",
       "  </thead>\n",
       "  <tbody>\n",
       "    <tr>\n",
       "      <th>314</th>\n",
       "      <td>0.02703</td>\n",
       "      <td>Unburnt</td>\n",
       "      <td>Unburnt</td>\n",
       "      <td>POINT (619965.629 6050805.523)</td>\n",
       "    </tr>\n",
       "    <tr>\n",
       "      <th>671</th>\n",
       "      <td>-0.09013</td>\n",
       "      <td>Unburnt</td>\n",
       "      <td>Unburnt</td>\n",
       "      <td>POINT (622594.954 6080638.351)</td>\n",
       "    </tr>\n",
       "    <tr>\n",
       "      <th>418</th>\n",
       "      <td>0.01035</td>\n",
       "      <td>Unburnt</td>\n",
       "      <td>Unburnt</td>\n",
       "      <td>POINT (544694.871 5984661.600)</td>\n",
       "    </tr>\n",
       "    <tr>\n",
       "      <th>294</th>\n",
       "      <td>0.00020</td>\n",
       "      <td>Unburnt</td>\n",
       "      <td>Unburnt</td>\n",
       "      <td>POINT (608819.625 6053457.184)</td>\n",
       "    </tr>\n",
       "    <tr>\n",
       "      <th>482</th>\n",
       "      <td>-0.05578</td>\n",
       "      <td>Unburnt</td>\n",
       "      <td>Unburnt</td>\n",
       "      <td>POINT (621432.005 6079753.704)</td>\n",
       "    </tr>\n",
       "  </tbody>\n",
       "</table>\n",
       "</div>"
      ],
      "text/plain": [
       "        dNBR actual_severity classified_severity  \\\n",
       "314  0.02703         Unburnt             Unburnt   \n",
       "671 -0.09013         Unburnt             Unburnt   \n",
       "418  0.01035         Unburnt             Unburnt   \n",
       "294  0.00020         Unburnt             Unburnt   \n",
       "482 -0.05578         Unburnt             Unburnt   \n",
       "\n",
       "                           geometry  \n",
       "314  POINT (619965.629 6050805.523)  \n",
       "671  POINT (622594.954 6080638.351)  \n",
       "418  POINT (544694.871 5984661.600)  \n",
       "294  POINT (608819.625 6053457.184)  \n",
       "482  POINT (621432.005 6079753.704)  "
      ]
     },
     "execution_count": 12,
     "metadata": {},
     "output_type": "execute_result"
    }
   ],
   "source": [
    "frames = [unburnt, low, moderate, high, extreme]\n",
    "results = pd.concat(frames)\n",
    "results = results[[\"dNBR\", \"actual_severity\", \"classified_severity\", \"geometry\"]]\n",
    "results.head()"
   ]
  }
 ],
 "metadata": {
  "kernelspec": {
   "display_name": "Python 3",
   "language": "python",
   "name": "python3"
  },
  "language_info": {
   "codemirror_mode": {
    "name": "ipython",
    "version": 3
   },
   "file_extension": ".py",
   "mimetype": "text/x-python",
   "name": "python",
   "nbconvert_exporter": "python",
   "pygments_lexer": "ipython3",
   "version": "3.8.2"
  }
 },
 "nbformat": 4,
 "nbformat_minor": 4
}
