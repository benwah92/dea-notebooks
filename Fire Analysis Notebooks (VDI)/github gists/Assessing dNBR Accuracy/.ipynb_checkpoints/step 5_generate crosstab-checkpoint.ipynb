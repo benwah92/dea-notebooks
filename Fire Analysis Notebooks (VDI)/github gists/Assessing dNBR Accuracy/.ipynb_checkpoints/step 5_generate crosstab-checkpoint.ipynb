{
 "cells": [
  {
   "cell_type": "markdown",
   "metadata": {},
   "source": [
    "### Generate a Crosstabulation of Actual vs Measured Categorical Results for Fire Severity\n",
    "Using Pandas, we can create a crosstabulation matrix of results. This is extremely useful if we want to further interrogate class separability from a User's and Producer's accuracy point of view."
   ]
  },
  {
   "cell_type": "code",
   "execution_count": 13,
   "metadata": {},
   "outputs": [
    {
     "data": {
      "text/html": [
       "<div>\n",
       "<style scoped>\n",
       "    .dataframe tbody tr th:only-of-type {\n",
       "        vertical-align: middle;\n",
       "    }\n",
       "\n",
       "    .dataframe tbody tr th {\n",
       "        vertical-align: top;\n",
       "    }\n",
       "\n",
       "    .dataframe thead th {\n",
       "        text-align: right;\n",
       "    }\n",
       "</style>\n",
       "<table border=\"1\" class=\"dataframe\">\n",
       "  <thead>\n",
       "    <tr style=\"text-align: right;\">\n",
       "      <th>classified_severity</th>\n",
       "      <th>Unburnt</th>\n",
       "      <th>Low</th>\n",
       "      <th>Moderate</th>\n",
       "      <th>High</th>\n",
       "      <th>Extreme</th>\n",
       "    </tr>\n",
       "    <tr>\n",
       "      <th>actual_severity</th>\n",
       "      <th></th>\n",
       "      <th></th>\n",
       "      <th></th>\n",
       "      <th></th>\n",
       "      <th></th>\n",
       "    </tr>\n",
       "  </thead>\n",
       "  <tbody>\n",
       "    <tr>\n",
       "      <th>Unburnt</th>\n",
       "      <td>37</td>\n",
       "      <td>0</td>\n",
       "      <td>3</td>\n",
       "      <td>0</td>\n",
       "      <td>0</td>\n",
       "    </tr>\n",
       "    <tr>\n",
       "      <th>Low</th>\n",
       "      <td>15</td>\n",
       "      <td>16</td>\n",
       "      <td>9</td>\n",
       "      <td>0</td>\n",
       "      <td>0</td>\n",
       "    </tr>\n",
       "    <tr>\n",
       "      <th>Moderate</th>\n",
       "      <td>2</td>\n",
       "      <td>2</td>\n",
       "      <td>21</td>\n",
       "      <td>4</td>\n",
       "      <td>11</td>\n",
       "    </tr>\n",
       "    <tr>\n",
       "      <th>High</th>\n",
       "      <td>0</td>\n",
       "      <td>1</td>\n",
       "      <td>12</td>\n",
       "      <td>18</td>\n",
       "      <td>9</td>\n",
       "    </tr>\n",
       "    <tr>\n",
       "      <th>Extreme</th>\n",
       "      <td>0</td>\n",
       "      <td>0</td>\n",
       "      <td>0</td>\n",
       "      <td>5</td>\n",
       "      <td>35</td>\n",
       "    </tr>\n",
       "  </tbody>\n",
       "</table>\n",
       "</div>"
      ],
      "text/plain": [
       "classified_severity  Unburnt  Low  Moderate  High  Extreme\n",
       "actual_severity                                           \n",
       "Unburnt                   37    0         3     0        0\n",
       "Low                       15   16         9     0        0\n",
       "Moderate                   2    2        21     4       11\n",
       "High                       0    1        12    18        9\n",
       "Extreme                    0    0         0     5       35"
      ]
     },
     "execution_count": 13,
     "metadata": {},
     "output_type": "execute_result"
    }
   ],
   "source": [
    "xtab = pd.crosstab(results[\"actual_severity\"], results[\"classified_severity\"])\n",
    "sev = [\"Unburnt\", \"Low\", \"Moderate\", \"High\", \"Extreme\"]\n",
    "\n",
    "xtab = xtab.reindex(sev, axis=\"columns\")\n",
    "xtab = xtab.reindex(sev, axis=\"rows\")\n",
    "xtab.to_csv(\"./dNBR_accuracy_severity_random.csv\")\n",
    "xtab"
   ]
  },
  {
   "cell_type": "code",
   "execution_count": 14,
   "metadata": {},
   "outputs": [
    {
     "data": {
      "text/plain": [
       "63.5"
      ]
     },
     "execution_count": 14,
     "metadata": {},
     "output_type": "execute_result"
    }
   ],
   "source": [
    "overall_accuracy = (\n",
    "    (\n",
    "        xtab[\"Unburnt\"][\"Unburnt\"]\n",
    "        + xtab[\"Low\"][\"Low\"]\n",
    "        + xtab[\"Moderate\"][\"Moderate\"]\n",
    "        + xtab[\"High\"][\"High\"]\n",
    "        + xtab[\"Extreme\"][\"Extreme\"]\n",
    "    )\n",
    "    / len(results)\n",
    "    * 100\n",
    ")\n",
    "\n",
    "overall_accuracy"
   ]
  }
 ],
 "metadata": {
  "kernelspec": {
   "display_name": "Python 3",
   "language": "python",
   "name": "python3"
  },
  "language_info": {
   "codemirror_mode": {
    "name": "ipython",
    "version": 3
   },
   "file_extension": ".py",
   "mimetype": "text/x-python",
   "name": "python",
   "nbconvert_exporter": "python",
   "pygments_lexer": "ipython3",
   "version": "3.8.2"
  }
 },
 "nbformat": 4,
 "nbformat_minor": 4
}
