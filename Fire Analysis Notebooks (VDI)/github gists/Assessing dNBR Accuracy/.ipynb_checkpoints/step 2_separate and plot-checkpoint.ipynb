{
 "cells": [
  {
   "cell_type": "markdown",
   "metadata": {},
   "source": [
    "### Separate and Plot Actual Class Observations\n",
    "Actual severity observations in the dataset and classified categorically as `Unburnt`, `Low`, `Moderate`, `High` and `Extreme`. By separating them, we can then plot them in a histogram to get a quick visual understanding of class separability."
   ]
  },
  {
   "cell_type": "markdown",
   "metadata": {},
   "source": [
    "Separate each class into separate geodataframes based on the actual (measured) classes:"
   ]
  },
  {
   "cell_type": "code",
   "execution_count": 3,
   "metadata": {},
   "outputs": [],
   "source": [
    "actual_unburnt = gdf.loc[(gdf[\"actual_severity\"] == \"Unburnt\")]\n",
    "actual_low = gdf.loc[(gdf[\"actual_severity\"] == \"Low\")]\n",
    "actual_moderate = gdf.loc[(gdf[\"actual_severity\"] == \"Moderate\")]\n",
    "actual_high = gdf.loc[(gdf[\"actual_severity\"] == \"High\")]\n",
    "actual_extreme = gdf.loc[(gdf[\"actual_severity\"] == \"Extreme\")]"
   ]
  },
  {
   "cell_type": "markdown",
   "metadata": {},
   "source": [
    "Plot the classes (less unburnt) on a histogram to find threshold values for separation:"
   ]
  },
  {
   "cell_type": "code",
   "execution_count": 4,
   "metadata": {},
   "outputs": [
    {
     "data": {
      "image/png": "[encoded data removed]",
      "text/plain": [
       "<Figure size 432x288 with 1 Axes>"
      ]
     },
     "metadata": {
      "needs_background": "light"
     },
     "output_type": "display_data"
    }
   ],
   "source": [
    "# plt.hist(actual_unburnt['dNBR'], bins=30, alpha = 0.5, label='unburnt')\n",
    "plt.hist(actual_low[\"dNBR\"], bins=7, alpha=0.5, label=\"low\")\n",
    "plt.hist(actual_moderate[\"dNBR\"], bins=16, alpha=0.5, label=\"moderate\")\n",
    "plt.hist(actual_high[\"dNBR\"], bins=10, alpha=0.5, label=\"high\")\n",
    "plt.hist(actual_extreme[\"dNBR\"], bins=17, alpha=0.5, label=\"extreme\")\n",
    "\n",
    "plt.legend(loc=\"upper left\")\n",
    "\n",
    "plt.xlabel(\"dNBR\")\n",
    "plt.ylabel(\"Count\")\n",
    "plt.title(\"Fire Severity Class Separability\")\n",
    "\n",
    "plt.savefig(\"class_separability_severity.png\")\n",
    "plt.show()"
   ]
  },
  {
   "cell_type": "markdown",
   "metadata": {},
   "source": [
    "Extremely poor separability between classes. This could be due to the accuracy data that was sourced by visually intepreting 3m resolution Planet Dove data using false colour cues. It was easy to identify 'extreme' classes that were completed charred and also unburnt healthy areas but distinguishing between low, moderate and high was very difficult."
   ]
  }
 ],
 "metadata": {
  "kernelspec": {
   "display_name": "Python 3",
   "language": "python",
   "name": "python3"
  },
  "language_info": {
   "codemirror_mode": {
    "name": "ipython",
    "version": 3
   },
   "file_extension": ".py",
   "mimetype": "text/x-python",
   "name": "python",
   "nbconvert_exporter": "python",
   "pygments_lexer": "ipython3",
   "version": "3.8.2"
  }
 },
 "nbformat": 4,
 "nbformat_minor": 4
}
