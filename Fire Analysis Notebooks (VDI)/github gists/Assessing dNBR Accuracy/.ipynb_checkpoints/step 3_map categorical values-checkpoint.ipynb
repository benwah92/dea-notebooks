{
 "cells": [
  {
   "cell_type": "markdown",
   "metadata": {},
   "source": [
    "### Map dNBR values to Categorical Values\n",
    "The dNBR results which were spatially extracted into this dataset for direct comparison are floating values. We need to convert these to categorical values (`Unburnt`,`Low`,`Moderate`,`High`,`Extreme`) so we can directly match and assess them."
   ]
  },
  {
   "cell_type": "code",
   "execution_count": 5,
   "metadata": {},
   "outputs": [],
   "source": [
    "classified_unburnt = gdf.loc[(gdf[\"dNBR\"] < 0.10)]\n",
    "classified_low = gdf.loc[(gdf[\"dNBR\"] >= 0.10) & (gdf[\"dNBR\"] < 0.30)]\n",
    "classified_moderate = gdf.loc[(gdf[\"dNBR\"] >= 0.30) & (gdf[\"dNBR\"] < 0.50)]\n",
    "classified_high = gdf.loc[(gdf[\"dNBR\"] >= 0.50) & (gdf[\"dNBR\"] < 0.65)]\n",
    "classified_extreme = gdf.loc[(gdf[\"dNBR\"] >= 0.65)]"
   ]
  },
  {
   "cell_type": "code",
   "execution_count": 6,
   "metadata": {},
   "outputs": [],
   "source": [
    "classified_unburnt = classified_unburnt.assign(classified_severity=\"Unburnt\")\n",
    "classified_low = classified_low.assign(classified_severity=\"Low\")\n",
    "classified_moderate = classified_moderate.assign(classified_severity=\"Moderate\")\n",
    "classified_high = classified_high.assign(classified_severity=\"High\")\n",
    "classified_extreme = classified_extreme.assign(classified_severity=\"Extreme\")"
   ]
  },
  {
   "cell_type": "markdown",
   "metadata": {},
   "source": [
    "Combined the results into a new geodataframe and produce a crosstab (accuracy matrix):"
   ]
  },
  {
   "cell_type": "code",
   "execution_count": 7,
   "metadata": {},
   "outputs": [
    {
     "data": {
      "text/html": [
       "<div>\n",
       "<style scoped>\n",
       "    .dataframe tbody tr th:only-of-type {\n",
       "        vertical-align: middle;\n",
       "    }\n",
       "\n",
       "    .dataframe tbody tr th {\n",
       "        vertical-align: top;\n",
       "    }\n",
       "\n",
       "    .dataframe thead th {\n",
       "        text-align: right;\n",
       "    }\n",
       "</style>\n",
       "<table border=\"1\" class=\"dataframe\">\n",
       "  <thead>\n",
       "    <tr style=\"text-align: right;\">\n",
       "      <th></th>\n",
       "      <th>dNBR</th>\n",
       "      <th>actual_severity</th>\n",
       "      <th>classified_severity</th>\n",
       "      <th>geometry</th>\n",
       "    </tr>\n",
       "  </thead>\n",
       "  <tbody>\n",
       "    <tr>\n",
       "      <th>0</th>\n",
       "      <td>-0.04120</td>\n",
       "      <td>Unburnt</td>\n",
       "      <td>Unburnt</td>\n",
       "      <td>POINT (620890.643 5981712.721)</td>\n",
       "    </tr>\n",
       "    <tr>\n",
       "      <th>4</th>\n",
       "      <td>0.00954</td>\n",
       "      <td>Unburnt</td>\n",
       "      <td>Unburnt</td>\n",
       "      <td>POINT (619427.841 6050698.299)</td>\n",
       "    </tr>\n",
       "    <tr>\n",
       "      <th>6</th>\n",
       "      <td>-0.05770</td>\n",
       "      <td>Unburnt</td>\n",
       "      <td>Unburnt</td>\n",
       "      <td>POINT (618872.144 5981099.339)</td>\n",
       "    </tr>\n",
       "    <tr>\n",
       "      <th>7</th>\n",
       "      <td>-0.14799</td>\n",
       "      <td>Unburnt</td>\n",
       "      <td>Unburnt</td>\n",
       "      <td>POINT (614146.389 6011331.299)</td>\n",
       "    </tr>\n",
       "    <tr>\n",
       "      <th>10</th>\n",
       "      <td>-0.07889</td>\n",
       "      <td>Unburnt</td>\n",
       "      <td>Unburnt</td>\n",
       "      <td>POINT (613935.682 6011263.956)</td>\n",
       "    </tr>\n",
       "  </tbody>\n",
       "</table>\n",
       "</div>"
      ],
      "text/plain": [
       "       dNBR actual_severity classified_severity  \\\n",
       "0  -0.04120         Unburnt             Unburnt   \n",
       "4   0.00954         Unburnt             Unburnt   \n",
       "6  -0.05770         Unburnt             Unburnt   \n",
       "7  -0.14799         Unburnt             Unburnt   \n",
       "10 -0.07889         Unburnt             Unburnt   \n",
       "\n",
       "                          geometry  \n",
       "0   POINT (620890.643 5981712.721)  \n",
       "4   POINT (619427.841 6050698.299)  \n",
       "6   POINT (618872.144 5981099.339)  \n",
       "7   POINT (614146.389 6011331.299)  \n",
       "10  POINT (613935.682 6011263.956)  "
      ]
     },
     "execution_count": 7,
     "metadata": {},
     "output_type": "execute_result"
    }
   ],
   "source": [
    "frames = [\n",
    "    classified_unburnt,\n",
    "    classified_low,\n",
    "    classified_moderate,\n",
    "    classified_high,\n",
    "    classified_extreme,\n",
    "]\n",
    "results = pd.concat(frames)\n",
    "results = results[[\"dNBR\", \"actual_severity\", \"classified_severity\", \"geometry\"]]\n",
    "results_duplicate = results  # used later on\n",
    "results.head()"
   ]
  }
 ],
 "metadata": {
  "kernelspec": {
   "display_name": "Python 3",
   "language": "python",
   "name": "python3"
  },
  "language_info": {
   "codemirror_mode": {
    "name": "ipython",
    "version": 3
   },
   "file_extension": ".py",
   "mimetype": "text/x-python",
   "name": "python",
   "nbconvert_exporter": "python",
   "pygments_lexer": "ipython3",
   "version": "3.8.2"
  }
 },
 "nbformat": 4,
 "nbformat_minor": 4
}
