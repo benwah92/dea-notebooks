{
 "cells": [
  {
   "cell_type": "markdown",
   "metadata": {},
   "source": [
    "### Calculate Fire Extent Accuracy\n",
    "To calcuate fire extent accuracy, we use the same process however we remap fire severity classes to either `Unburnt` or `Burnt`."
   ]
  },
  {
   "cell_type": "code",
   "execution_count": 15,
   "metadata": {},
   "outputs": [],
   "source": [
    "results_duplicate.loc[\n",
    "    results_duplicate.actual_severity == \"Low\", \"actual_severity\"\n",
    "] = \"Burnt\"\n",
    "results_duplicate.loc[\n",
    "    results_duplicate.actual_severity == \"Moderate\", \"actual_severity\"\n",
    "] = \"Burnt\"\n",
    "results_duplicate.loc[\n",
    "    results_duplicate.actual_severity == \"High\", \"actual_severity\"\n",
    "] = \"Burnt\"\n",
    "results_duplicate.loc[\n",
    "    results_duplicate.actual_severity == \"Extreme\", \"actual_severity\"\n",
    "] = \"Burnt\"\n",
    "results_duplicate.loc[\n",
    "    results_duplicate.classified_severity == \"Low\", \"classified_severity\"\n",
    "] = \"Burnt\"\n",
    "results_duplicate.loc[\n",
    "    results_duplicate.classified_severity == \"Moderate\", \"classified_severity\"\n",
    "] = \"Burnt\"\n",
    "results_duplicate.loc[\n",
    "    results_duplicate.classified_severity == \"High\", \"classified_severity\"\n",
    "] = \"Burnt\"\n",
    "results_duplicate.loc[\n",
    "    results_duplicate.classified_severity == \"Extreme\", \"classified_severity\"\n",
    "] = \"Burnt\""
   ]
  },
  {
   "cell_type": "code",
   "execution_count": 16,
   "metadata": {},
   "outputs": [
    {
     "data": {
      "text/html": [
       "<div>\n",
       "<style scoped>\n",
       "    .dataframe tbody tr th:only-of-type {\n",
       "        vertical-align: middle;\n",
       "    }\n",
       "\n",
       "    .dataframe tbody tr th {\n",
       "        vertical-align: top;\n",
       "    }\n",
       "\n",
       "    .dataframe thead th {\n",
       "        text-align: right;\n",
       "    }\n",
       "</style>\n",
       "<table border=\"1\" class=\"dataframe\">\n",
       "  <thead>\n",
       "    <tr style=\"text-align: right;\">\n",
       "      <th></th>\n",
       "      <th>dNBR</th>\n",
       "      <th>actual_severity</th>\n",
       "      <th>classified_severity</th>\n",
       "      <th>geometry</th>\n",
       "    </tr>\n",
       "  </thead>\n",
       "  <tbody>\n",
       "    <tr>\n",
       "      <th>0</th>\n",
       "      <td>-0.04120</td>\n",
       "      <td>Unburnt</td>\n",
       "      <td>Unburnt</td>\n",
       "      <td>POINT (620890.643 5981712.721)</td>\n",
       "    </tr>\n",
       "    <tr>\n",
       "      <th>4</th>\n",
       "      <td>0.00954</td>\n",
       "      <td>Unburnt</td>\n",
       "      <td>Unburnt</td>\n",
       "      <td>POINT (619427.841 6050698.299)</td>\n",
       "    </tr>\n",
       "    <tr>\n",
       "      <th>6</th>\n",
       "      <td>-0.05770</td>\n",
       "      <td>Unburnt</td>\n",
       "      <td>Unburnt</td>\n",
       "      <td>POINT (618872.144 5981099.339)</td>\n",
       "    </tr>\n",
       "    <tr>\n",
       "      <th>7</th>\n",
       "      <td>-0.14799</td>\n",
       "      <td>Unburnt</td>\n",
       "      <td>Unburnt</td>\n",
       "      <td>POINT (614146.389 6011331.299)</td>\n",
       "    </tr>\n",
       "    <tr>\n",
       "      <th>10</th>\n",
       "      <td>-0.07889</td>\n",
       "      <td>Unburnt</td>\n",
       "      <td>Unburnt</td>\n",
       "      <td>POINT (613935.682 6011263.956)</td>\n",
       "    </tr>\n",
       "  </tbody>\n",
       "</table>\n",
       "</div>"
      ],
      "text/plain": [
       "       dNBR actual_severity classified_severity  \\\n",
       "0  -0.04120         Unburnt             Unburnt   \n",
       "4   0.00954         Unburnt             Unburnt   \n",
       "6  -0.05770         Unburnt             Unburnt   \n",
       "7  -0.14799         Unburnt             Unburnt   \n",
       "10 -0.07889         Unburnt             Unburnt   \n",
       "\n",
       "                          geometry  \n",
       "0   POINT (620890.643 5981712.721)  \n",
       "4   POINT (619427.841 6050698.299)  \n",
       "6   POINT (618872.144 5981099.339)  \n",
       "7   POINT (614146.389 6011331.299)  \n",
       "10  POINT (613935.682 6011263.956)  "
      ]
     },
     "execution_count": 16,
     "metadata": {},
     "output_type": "execute_result"
    }
   ],
   "source": [
    "results_duplicate.head()"
   ]
  },
  {
   "cell_type": "code",
   "execution_count": 17,
   "metadata": {},
   "outputs": [],
   "source": [
    "unburnt = results_duplicate.loc[(results_duplicate[\"actual_severity\"] == \"Unburnt\")]\n",
    "unburnt = unburnt.sample(n=160)\n",
    "\n",
    "burnt = results_duplicate.loc[(results_duplicate[\"actual_severity\"] == \"Burnt\")]\n",
    "burnt = burnt.sample(n=160)"
   ]
  },
  {
   "cell_type": "code",
   "execution_count": 18,
   "metadata": {},
   "outputs": [
    {
     "data": {
      "image/png": "[encoded data removed]",
      "text/plain": [
       "<Figure size 432x288 with 1 Axes>"
      ]
     },
     "metadata": {
      "needs_background": "light"
     },
     "output_type": "display_data"
    }
   ],
   "source": [
    "plt.hist(unburnt[\"dNBR\"], bins=20, alpha=0.5, label=\"unburnt\")\n",
    "plt.hist(burnt[\"dNBR\"], bins=20, alpha=0.5, label=\"burnt\")\n",
    "\n",
    "plt.legend(loc=\"upper left\")\n",
    "\n",
    "plt.xlabel(\"dNBR\")\n",
    "plt.ylabel(\"Count\")\n",
    "plt.title(\"Fire Extent Class Separability\")\n",
    "\n",
    "plt.savefig(\"class_separability_extent.png\")\n",
    "plt.show()"
   ]
  },
  {
   "cell_type": "code",
   "execution_count": 19,
   "metadata": {},
   "outputs": [
    {
     "data": {
      "text/html": [
       "<div>\n",
       "<style scoped>\n",
       "    .dataframe tbody tr th:only-of-type {\n",
       "        vertical-align: middle;\n",
       "    }\n",
       "\n",
       "    .dataframe tbody tr th {\n",
       "        vertical-align: top;\n",
       "    }\n",
       "\n",
       "    .dataframe thead th {\n",
       "        text-align: right;\n",
       "    }\n",
       "</style>\n",
       "<table border=\"1\" class=\"dataframe\">\n",
       "  <thead>\n",
       "    <tr style=\"text-align: right;\">\n",
       "      <th></th>\n",
       "      <th>dNBR</th>\n",
       "      <th>actual_severity</th>\n",
       "      <th>classified_severity</th>\n",
       "      <th>geometry</th>\n",
       "    </tr>\n",
       "  </thead>\n",
       "  <tbody>\n",
       "    <tr>\n",
       "      <th>232</th>\n",
       "      <td>-0.08403</td>\n",
       "      <td>Unburnt</td>\n",
       "      <td>Unburnt</td>\n",
       "      <td>POINT (621556.897 6079711.928)</td>\n",
       "    </tr>\n",
       "    <tr>\n",
       "      <th>1050</th>\n",
       "      <td>-0.00610</td>\n",
       "      <td>Unburnt</td>\n",
       "      <td>Unburnt</td>\n",
       "      <td>POINT (606999.560 6022200.241)</td>\n",
       "    </tr>\n",
       "    <tr>\n",
       "      <th>650</th>\n",
       "      <td>0.11247</td>\n",
       "      <td>Unburnt</td>\n",
       "      <td>Burnt</td>\n",
       "      <td>POINT (619252.590 6052092.973)</td>\n",
       "    </tr>\n",
       "    <tr>\n",
       "      <th>922</th>\n",
       "      <td>-0.05074</td>\n",
       "      <td>Unburnt</td>\n",
       "      <td>Unburnt</td>\n",
       "      <td>POINT (625547.449 5984952.798)</td>\n",
       "    </tr>\n",
       "    <tr>\n",
       "      <th>916</th>\n",
       "      <td>0.09580</td>\n",
       "      <td>Unburnt</td>\n",
       "      <td>Unburnt</td>\n",
       "      <td>POINT (619722.073 6050258.325)</td>\n",
       "    </tr>\n",
       "  </tbody>\n",
       "</table>\n",
       "</div>"
      ],
      "text/plain": [
       "         dNBR actual_severity classified_severity  \\\n",
       "232  -0.08403         Unburnt             Unburnt   \n",
       "1050 -0.00610         Unburnt             Unburnt   \n",
       "650   0.11247         Unburnt               Burnt   \n",
       "922  -0.05074         Unburnt             Unburnt   \n",
       "916   0.09580         Unburnt             Unburnt   \n",
       "\n",
       "                            geometry  \n",
       "232   POINT (621556.897 6079711.928)  \n",
       "1050  POINT (606999.560 6022200.241)  \n",
       "650   POINT (619252.590 6052092.973)  \n",
       "922   POINT (625547.449 5984952.798)  \n",
       "916   POINT (619722.073 6050258.325)  "
      ]
     },
     "execution_count": 19,
     "metadata": {},
     "output_type": "execute_result"
    }
   ],
   "source": [
    "frames = [unburnt, burnt]\n",
    "results = pd.concat(frames)\n",
    "results = results[[\"dNBR\", \"actual_severity\", \"classified_severity\", \"geometry\"]]\n",
    "results.head()"
   ]
  },
  {
   "cell_type": "code",
   "execution_count": 20,
   "metadata": {},
   "outputs": [
    {
     "data": {
      "text/html": [
       "<div>\n",
       "<style scoped>\n",
       "    .dataframe tbody tr th:only-of-type {\n",
       "        vertical-align: middle;\n",
       "    }\n",
       "\n",
       "    .dataframe tbody tr th {\n",
       "        vertical-align: top;\n",
       "    }\n",
       "\n",
       "    .dataframe thead th {\n",
       "        text-align: right;\n",
       "    }\n",
       "</style>\n",
       "<table border=\"1\" class=\"dataframe\">\n",
       "  <thead>\n",
       "    <tr style=\"text-align: right;\">\n",
       "      <th>classified_severity</th>\n",
       "      <th>Unburnt</th>\n",
       "      <th>Burnt</th>\n",
       "    </tr>\n",
       "    <tr>\n",
       "      <th>actual_severity</th>\n",
       "      <th></th>\n",
       "      <th></th>\n",
       "    </tr>\n",
       "  </thead>\n",
       "  <tbody>\n",
       "    <tr>\n",
       "      <th>Unburnt</th>\n",
       "      <td>144</td>\n",
       "      <td>16</td>\n",
       "    </tr>\n",
       "    <tr>\n",
       "      <th>Burnt</th>\n",
       "      <td>13</td>\n",
       "      <td>147</td>\n",
       "    </tr>\n",
       "  </tbody>\n",
       "</table>\n",
       "</div>"
      ],
      "text/plain": [
       "classified_severity  Unburnt  Burnt\n",
       "actual_severity                    \n",
       "Unburnt                  144     16\n",
       "Burnt                     13    147"
      ]
     },
     "execution_count": 20,
     "metadata": {},
     "output_type": "execute_result"
    }
   ],
   "source": [
    "xtab = pd.crosstab(results[\"actual_severity\"], results[\"classified_severity\"])\n",
    "sev = [\"Unburnt\", \"Burnt\"]\n",
    "\n",
    "xtab = xtab.reindex(sev, axis=\"columns\")\n",
    "xtab = xtab.reindex(sev, axis=\"rows\")\n",
    "xtab.to_csv(\"./dNBR_accuracy_extent_random.csv\")\n",
    "xtab"
   ]
  },
  {
   "cell_type": "code",
   "execution_count": 21,
   "metadata": {},
   "outputs": [
    {
     "data": {
      "text/plain": [
       "90.9375"
      ]
     },
     "execution_count": 21,
     "metadata": {},
     "output_type": "execute_result"
    }
   ],
   "source": [
    "overall_accuracy = (\n",
    "    (xtab[\"Unburnt\"][\"Unburnt\"] + xtab[\"Burnt\"][\"Burnt\"]) / len(results) * 100\n",
    ")\n",
    "\n",
    "overall_accuracy"
   ]
  }
 ],
 "metadata": {
  "kernelspec": {
   "display_name": "Python 3",
   "language": "python",
   "name": "python3"
  },
  "language_info": {
   "codemirror_mode": {
    "name": "ipython",
    "version": 3
   },
   "file_extension": ".py",
   "mimetype": "text/x-python",
   "name": "python",
   "nbconvert_exporter": "python",
   "pygments_lexer": "ipython3",
   "version": "3.8.2"
  }
 },
 "nbformat": 4,
 "nbformat_minor": 4
}
