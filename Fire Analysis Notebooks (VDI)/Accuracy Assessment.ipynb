{
 "cells": [
  {
   "cell_type": "markdown",
   "metadata": {},
   "source": [
    "### Accuracy Assessment\n",
    "Created by Amos Bennett.<br>\n",
    "Last Updated 30 Sep 20. <br>\n",
    "\n",
    "__Updates:__ \n",
    "\n",
    "Calculates the accuracy matrix (crosstab matrix) of the dNBR layer for burn severity (classes: unburnt, low, moderate, high, extreme) and burn extent (classes: unburnt, burnt). Histogram shows class separability for the burn severity analysis. By selecting breaks between classes with minimal overlap, the best accuracy result can be assessed for this particular classification. Actual and classified severities are then mapped against each other (per row) and a cross tabulation calculation is conducted."
   ]
  },
  {
   "cell_type": "code",
   "execution_count": 146,
   "metadata": {},
   "outputs": [],
   "source": [
    "import geopandas as gpd\n",
    "import pandas as pd\n",
    "from matplotlib import pyplot as plt"
   ]
  },
  {
   "cell_type": "code",
   "execution_count": 147,
   "metadata": {},
   "outputs": [
    {
     "data": {
      "text/html": [
       "<div>\n",
       "<style scoped>\n",
       "    .dataframe tbody tr th:only-of-type {\n",
       "        vertical-align: middle;\n",
       "    }\n",
       "\n",
       "    .dataframe tbody tr th {\n",
       "        vertical-align: top;\n",
       "    }\n",
       "\n",
       "    .dataframe thead th {\n",
       "        text-align: right;\n",
       "    }\n",
       "</style>\n",
       "<table border=\"1\" class=\"dataframe\">\n",
       "  <thead>\n",
       "    <tr style=\"text-align: right;\">\n",
       "      <th></th>\n",
       "      <th>dNBR</th>\n",
       "      <th>actual_severity</th>\n",
       "      <th>geometry</th>\n",
       "    </tr>\n",
       "  </thead>\n",
       "  <tbody>\n",
       "    <tr>\n",
       "      <th>0</th>\n",
       "      <td>-0.04120</td>\n",
       "      <td>Unburnt</td>\n",
       "      <td>POINT (620890.643 5981712.721)</td>\n",
       "    </tr>\n",
       "    <tr>\n",
       "      <th>1</th>\n",
       "      <td>0.58526</td>\n",
       "      <td>Moderate</td>\n",
       "      <td>POINT (584229.417 5980124.584)</td>\n",
       "    </tr>\n",
       "    <tr>\n",
       "      <th>2</th>\n",
       "      <td>0.20552</td>\n",
       "      <td>Low</td>\n",
       "      <td>POINT (585809.421 5980766.175)</td>\n",
       "    </tr>\n",
       "    <tr>\n",
       "      <th>3</th>\n",
       "      <td>0.31326</td>\n",
       "      <td>Moderate</td>\n",
       "      <td>POINT (623375.568 6070297.326)</td>\n",
       "    </tr>\n",
       "    <tr>\n",
       "      <th>4</th>\n",
       "      <td>0.00954</td>\n",
       "      <td>Unburnt</td>\n",
       "      <td>POINT (619427.841 6050698.299)</td>\n",
       "    </tr>\n",
       "  </tbody>\n",
       "</table>\n",
       "</div>"
      ],
      "text/plain": [
       "      dNBR actual_severity                        geometry\n",
       "0 -0.04120         Unburnt  POINT (620890.643 5981712.721)\n",
       "1  0.58526        Moderate  POINT (584229.417 5980124.584)\n",
       "2  0.20552             Low  POINT (585809.421 5980766.175)\n",
       "3  0.31326        Moderate  POINT (623375.568 6070297.326)\n",
       "4  0.00954         Unburnt  POINT (619427.841 6050698.299)"
      ]
     },
     "execution_count": 147,
     "metadata": {},
     "output_type": "execute_result"
    }
   ],
   "source": [
    "gdf = gpd.read_file(\"./training_accuracy_data.shp\")\n",
    "gdf = gdf.rename(columns={\"Tumbarumba\": \"dNBR\", \"SEVERITY\": \"actual_severity\"})\n",
    "gdf.head()"
   ]
  },
  {
   "cell_type": "markdown",
   "metadata": {},
   "source": [
    "__From dNBR raster histogram:__<br>\n",
    "mix value = -0.78936<br>\n",
    "max value = 1.2721"
   ]
  },
  {
   "cell_type": "markdown",
   "metadata": {},
   "source": [
    "Separate each class into separate geodataframes based on the actual (measured) classes:"
   ]
  },
  {
   "cell_type": "code",
   "execution_count": 148,
   "metadata": {},
   "outputs": [],
   "source": [
    "actual_unburnt = gdf.loc[(gdf[\"actual_severity\"] == \"Unburnt\")]\n",
    "actual_low = gdf.loc[(gdf[\"actual_severity\"] == \"Low\")]\n",
    "actual_moderate = gdf.loc[(gdf[\"actual_severity\"] == \"Moderate\")]\n",
    "actual_high = gdf.loc[(gdf[\"actual_severity\"] == \"High\")]\n",
    "actual_extreme = gdf.loc[(gdf[\"actual_severity\"] == \"Extreme\")]"
   ]
  },
  {
   "cell_type": "markdown",
   "metadata": {},
   "source": [
    "Plot the classes (less unburnt) on a histogram to find threshold values for separation:"
   ]
  },
  {
   "cell_type": "code",
   "execution_count": 149,
   "metadata": {},
   "outputs": [
    {
     "data": {
      "image/png": "[encoded data removed]",
      "text/plain": [
       "<Figure size 432x288 with 1 Axes>"
      ]
     },
     "metadata": {
      "needs_background": "light"
     },
     "output_type": "display_data"
    }
   ],
   "source": [
    "# plt.hist(actual_unburnt['dNBR'], bins=30, alpha = 0.5, label='unburnt')\n",
    "plt.hist(actual_low[\"dNBR\"], bins=7, alpha=0.5, label=\"low\")\n",
    "plt.hist(actual_moderate[\"dNBR\"], bins=16, alpha=0.5, label=\"moderate\")\n",
    "plt.hist(actual_high[\"dNBR\"], bins=10, alpha=0.5, label=\"high\")\n",
    "plt.hist(actual_extreme[\"dNBR\"], bins=17, alpha=0.5, label=\"extreme\")\n",
    "\n",
    "plt.legend(loc=\"upper left\")\n",
    "\n",
    "plt.xlabel(\"dNBR\")\n",
    "plt.ylabel(\"Count\")\n",
    "plt.title(\"Fire Severity Class Separability\")\n",
    "\n",
    "plt.savefig(\"class_separability_severity.png\")\n",
    "plt.show()"
   ]
  },
  {
   "cell_type": "markdown",
   "metadata": {},
   "source": [
    "Extremely poor separability between classes. This could be due to the accuracy data that was sourced by visually intepreting 3m resolution Planet Dove data using false colour cues. It was easy to identify 'extreme' classes that were completed charred and also unburnt healthy areas but distinguishing between low, moderate and high was very difficult."
   ]
  },
  {
   "cell_type": "markdown",
   "metadata": {},
   "source": [
    "Apply threshold values and map the categorical matches to the original geodataframe:"
   ]
  },
  {
   "cell_type": "code",
   "execution_count": 150,
   "metadata": {},
   "outputs": [],
   "source": [
    "classified_unburnt = gdf.loc[(gdf[\"dNBR\"] < 0.10)]\n",
    "classified_low = gdf.loc[(gdf[\"dNBR\"] >= 0.10) & (gdf[\"dNBR\"] < 0.30)]\n",
    "classified_moderate = gdf.loc[(gdf[\"dNBR\"] >= 0.30) & (gdf[\"dNBR\"] < 0.50)]\n",
    "classified_high = gdf.loc[(gdf[\"dNBR\"] >= 0.50) & (gdf[\"dNBR\"] < 0.65)]\n",
    "classified_extreme = gdf.loc[(gdf[\"dNBR\"] >= 0.65)]"
   ]
  },
  {
   "cell_type": "code",
   "execution_count": 151,
   "metadata": {},
   "outputs": [],
   "source": [
    "classified_unburnt = classified_unburnt.assign(classified_severity=\"Unburnt\")\n",
    "classified_low = classified_low.assign(classified_severity=\"Low\")\n",
    "classified_moderate = classified_moderate.assign(classified_severity=\"Moderate\")\n",
    "classified_high = classified_high.assign(classified_severity=\"High\")\n",
    "classified_extreme = classified_extreme.assign(classified_severity=\"Extreme\")"
   ]
  },
  {
   "cell_type": "markdown",
   "metadata": {},
   "source": [
    "Combined the results into a new geodataframe and produce a crosstab (accuracy matrix):"
   ]
  },
  {
   "cell_type": "code",
   "execution_count": 152,
   "metadata": {},
   "outputs": [
    {
     "data": {
      "text/html": [
       "<div>\n",
       "<style scoped>\n",
       "    .dataframe tbody tr th:only-of-type {\n",
       "        vertical-align: middle;\n",
       "    }\n",
       "\n",
       "    .dataframe tbody tr th {\n",
       "        vertical-align: top;\n",
       "    }\n",
       "\n",
       "    .dataframe thead th {\n",
       "        text-align: right;\n",
       "    }\n",
       "</style>\n",
       "<table border=\"1\" class=\"dataframe\">\n",
       "  <thead>\n",
       "    <tr style=\"text-align: right;\">\n",
       "      <th></th>\n",
       "      <th>dNBR</th>\n",
       "      <th>actual_severity</th>\n",
       "      <th>classified_severity</th>\n",
       "      <th>geometry</th>\n",
       "    </tr>\n",
       "  </thead>\n",
       "  <tbody>\n",
       "    <tr>\n",
       "      <th>0</th>\n",
       "      <td>-0.04120</td>\n",
       "      <td>Unburnt</td>\n",
       "      <td>Unburnt</td>\n",
       "      <td>POINT (620890.643 5981712.721)</td>\n",
       "    </tr>\n",
       "    <tr>\n",
       "      <th>4</th>\n",
       "      <td>0.00954</td>\n",
       "      <td>Unburnt</td>\n",
       "      <td>Unburnt</td>\n",
       "      <td>POINT (619427.841 6050698.299)</td>\n",
       "    </tr>\n",
       "    <tr>\n",
       "      <th>6</th>\n",
       "      <td>-0.05770</td>\n",
       "      <td>Unburnt</td>\n",
       "      <td>Unburnt</td>\n",
       "      <td>POINT (618872.144 5981099.339)</td>\n",
       "    </tr>\n",
       "    <tr>\n",
       "      <th>7</th>\n",
       "      <td>-0.14799</td>\n",
       "      <td>Unburnt</td>\n",
       "      <td>Unburnt</td>\n",
       "      <td>POINT (614146.389 6011331.299)</td>\n",
       "    </tr>\n",
       "    <tr>\n",
       "      <th>10</th>\n",
       "      <td>-0.07889</td>\n",
       "      <td>Unburnt</td>\n",
       "      <td>Unburnt</td>\n",
       "      <td>POINT (613935.682 6011263.956)</td>\n",
       "    </tr>\n",
       "  </tbody>\n",
       "</table>\n",
       "</div>"
      ],
      "text/plain": [
       "       dNBR actual_severity classified_severity  \\\n",
       "0  -0.04120         Unburnt             Unburnt   \n",
       "4   0.00954         Unburnt             Unburnt   \n",
       "6  -0.05770         Unburnt             Unburnt   \n",
       "7  -0.14799         Unburnt             Unburnt   \n",
       "10 -0.07889         Unburnt             Unburnt   \n",
       "\n",
       "                          geometry  \n",
       "0   POINT (620890.643 5981712.721)  \n",
       "4   POINT (619427.841 6050698.299)  \n",
       "6   POINT (618872.144 5981099.339)  \n",
       "7   POINT (614146.389 6011331.299)  \n",
       "10  POINT (613935.682 6011263.956)  "
      ]
     },
     "execution_count": 152,
     "metadata": {},
     "output_type": "execute_result"
    }
   ],
   "source": [
    "frames = [\n",
    "    classified_unburnt,\n",
    "    classified_low,\n",
    "    classified_moderate,\n",
    "    classified_high,\n",
    "    classified_extreme,\n",
    "]\n",
    "results = pd.concat(frames)\n",
    "results = results[[\"dNBR\", \"actual_severity\", \"classified_severity\", \"geometry\"]]\n",
    "results_duplicate = results  # used later on\n",
    "results.head()"
   ]
  },
  {
   "cell_type": "code",
   "execution_count": 153,
   "metadata": {},
   "outputs": [
    {
     "data": {
      "text/html": [
       "<div>\n",
       "<style scoped>\n",
       "    .dataframe tbody tr th:only-of-type {\n",
       "        vertical-align: middle;\n",
       "    }\n",
       "\n",
       "    .dataframe tbody tr th {\n",
       "        vertical-align: top;\n",
       "    }\n",
       "\n",
       "    .dataframe thead th {\n",
       "        text-align: right;\n",
       "    }\n",
       "</style>\n",
       "<table border=\"1\" class=\"dataframe\">\n",
       "  <thead>\n",
       "    <tr style=\"text-align: right;\">\n",
       "      <th>classified_severity</th>\n",
       "      <th>Unburnt</th>\n",
       "      <th>Low</th>\n",
       "      <th>Moderate</th>\n",
       "      <th>High</th>\n",
       "      <th>Extreme</th>\n",
       "    </tr>\n",
       "    <tr>\n",
       "      <th>actual_severity</th>\n",
       "      <th></th>\n",
       "      <th></th>\n",
       "      <th></th>\n",
       "      <th></th>\n",
       "      <th></th>\n",
       "    </tr>\n",
       "  </thead>\n",
       "  <tbody>\n",
       "    <tr>\n",
       "      <th>Unburnt</th>\n",
       "      <td>674</td>\n",
       "      <td>45</td>\n",
       "      <td>25</td>\n",
       "      <td>4</td>\n",
       "      <td>0</td>\n",
       "    </tr>\n",
       "    <tr>\n",
       "      <th>Low</th>\n",
       "      <td>16</td>\n",
       "      <td>20</td>\n",
       "      <td>12</td>\n",
       "      <td>0</td>\n",
       "      <td>0</td>\n",
       "    </tr>\n",
       "    <tr>\n",
       "      <th>Moderate</th>\n",
       "      <td>7</td>\n",
       "      <td>11</td>\n",
       "      <td>54</td>\n",
       "      <td>12</td>\n",
       "      <td>29</td>\n",
       "    </tr>\n",
       "    <tr>\n",
       "      <th>High</th>\n",
       "      <td>0</td>\n",
       "      <td>2</td>\n",
       "      <td>22</td>\n",
       "      <td>35</td>\n",
       "      <td>14</td>\n",
       "    </tr>\n",
       "    <tr>\n",
       "      <th>Extreme</th>\n",
       "      <td>0</td>\n",
       "      <td>0</td>\n",
       "      <td>2</td>\n",
       "      <td>21</td>\n",
       "      <td>99</td>\n",
       "    </tr>\n",
       "  </tbody>\n",
       "</table>\n",
       "</div>"
      ],
      "text/plain": [
       "classified_severity  Unburnt  Low  Moderate  High  Extreme\n",
       "actual_severity                                           \n",
       "Unburnt                  674   45        25     4        0\n",
       "Low                       16   20        12     0        0\n",
       "Moderate                   7   11        54    12       29\n",
       "High                       0    2        22    35       14\n",
       "Extreme                    0    0         2    21       99"
      ]
     },
     "execution_count": 153,
     "metadata": {},
     "output_type": "execute_result"
    }
   ],
   "source": [
    "xtab = pd.crosstab(results[\"actual_severity\"], results[\"classified_severity\"])\n",
    "sev = [\"Unburnt\", \"Low\", \"Moderate\", \"High\", \"Extreme\"]\n",
    "\n",
    "xtab = xtab.reindex(sev, axis=\"columns\")\n",
    "xtab = xtab.reindex(sev, axis=\"rows\")\n",
    "xtab.to_csv(\"./dNBR_accuracy.csv\")\n",
    "# xtab.to_excel('./dNBR_accuracy.xlsx')\n",
    "xtab"
   ]
  },
  {
   "cell_type": "code",
   "execution_count": 154,
   "metadata": {},
   "outputs": [
    {
     "data": {
      "text/plain": [
       "79.8913043478261"
      ]
     },
     "execution_count": 154,
     "metadata": {},
     "output_type": "execute_result"
    }
   ],
   "source": [
    "overall_accuracy = (\n",
    "    (\n",
    "        xtab[\"Unburnt\"][\"Unburnt\"]\n",
    "        + xtab[\"Low\"][\"Low\"]\n",
    "        + xtab[\"Moderate\"][\"Moderate\"]\n",
    "        + xtab[\"High\"][\"High\"]\n",
    "        + xtab[\"Extreme\"][\"Extreme\"]\n",
    "    )\n",
    "    / len(gdf)\n",
    "    * 100\n",
    ")\n",
    "\n",
    "overall_accuracy"
   ]
  },
  {
   "cell_type": "code",
   "execution_count": 155,
   "metadata": {},
   "outputs": [
    {
     "data": {
      "text/html": [
       "<div>\n",
       "<style scoped>\n",
       "    .dataframe tbody tr th:only-of-type {\n",
       "        vertical-align: middle;\n",
       "    }\n",
       "\n",
       "    .dataframe tbody tr th {\n",
       "        vertical-align: top;\n",
       "    }\n",
       "\n",
       "    .dataframe thead th {\n",
       "        text-align: right;\n",
       "    }\n",
       "</style>\n",
       "<table border=\"1\" class=\"dataframe\">\n",
       "  <thead>\n",
       "    <tr style=\"text-align: right;\">\n",
       "      <th></th>\n",
       "      <th>dNBR</th>\n",
       "      <th>geometry</th>\n",
       "    </tr>\n",
       "    <tr>\n",
       "      <th>actual_severity</th>\n",
       "      <th></th>\n",
       "      <th></th>\n",
       "    </tr>\n",
       "  </thead>\n",
       "  <tbody>\n",
       "    <tr>\n",
       "      <th>Extreme</th>\n",
       "      <td>122</td>\n",
       "      <td>122</td>\n",
       "    </tr>\n",
       "    <tr>\n",
       "      <th>High</th>\n",
       "      <td>73</td>\n",
       "      <td>73</td>\n",
       "    </tr>\n",
       "    <tr>\n",
       "      <th>Low</th>\n",
       "      <td>48</td>\n",
       "      <td>48</td>\n",
       "    </tr>\n",
       "    <tr>\n",
       "      <th>Moderate</th>\n",
       "      <td>113</td>\n",
       "      <td>113</td>\n",
       "    </tr>\n",
       "    <tr>\n",
       "      <th>Unburnt</th>\n",
       "      <td>748</td>\n",
       "      <td>748</td>\n",
       "    </tr>\n",
       "  </tbody>\n",
       "</table>\n",
       "</div>"
      ],
      "text/plain": [
       "                 dNBR  geometry\n",
       "actual_severity                \n",
       "Extreme           122       122\n",
       "High               73        73\n",
       "Low                48        48\n",
       "Moderate          113       113\n",
       "Unburnt           748       748"
      ]
     },
     "execution_count": 155,
     "metadata": {},
     "output_type": "execute_result"
    }
   ],
   "source": [
    "gdf.groupby(\"actual_severity\").count()"
   ]
  },
  {
   "cell_type": "markdown",
   "metadata": {},
   "source": [
    "#### Discussion\n",
    "There is a disproportionally high number of unburnt sample points which have likely skewed the results to be very high. We only need to look at the count to see that unburnt samples make up a majority of the points. Let's see what happens if only 40 points from each class are randomly sampled."
   ]
  },
  {
   "cell_type": "code",
   "execution_count": 156,
   "metadata": {},
   "outputs": [],
   "source": [
    "unburnt = results.loc[(gdf[\"actual_severity\"] == \"Unburnt\")]\n",
    "unburnt = unburnt.sample(n=40)\n",
    "\n",
    "low = results.loc[(gdf[\"actual_severity\"] == \"Low\")]\n",
    "low = low.sample(n=40)\n",
    "\n",
    "moderate = results.loc[(gdf[\"actual_severity\"] == \"Moderate\")]\n",
    "moderate = moderate.sample(n=40)\n",
    "\n",
    "high = results.loc[(gdf[\"actual_severity\"] == \"High\")]\n",
    "high = high.sample(n=40)\n",
    "\n",
    "extreme = results.loc[(gdf[\"actual_severity\"] == \"Extreme\")]\n",
    "extreme = extreme.sample(n=40)"
   ]
  },
  {
   "cell_type": "code",
   "execution_count": 157,
   "metadata": {},
   "outputs": [
    {
     "data": {
      "text/html": [
       "<div>\n",
       "<style scoped>\n",
       "    .dataframe tbody tr th:only-of-type {\n",
       "        vertical-align: middle;\n",
       "    }\n",
       "\n",
       "    .dataframe tbody tr th {\n",
       "        vertical-align: top;\n",
       "    }\n",
       "\n",
       "    .dataframe thead th {\n",
       "        text-align: right;\n",
       "    }\n",
       "</style>\n",
       "<table border=\"1\" class=\"dataframe\">\n",
       "  <thead>\n",
       "    <tr style=\"text-align: right;\">\n",
       "      <th></th>\n",
       "      <th>dNBR</th>\n",
       "      <th>actual_severity</th>\n",
       "      <th>classified_severity</th>\n",
       "      <th>geometry</th>\n",
       "    </tr>\n",
       "  </thead>\n",
       "  <tbody>\n",
       "    <tr>\n",
       "      <th>481</th>\n",
       "      <td>-0.01858</td>\n",
       "      <td>Unburnt</td>\n",
       "      <td>Unburnt</td>\n",
       "      <td>POINT (621628.484 6080145.215)</td>\n",
       "    </tr>\n",
       "    <tr>\n",
       "      <th>80</th>\n",
       "      <td>-0.05860</td>\n",
       "      <td>Unburnt</td>\n",
       "      <td>Unburnt</td>\n",
       "      <td>POINT (614714.971 6012086.729)</td>\n",
       "    </tr>\n",
       "    <tr>\n",
       "      <th>196</th>\n",
       "      <td>-0.09548</td>\n",
       "      <td>Unburnt</td>\n",
       "      <td>Unburnt</td>\n",
       "      <td>POINT (613771.619 6011629.151)</td>\n",
       "    </tr>\n",
       "    <tr>\n",
       "      <th>203</th>\n",
       "      <td>-0.04435</td>\n",
       "      <td>Unburnt</td>\n",
       "      <td>Unburnt</td>\n",
       "      <td>POINT (619162.754 5980542.105)</td>\n",
       "    </tr>\n",
       "    <tr>\n",
       "      <th>744</th>\n",
       "      <td>-0.10348</td>\n",
       "      <td>Unburnt</td>\n",
       "      <td>Unburnt</td>\n",
       "      <td>POINT (614392.658 6067824.307)</td>\n",
       "    </tr>\n",
       "  </tbody>\n",
       "</table>\n",
       "</div>"
      ],
      "text/plain": [
       "        dNBR actual_severity classified_severity  \\\n",
       "481 -0.01858         Unburnt             Unburnt   \n",
       "80  -0.05860         Unburnt             Unburnt   \n",
       "196 -0.09548         Unburnt             Unburnt   \n",
       "203 -0.04435         Unburnt             Unburnt   \n",
       "744 -0.10348         Unburnt             Unburnt   \n",
       "\n",
       "                           geometry  \n",
       "481  POINT (621628.484 6080145.215)  \n",
       "80   POINT (614714.971 6012086.729)  \n",
       "196  POINT (613771.619 6011629.151)  \n",
       "203  POINT (619162.754 5980542.105)  \n",
       "744  POINT (614392.658 6067824.307)  "
      ]
     },
     "execution_count": 157,
     "metadata": {},
     "output_type": "execute_result"
    }
   ],
   "source": [
    "frames = [unburnt, low, moderate, high, extreme]\n",
    "results = pd.concat(frames)\n",
    "results = results[[\"dNBR\", \"actual_severity\", \"classified_severity\", \"geometry\"]]\n",
    "results.head()"
   ]
  },
  {
   "cell_type": "code",
   "execution_count": 158,
   "metadata": {},
   "outputs": [
    {
     "data": {
      "text/html": [
       "<div>\n",
       "<style scoped>\n",
       "    .dataframe tbody tr th:only-of-type {\n",
       "        vertical-align: middle;\n",
       "    }\n",
       "\n",
       "    .dataframe tbody tr th {\n",
       "        vertical-align: top;\n",
       "    }\n",
       "\n",
       "    .dataframe thead th {\n",
       "        text-align: right;\n",
       "    }\n",
       "</style>\n",
       "<table border=\"1\" class=\"dataframe\">\n",
       "  <thead>\n",
       "    <tr style=\"text-align: right;\">\n",
       "      <th>classified_severity</th>\n",
       "      <th>Unburnt</th>\n",
       "      <th>Low</th>\n",
       "      <th>Moderate</th>\n",
       "      <th>High</th>\n",
       "      <th>Extreme</th>\n",
       "    </tr>\n",
       "    <tr>\n",
       "      <th>actual_severity</th>\n",
       "      <th></th>\n",
       "      <th></th>\n",
       "      <th></th>\n",
       "      <th></th>\n",
       "      <th></th>\n",
       "    </tr>\n",
       "  </thead>\n",
       "  <tbody>\n",
       "    <tr>\n",
       "      <th>Unburnt</th>\n",
       "      <td>33</td>\n",
       "      <td>2</td>\n",
       "      <td>5</td>\n",
       "      <td>0</td>\n",
       "      <td>0</td>\n",
       "    </tr>\n",
       "    <tr>\n",
       "      <th>Low</th>\n",
       "      <td>15</td>\n",
       "      <td>17</td>\n",
       "      <td>8</td>\n",
       "      <td>0</td>\n",
       "      <td>0</td>\n",
       "    </tr>\n",
       "    <tr>\n",
       "      <th>Moderate</th>\n",
       "      <td>2</td>\n",
       "      <td>0</td>\n",
       "      <td>23</td>\n",
       "      <td>5</td>\n",
       "      <td>10</td>\n",
       "    </tr>\n",
       "    <tr>\n",
       "      <th>High</th>\n",
       "      <td>0</td>\n",
       "      <td>1</td>\n",
       "      <td>11</td>\n",
       "      <td>21</td>\n",
       "      <td>7</td>\n",
       "    </tr>\n",
       "    <tr>\n",
       "      <th>Extreme</th>\n",
       "      <td>0</td>\n",
       "      <td>0</td>\n",
       "      <td>0</td>\n",
       "      <td>8</td>\n",
       "      <td>32</td>\n",
       "    </tr>\n",
       "  </tbody>\n",
       "</table>\n",
       "</div>"
      ],
      "text/plain": [
       "classified_severity  Unburnt  Low  Moderate  High  Extreme\n",
       "actual_severity                                           \n",
       "Unburnt                   33    2         5     0        0\n",
       "Low                       15   17         8     0        0\n",
       "Moderate                   2    0        23     5       10\n",
       "High                       0    1        11    21        7\n",
       "Extreme                    0    0         0     8       32"
      ]
     },
     "execution_count": 158,
     "metadata": {},
     "output_type": "execute_result"
    }
   ],
   "source": [
    "xtab = pd.crosstab(results[\"actual_severity\"], results[\"classified_severity\"])\n",
    "sev = [\"Unburnt\", \"Low\", \"Moderate\", \"High\", \"Extreme\"]\n",
    "\n",
    "xtab = xtab.reindex(sev, axis=\"columns\")\n",
    "xtab = xtab.reindex(sev, axis=\"rows\")\n",
    "xtab"
   ]
  },
  {
   "cell_type": "code",
   "execution_count": 159,
   "metadata": {},
   "outputs": [
    {
     "data": {
      "text/plain": [
       "63.0"
      ]
     },
     "execution_count": 159,
     "metadata": {},
     "output_type": "execute_result"
    }
   ],
   "source": [
    "overall_accuracy = (\n",
    "    (\n",
    "        xtab[\"Unburnt\"][\"Unburnt\"]\n",
    "        + xtab[\"Low\"][\"Low\"]\n",
    "        + xtab[\"Moderate\"][\"Moderate\"]\n",
    "        + xtab[\"High\"][\"High\"]\n",
    "        + xtab[\"Extreme\"][\"Extreme\"]\n",
    "    )\n",
    "    / len(results)\n",
    "    * 100\n",
    ")\n",
    "\n",
    "overall_accuracy"
   ]
  },
  {
   "cell_type": "markdown",
   "metadata": {},
   "source": [
    "This is likely a far more accurate representation of the overall accuracy of this classification. This is still not based considering the very minimal processing overhead for a dNBR compared to a multi-band fully connected neural network approach. Unfortunately, with each different location, scene, weather conditions (pre/post), vegetation ecosystems etc; there is significant variability that the chose threshold values would need to be tweaked to suit each scene. This is where a majority of the time would be spent, and normalising severity from one scene to another become very difficult as moderate in one may not neccessarily map well to moderate in another location with a completely different ecosystem of flora."
   ]
  },
  {
   "cell_type": "markdown",
   "metadata": {},
   "source": [
    "Lets look at the accuracy if the only two endmembers were 'Unburnt' or 'Burnt' areas. In order to do this, we re-map low, moderate, high and extreme categorisations in the actual and classified severity columns to 'burnt' and reproduce the crosstab."
   ]
  },
  {
   "cell_type": "code",
   "execution_count": 160,
   "metadata": {},
   "outputs": [],
   "source": [
    "results_duplicate.loc[\n",
    "    results_duplicate.actual_severity == \"Low\", \"actual_severity\"\n",
    "] = \"Burnt\"\n",
    "results_duplicate.loc[\n",
    "    results_duplicate.actual_severity == \"Moderate\", \"actual_severity\"\n",
    "] = \"Burnt\"\n",
    "results_duplicate.loc[\n",
    "    results_duplicate.actual_severity == \"High\", \"actual_severity\"\n",
    "] = \"Burnt\"\n",
    "results_duplicate.loc[\n",
    "    results_duplicate.actual_severity == \"Extreme\", \"actual_severity\"\n",
    "] = \"Burnt\"\n",
    "results_duplicate.loc[\n",
    "    results_duplicate.classified_severity == \"Low\", \"classified_severity\"\n",
    "] = \"Burnt\"\n",
    "results_duplicate.loc[\n",
    "    results_duplicate.classified_severity == \"Moderate\", \"classified_severity\"\n",
    "] = \"Burnt\"\n",
    "results_duplicate.loc[\n",
    "    results_duplicate.classified_severity == \"High\", \"classified_severity\"\n",
    "] = \"Burnt\"\n",
    "results_duplicate.loc[\n",
    "    results_duplicate.classified_severity == \"Extreme\", \"classified_severity\"\n",
    "] = \"Burnt\""
   ]
  },
  {
   "cell_type": "code",
   "execution_count": 161,
   "metadata": {},
   "outputs": [
    {
     "data": {
      "text/html": [
       "<div>\n",
       "<style scoped>\n",
       "    .dataframe tbody tr th:only-of-type {\n",
       "        vertical-align: middle;\n",
       "    }\n",
       "\n",
       "    .dataframe tbody tr th {\n",
       "        vertical-align: top;\n",
       "    }\n",
       "\n",
       "    .dataframe thead th {\n",
       "        text-align: right;\n",
       "    }\n",
       "</style>\n",
       "<table border=\"1\" class=\"dataframe\">\n",
       "  <thead>\n",
       "    <tr style=\"text-align: right;\">\n",
       "      <th></th>\n",
       "      <th>dNBR</th>\n",
       "      <th>actual_severity</th>\n",
       "      <th>classified_severity</th>\n",
       "      <th>geometry</th>\n",
       "    </tr>\n",
       "  </thead>\n",
       "  <tbody>\n",
       "    <tr>\n",
       "      <th>0</th>\n",
       "      <td>-0.04120</td>\n",
       "      <td>Unburnt</td>\n",
       "      <td>Unburnt</td>\n",
       "      <td>POINT (620890.643 5981712.721)</td>\n",
       "    </tr>\n",
       "    <tr>\n",
       "      <th>4</th>\n",
       "      <td>0.00954</td>\n",
       "      <td>Unburnt</td>\n",
       "      <td>Unburnt</td>\n",
       "      <td>POINT (619427.841 6050698.299)</td>\n",
       "    </tr>\n",
       "    <tr>\n",
       "      <th>6</th>\n",
       "      <td>-0.05770</td>\n",
       "      <td>Unburnt</td>\n",
       "      <td>Unburnt</td>\n",
       "      <td>POINT (618872.144 5981099.339)</td>\n",
       "    </tr>\n",
       "    <tr>\n",
       "      <th>7</th>\n",
       "      <td>-0.14799</td>\n",
       "      <td>Unburnt</td>\n",
       "      <td>Unburnt</td>\n",
       "      <td>POINT (614146.389 6011331.299)</td>\n",
       "    </tr>\n",
       "    <tr>\n",
       "      <th>10</th>\n",
       "      <td>-0.07889</td>\n",
       "      <td>Unburnt</td>\n",
       "      <td>Unburnt</td>\n",
       "      <td>POINT (613935.682 6011263.956)</td>\n",
       "    </tr>\n",
       "  </tbody>\n",
       "</table>\n",
       "</div>"
      ],
      "text/plain": [
       "       dNBR actual_severity classified_severity  \\\n",
       "0  -0.04120         Unburnt             Unburnt   \n",
       "4   0.00954         Unburnt             Unburnt   \n",
       "6  -0.05770         Unburnt             Unburnt   \n",
       "7  -0.14799         Unburnt             Unburnt   \n",
       "10 -0.07889         Unburnt             Unburnt   \n",
       "\n",
       "                          geometry  \n",
       "0   POINT (620890.643 5981712.721)  \n",
       "4   POINT (619427.841 6050698.299)  \n",
       "6   POINT (618872.144 5981099.339)  \n",
       "7   POINT (614146.389 6011331.299)  \n",
       "10  POINT (613935.682 6011263.956)  "
      ]
     },
     "execution_count": 161,
     "metadata": {},
     "output_type": "execute_result"
    }
   ],
   "source": [
    "results_duplicate.head()"
   ]
  },
  {
   "cell_type": "code",
   "execution_count": 162,
   "metadata": {},
   "outputs": [],
   "source": [
    "unburnt = results_duplicate.loc[(results_duplicate[\"actual_severity\"] == \"Unburnt\")]\n",
    "unburnt = unburnt.sample(n=160)\n",
    "\n",
    "burnt = results_duplicate.loc[(results_duplicate[\"actual_severity\"] == \"Burnt\")]\n",
    "burnt = burnt.sample(n=160)"
   ]
  },
  {
   "cell_type": "code",
   "execution_count": 163,
   "metadata": {},
   "outputs": [
    {
     "data": {
      "image/png": "[encoded data removed]",
      "text/plain": [
       "<Figure size 432x288 with 1 Axes>"
      ]
     },
     "metadata": {
      "needs_background": "light"
     },
     "output_type": "display_data"
    }
   ],
   "source": [
    "plt.hist(unburnt[\"dNBR\"], bins=20, alpha=0.5, label=\"unburnt\")\n",
    "plt.hist(burnt[\"dNBR\"], bins=20, alpha=0.5, label=\"burnt\")\n",
    "\n",
    "plt.legend(loc=\"upper left\")\n",
    "\n",
    "plt.xlabel(\"dNBR\")\n",
    "plt.ylabel(\"Count\")\n",
    "plt.title(\"Fire Extent Class Separability\")\n",
    "\n",
    "plt.savefig(\"class_separability_extent.png\")\n",
    "plt.show()"
   ]
  },
  {
   "cell_type": "code",
   "execution_count": 164,
   "metadata": {},
   "outputs": [
    {
     "data": {
      "text/html": [
       "<div>\n",
       "<style scoped>\n",
       "    .dataframe tbody tr th:only-of-type {\n",
       "        vertical-align: middle;\n",
       "    }\n",
       "\n",
       "    .dataframe tbody tr th {\n",
       "        vertical-align: top;\n",
       "    }\n",
       "\n",
       "    .dataframe thead th {\n",
       "        text-align: right;\n",
       "    }\n",
       "</style>\n",
       "<table border=\"1\" class=\"dataframe\">\n",
       "  <thead>\n",
       "    <tr style=\"text-align: right;\">\n",
       "      <th></th>\n",
       "      <th>dNBR</th>\n",
       "      <th>actual_severity</th>\n",
       "      <th>classified_severity</th>\n",
       "      <th>geometry</th>\n",
       "    </tr>\n",
       "  </thead>\n",
       "  <tbody>\n",
       "    <tr>\n",
       "      <th>270</th>\n",
       "      <td>0.10231</td>\n",
       "      <td>Unburnt</td>\n",
       "      <td>Burnt</td>\n",
       "      <td>POINT (619750.767 6050983.635)</td>\n",
       "    </tr>\n",
       "    <tr>\n",
       "      <th>229</th>\n",
       "      <td>0.41480</td>\n",
       "      <td>Unburnt</td>\n",
       "      <td>Burnt</td>\n",
       "      <td>POINT (624291.845 6054611.124)</td>\n",
       "    </tr>\n",
       "    <tr>\n",
       "      <th>632</th>\n",
       "      <td>0.04088</td>\n",
       "      <td>Unburnt</td>\n",
       "      <td>Unburnt</td>\n",
       "      <td>POINT (619508.579 6051545.459)</td>\n",
       "    </tr>\n",
       "    <tr>\n",
       "      <th>1100</th>\n",
       "      <td>-0.06627</td>\n",
       "      <td>Unburnt</td>\n",
       "      <td>Unburnt</td>\n",
       "      <td>POINT (618908.834 5981071.124)</td>\n",
       "    </tr>\n",
       "    <tr>\n",
       "      <th>890</th>\n",
       "      <td>0.00235</td>\n",
       "      <td>Unburnt</td>\n",
       "      <td>Unburnt</td>\n",
       "      <td>POINT (619425.089 6050590.772)</td>\n",
       "    </tr>\n",
       "  </tbody>\n",
       "</table>\n",
       "</div>"
      ],
      "text/plain": [
       "         dNBR actual_severity classified_severity  \\\n",
       "270   0.10231         Unburnt               Burnt   \n",
       "229   0.41480         Unburnt               Burnt   \n",
       "632   0.04088         Unburnt             Unburnt   \n",
       "1100 -0.06627         Unburnt             Unburnt   \n",
       "890   0.00235         Unburnt             Unburnt   \n",
       "\n",
       "                            geometry  \n",
       "270   POINT (619750.767 6050983.635)  \n",
       "229   POINT (624291.845 6054611.124)  \n",
       "632   POINT (619508.579 6051545.459)  \n",
       "1100  POINT (618908.834 5981071.124)  \n",
       "890   POINT (619425.089 6050590.772)  "
      ]
     },
     "execution_count": 164,
     "metadata": {},
     "output_type": "execute_result"
    }
   ],
   "source": [
    "frames = [unburnt, burnt]\n",
    "results = pd.concat(frames)\n",
    "results = results[[\"dNBR\", \"actual_severity\", \"classified_severity\", \"geometry\"]]\n",
    "results.head()"
   ]
  },
  {
   "cell_type": "code",
   "execution_count": 165,
   "metadata": {},
   "outputs": [
    {
     "data": {
      "text/html": [
       "<div>\n",
       "<style scoped>\n",
       "    .dataframe tbody tr th:only-of-type {\n",
       "        vertical-align: middle;\n",
       "    }\n",
       "\n",
       "    .dataframe tbody tr th {\n",
       "        vertical-align: top;\n",
       "    }\n",
       "\n",
       "    .dataframe thead th {\n",
       "        text-align: right;\n",
       "    }\n",
       "</style>\n",
       "<table border=\"1\" class=\"dataframe\">\n",
       "  <thead>\n",
       "    <tr style=\"text-align: right;\">\n",
       "      <th>classified_severity</th>\n",
       "      <th>Unburnt</th>\n",
       "      <th>Burnt</th>\n",
       "    </tr>\n",
       "    <tr>\n",
       "      <th>actual_severity</th>\n",
       "      <th></th>\n",
       "      <th></th>\n",
       "    </tr>\n",
       "  </thead>\n",
       "  <tbody>\n",
       "    <tr>\n",
       "      <th>Unburnt</th>\n",
       "      <td>150</td>\n",
       "      <td>10</td>\n",
       "    </tr>\n",
       "    <tr>\n",
       "      <th>Burnt</th>\n",
       "      <td>8</td>\n",
       "      <td>152</td>\n",
       "    </tr>\n",
       "  </tbody>\n",
       "</table>\n",
       "</div>"
      ],
      "text/plain": [
       "classified_severity  Unburnt  Burnt\n",
       "actual_severity                    \n",
       "Unburnt                  150     10\n",
       "Burnt                      8    152"
      ]
     },
     "execution_count": 165,
     "metadata": {},
     "output_type": "execute_result"
    }
   ],
   "source": [
    "xtab = pd.crosstab(results[\"actual_severity\"], results[\"classified_severity\"])\n",
    "sev = [\"Unburnt\", \"Burnt\"]\n",
    "\n",
    "xtab = xtab.reindex(sev, axis=\"columns\")\n",
    "xtab = xtab.reindex(sev, axis=\"rows\")\n",
    "xtab"
   ]
  },
  {
   "cell_type": "code",
   "execution_count": 166,
   "metadata": {},
   "outputs": [
    {
     "data": {
      "text/plain": [
       "94.375"
      ]
     },
     "execution_count": 166,
     "metadata": {},
     "output_type": "execute_result"
    }
   ],
   "source": [
    "overall_accuracy = (\n",
    "    (xtab[\"Unburnt\"][\"Unburnt\"] + xtab[\"Burnt\"][\"Burnt\"]) / len(results) * 100\n",
    ")\n",
    "\n",
    "overall_accuracy"
   ]
  },
  {
   "cell_type": "markdown",
   "metadata": {},
   "source": [
    "Overall, the accuracy of the dNBR in identifying between unburnt and burnt areas is approximately 90%. This is very high and a decent result for the identification of burn area extent or boundaries. A good way to really test this however would be to sample many points across known boundary areas in order to determine if the same accuracy still holds."
   ]
  }
 ],
 "metadata": {
  "kernelspec": {
   "display_name": "Python 3",
   "language": "python",
   "name": "python3"
  },
  "language_info": {
   "codemirror_mode": {
    "name": "ipython",
    "version": 3
   },
   "file_extension": ".py",
   "mimetype": "text/x-python",
   "name": "python",
   "nbconvert_exporter": "python",
   "pygments_lexer": "ipython3",
   "version": "3.6.10"
  }
 },
 "nbformat": 4,
 "nbformat_minor": 4
}
