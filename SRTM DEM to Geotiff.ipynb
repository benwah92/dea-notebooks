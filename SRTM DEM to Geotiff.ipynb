{
 "cells": [
  {
   "cell_type": "markdown",
   "metadata": {},
   "source": [
    "### SRTM DEM to Geotiff\n",
    "Created by Amos Bennett.<br>\n",
    "Last Updated 08 Jul 20<br>\n",
    "**write_geotiff function not working."
   ]
  },
  {
   "cell_type": "code",
   "execution_count": null,
   "metadata": {},
   "outputs": [],
   "source": [
    "%matplotlib inline\n",
    "\n",
    "import sys\n",
    "\n",
    "import datacube\n",
    "from datacube.helpers import write_geotiff\n",
    "from odc.ui import with_ui_cbk\n",
    "\n",
    "from dea_datahandling import load_ard\n",
    "from dea_plotting import display_map, rgb\n",
    "\n",
    "sys.path.append(\"../Scripts\")"
   ]
  },
  {
   "cell_type": "code",
   "execution_count": null,
   "metadata": {},
   "outputs": [],
   "source": [
    "print(datacube.__version__)"
   ]
  },
  {
   "cell_type": "code",
   "execution_count": null,
   "metadata": {},
   "outputs": [],
   "source": [
    "dc = datacube.Datacube(app=\"beaudesert_SRTM\")"
   ]
  },
  {
   "cell_type": "code",
   "execution_count": null,
   "metadata": {},
   "outputs": [],
   "source": [
    "# Set the central latitude and longitude\n",
    "\n",
    "central_lat = -28.0\n",
    "central_lon = 153.0\n",
    "\n",
    "# Set the buffer to load around the central coordinates - max 0.1 deg\n",
    "buffer = 0.275\n",
    "\n",
    "# Compute the bounding box for the study area\n",
    "study_area_lat = (central_lat - buffer, central_lat + buffer)\n",
    "study_area_lon = (central_lon - buffer, central_lon + buffer)"
   ]
  },
  {
   "cell_type": "code",
   "execution_count": null,
   "metadata": {},
   "outputs": [],
   "source": [
    "display_map(x=study_area_lon, y=study_area_lat)"
   ]
  },
  {
   "cell_type": "code",
   "execution_count": null,
   "metadata": {},
   "outputs": [],
   "source": [
    "ds = dc.load(\n",
    "    product=\"srtm_dem1sv1_0\",\n",
    "    x=(central_lon - buffer, central_lon + buffer),\n",
    "    y=(central_lat - buffer, central_lat + buffer),\n",
    "    # time=(0)\n",
    ")\n",
    "\n",
    "print(ds)"
   ]
  },
  {
   "cell_type": "code",
   "execution_count": null,
   "metadata": {},
   "outputs": [],
   "source": [
    "write_geotiff(f\"./geotiffs/beaudesert_srtm\", ds)"
   ]
  }
 ],
 "metadata": {
  "kernelspec": {
   "display_name": "Python 3",
   "language": "python",
   "name": "python3"
  },
  "language_info": {
   "codemirror_mode": {
    "name": "ipython",
    "version": 3
   },
   "file_extension": ".py",
   "mimetype": "text/x-python",
   "name": "python",
   "nbconvert_exporter": "python",
   "pygments_lexer": "ipython3",
   "version": "3.6.10"
  }
 },
 "nbformat": 4,
 "nbformat_minor": 4
}
