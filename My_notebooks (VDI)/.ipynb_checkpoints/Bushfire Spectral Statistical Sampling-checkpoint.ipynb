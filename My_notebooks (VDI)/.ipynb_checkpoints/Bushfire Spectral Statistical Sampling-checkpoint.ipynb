{
 "cells": [
  {
   "cell_type": "markdown",
   "metadata": {},
   "source": [
    "### Bushfire Spectral Statistical Sampling\n",
    "Created by Amos Bennett.<br>\n",
    "Last Updated 23 Aug 20. <br>\n",
    "\n",
    "__Updates:__ \n",
    "\n",
    "This script will be used to generate supporting research graphics for the dNBR script. It is important to note that the s2a/b_ard_granule NBART bands are surface reflectance measurements scaled by 10,000. Surface reflectance is the proportion of EM energy reflected from the target. The script currently loads a subset of the area of interest into an x-array datasets for the time-period Nov-19 to May 20 (fire event at Tumbarumba IVO 06-Jan-20). Using a random sample method, NIR, SWIR and NBR statistics are generated with support graphics and visualisations."
   ]
  },
  {
   "cell_type": "code",
   "execution_count": null,
   "metadata": {},
   "outputs": [],
   "source": [
    "import sys\n",
    "import datacube\n",
    "from datacube.helpers import write_geotiff\n",
    "from datacube.utils import cog\n",
    "import pandas as pd\n",
    "import xarray as xr\n",
    "import numpy as np\n",
    "import matplotlib.pyplot as plt\n",
    "\n",
    "sys.path.append(\"/home/554/ab4513/dea-notebooks/Scripts\")\n",
    "import dea_datahandling\n",
    "from dea_datahandling import load_ard\n",
    "from dea_plotting import rgb\n",
    "from dea_plotting import display_map\n",
    "from dea_bandindices import calculate_indices"
   ]
  },
  {
   "cell_type": "code",
   "execution_count": null,
   "metadata": {},
   "outputs": [],
   "source": [
    "print(datacube.__version__)"
   ]
  },
  {
   "cell_type": "code",
   "execution_count": null,
   "metadata": {},
   "outputs": [],
   "source": [
    "from matplotlib import rcParams\n",
    "rcParams['axes.titlepad'] = 0"
   ]
  },
  {
   "cell_type": "code",
   "execution_count": null,
   "metadata": {},
   "outputs": [],
   "source": [
    "dc = datacube.Datacube(app=\"cube\")"
   ]
  },
  {
   "cell_type": "code",
   "execution_count": null,
   "metadata": {},
   "outputs": [],
   "source": [
    "# Set the central latitude and longitude\n",
    "central_lat = -35.783333\n",
    "central_lon = 148.016667\n",
    "\n",
    "# Canberra 148.6547665°E 35.5655761°S\n",
    "# Kosciuszko 148.3517111°E 36.1864717°S\n",
    "# Tumbarumba 148.016667°E 35.783333°S\n",
    "\n",
    "# 0.1° approximately equal to 11.1km distance.\n",
    "\n",
    "# Set the buffer to load around the central coordinates (even numbers such as 0.2, 1.0, 2.2 etc) in degrees (lat, lon)\n",
    "buffer = 0.2\n",
    "\n",
    "# Compute the bounding box for the study area\n",
    "study_area_lat = (central_lat - buffer, central_lat + buffer)\n",
    "study_area_lon = (central_lon - buffer, central_lon + buffer)\n",
    "\n",
    "# display_map(x=study_area_lon, y=study_area_lat, margin=-0.2)"
   ]
  },
  {
   "cell_type": "code",
   "execution_count": null,
   "metadata": {},
   "outputs": [],
   "source": [
    "# Key Dates\n",
    "prefire_start = '2019-11-01'\n",
    "#prefire_end = '2020-02-19'\n",
    "#postfire_start = '2020-02-28'\n",
    "postfire_end = '2020-05-01'"
   ]
  },
  {
   "cell_type": "raw",
   "metadata": {
    "jupyter": {
     "outputs_hidden": true
    }
   },
   "source": [
    "baseline_ard.nbart_nir_1.plot(col='time', col_wrap=5)"
   ]
  },
  {
   "cell_type": "code",
   "execution_count": null,
   "metadata": {},
   "outputs": [],
   "source": [
    "fulldate_ard = load_ard(dc=dc,\n",
    "               products=['s2a_ard_granule', 's2b_ard_granule'],\n",
    "               x = (central_lon - buffer, central_lon + buffer),\n",
    "               y = (central_lat - buffer, central_lat + buffer),\n",
    "               time=(prefire_start, postfire_end),\n",
    "               measurements=['nbart_nir_1',\n",
    "                             'nbart_swir_3'],\n",
    "               min_gooddata=0.2,\n",
    "               output_crs='EPSG:32755', # UTM Zone 55S\n",
    "               resolution=(-10,10),\n",
    "               group_by='solar_day')"
   ]
  },
  {
   "cell_type": "code",
   "execution_count": null,
   "metadata": {},
   "outputs": [],
   "source": [
    "fulldate_ard"
   ]
  },
  {
   "cell_type": "code",
   "execution_count": null,
   "metadata": {},
   "outputs": [],
   "source": [
    "lon = np.random.randint(0,3662, size=1)\n",
    "lon = lon[0]\n",
    "lat = np.random.randint(0,4475, size=1)\n",
    "lat = lat[0]"
   ]
  },
  {
   "cell_type": "code",
   "execution_count": null,
   "metadata": {},
   "outputs": [],
   "source": [
    "full_nir_df = fulldate_ard.nbart_nir_1[:,lon,lat].to_dataframe()\n",
    "full_swir_df = fulldate_ard.nbart_swir_3[:,lon,lat].to_dataframe()"
   ]
  },
  {
   "cell_type": "code",
   "execution_count": null,
   "metadata": {},
   "outputs": [],
   "source": [
    "nbart_swir_3 = full_swir_df['nbart_swir_3']\n",
    "fullfire = full_nir_df.join(nbart_swir_3).dropna()\n",
    "fullfire['nbr'] = (fullfire.nbart_nir_1-fullfire.nbart_swir_3)/(fullfire.nbart_nir_1+fullfire.nbart_swir_3)\n",
    "ycoord = np.int_(fullfire.y[0], decimals=0)\n",
    "xcoord = np.int_(fullfire.x[0], decimals=0)\n",
    "fullfire.head()"
   ]
  },
  {
   "cell_type": "code",
   "execution_count": null,
   "metadata": {},
   "outputs": [],
   "source": [
    "fig = plt.figure(figsize=(16,9))\n",
    "ax = plt.axes()\n",
    "x = fullfire.index\n",
    "y1 = fullfire.nbart_nir_1\n",
    "y2 = fullfire.nbart_swir_3\n",
    "plt.plot(x, y1, label='Near Infrared')\n",
    "plt.plot(x, y2, label='Shortwave Infrared')\n",
    "name = 'NIR & SWIR Reflectance (Scaled) vs Time \\n'\n",
    "coordinate = 'UTM Zone 55S ' + str(xcoord) + ' ' + str(ycoord)\n",
    "plt.title(name + coordinate)\n",
    "plt.ylabel('Reflectance (Scaled x 10,000)')\n",
    "plt.legend()"
   ]
  },
  {
   "cell_type": "code",
   "execution_count": null,
   "metadata": {},
   "outputs": [],
   "source": [
    "name = './supporting graphics/NIR_SWIR_Time_'+coordinate+'.png'\n",
    "fig.savefig(name)"
   ]
  },
  {
   "cell_type": "markdown",
   "metadata": {},
   "source": [
    "Where vegetation is healthy, the NIR (talking in reflectance) will be higher that the SWIR. In burnt vegetation, SWIR will be higher than the NIR...??? Large spikes in NIR and SWIR reflectance are probably indicative of fire activity (either bushfire or backburning)."
   ]
  },
  {
   "cell_type": "markdown",
   "metadata": {},
   "source": [
    "I keep seeing a large spike in the NBR value around May 2020 as I randomly sample points. I suspect this is due to either the loss or changing of colour of leaves during the autumn period but I am yet to confirm this theory."
   ]
  },
  {
   "cell_type": "code",
   "execution_count": null,
   "metadata": {},
   "outputs": [],
   "source": [
    "fig = plt.figure(figsize=(16,9))\n",
    "ax = plt.axes()\n",
    "x = fullfire.index\n",
    "y = fullfire.nbr\n",
    "plt.plot(x, y, label='Normalised Burn Ratio')\n",
    "name = 'NBR vs Time \\n'\n",
    "coordinate = 'UTM Zone 55S ' + str(xcoord) + ' ' + str(ycoord)\n",
    "plt.title(name + coordinate)\n",
    "plt.ylabel('NBR ratio (NIR-SWIR)/(NIR+SWIR)')\n",
    "plt.legend()"
   ]
  },
  {
   "cell_type": "code",
   "execution_count": null,
   "metadata": {},
   "outputs": [],
   "source": [
    "name = './supporting graphics/NBR_Time_'+coordinate+'.png'\n",
    "fig.savefig(name)"
   ]
  },
  {
   "cell_type": "markdown",
   "metadata": {},
   "source": [
    "A breakdown of the pre and postfire scene statistics is calculated showing the median NIR, median SWIR and median NBR values. Included is an NBR value calculated from the median NIR and SWIR values. The reason for this is double check there is not too much variance from the median NBR. This is because the method used in the script to generate the NBR geotiff images from the x-array datasets calculates one NBR value based on the median NIR and SWIR values resulting is less computation required. The median is used noting that based on the histograms below showing skewed data, the median is the most appropriate measure of central tendancy."
   ]
  },
  {
   "cell_type": "code",
   "execution_count": null,
   "metadata": {},
   "outputs": [],
   "source": [
    "prefire = fullfire[:16] # Dataframe sliced up to fire-event date.\n",
    "prefire"
   ]
  },
  {
   "cell_type": "code",
   "execution_count": null,
   "metadata": {},
   "outputs": [],
   "source": [
    "nir_med = prefire.nbart_nir_1.median()\n",
    "swir_med = prefire.nbart_swir_3.median()\n",
    "nbr_med = prefire.nbr.median()\n",
    "nbr_calc_med = (nir_med-swir_med)/(nir_med+swir_med)\n",
    "print('Prefire Statistics:')\n",
    "print('Median NIR pixel value: ' + str(nir_med))\n",
    "print('Median SWIR pixel value: ' + str(swir_med))\n",
    "print('Median NBR pixel value: ' + str(nbr_med))\n",
    "print('NBR calculated from median NIR and SWIR: ' + str(nbr_calc_med))\n",
    "\n",
    "name = './supporting graphics/prefirestats_'+coordinate+'.txt'\n",
    "text_file = open(name, \"w\")\n",
    "text_file.write('Prefire Statistics: \\n'\n",
    "                'Median NIR pixel value: ' + str(nir_med) + '\\n'\n",
    "                'Median SWIR pixel value: ' + str(swir_med) + '\\n'\n",
    "                'Median NBR pixel value: ' + str(nbr_med) + '\\n'\n",
    "                'NBR calculated from median NIR and SWIR: ' + str(nbr_calc_med))\n",
    "text_file.close()"
   ]
  },
  {
   "cell_type": "code",
   "execution_count": null,
   "metadata": {},
   "outputs": [],
   "source": [
    "fs=9 #subplot fontsize\n",
    "ydis=0.96 #subplot vertical displacement\n",
    "b=7 #bins\n",
    "a = 0.5 #transparency\n",
    "\n",
    "name = 'Prefire Histograms \\n'\n",
    "coordinate = 'UTM Zone 55S ' + str(xcoord) + ' ' + str(ycoord)\n",
    "\n",
    "fig, axs = plt.subplots(1, 3, figsize=(16, 5), sharey=False)\n",
    "axs[0].hist(prefire.nbart_nir_1, bins=b, histtype='stepfilled', color='red', alpha=a)\n",
    "axs[0].set_title('Near Infrared', y=ydis, fontsize=fs)\n",
    "axs[0].set_xlabel('Surface Reflectance\\n(Scaled x 10,000)')\n",
    "axs[1].hist(prefire.nbart_swir_3, bins=b, histtype='stepfilled', color='purple', alpha=a)\n",
    "axs[1].set_title('Shortwave Infrared', y=ydis, fontsize=fs)\n",
    "axs[1].set_xlabel('Surface Reflectance\\n(Scaled x 10,000)')\n",
    "axs[2].hist(prefire.nbr, bins=b, histtype='stepfilled', color='black', alpha=a)\n",
    "axs[2].set_title('Normalised Burn Ratio', y=ydis, fontsize=fs)\n",
    "axs[2].set_xlabel('NBR Ratio\\n(NIR-SWIR)/(NIR+SWIR)')\n",
    "fig.suptitle(name + coordinate)\n",
    "\n",
    "name = './supporting graphics/prefirehists_'+coordinate+'.png'\n",
    "plt.savefig(name)"
   ]
  },
  {
   "cell_type": "code",
   "execution_count": null,
   "metadata": {},
   "outputs": [],
   "source": [
    "postfire = fullfire[17:40] # Dataframe sliced post fire-event date.\n",
    "postfire"
   ]
  },
  {
   "cell_type": "code",
   "execution_count": null,
   "metadata": {},
   "outputs": [],
   "source": [
    "nir_med = postfire.nbart_nir_1.median()\n",
    "swir_med = postfire.nbart_swir_3.median()\n",
    "nbr_med = postfire.nbr.median()\n",
    "nbr_calc_med = (nir_med-swir_med)/(nir_med+swir_med)\n",
    "print('Postfire Statistics:')\n",
    "print('Median NIR pixel value: ' + str(nir_med))\n",
    "print('Median SWIR pixel value: ' + str(swir_med))\n",
    "print('Median NBR pixel value: ' + str(nbr_med))\n",
    "print('NBR calculated from median NIR and SWIR: ' + str(nbr_calc_med))\n",
    "\n",
    "name = './supporting graphics/postfirestats_'+coordinate+'.txt'\n",
    "text_file = open(name, \"w\")\n",
    "text_file.write('Postfire Statistics: \\n'\n",
    "                'Median NIR pixel value: ' + str(nir_med) + '\\n'\n",
    "                'Median SWIR pixel value: ' + str(swir_med) + '\\n'\n",
    "                'Median NBR pixel value: ' + str(nbr_med) + '\\n'\n",
    "                'NBR calculated from median NIR and SWIR: ' + str(nbr_calc_med))\n",
    "text_file.close()"
   ]
  },
  {
   "cell_type": "code",
   "execution_count": null,
   "metadata": {},
   "outputs": [],
   "source": [
    "fs=9 #subplot fontsize\n",
    "ydis=0.96 #subplot vertical displacement\n",
    "b=7 #bins\n",
    "a = 0.5 #transparency\n",
    "\n",
    "name = 'Postfire Histograms \\n'\n",
    "coordinate = 'UTM Zone 55S ' + str(xcoord) + ' ' + str(ycoord)\n",
    "\n",
    "fig, axs = plt.subplots(1, 3, figsize=(16, 5), sharey=False)\n",
    "axs[0].hist(postfire.nbart_nir_1, bins=b, histtype='stepfilled', color='red', alpha=a)\n",
    "axs[0].set_title('Near Infrared', y=ydis, fontsize=fs)\n",
    "axs[0].set_xlabel('Surface Reflectance\\n(Scaled x 10,000)')\n",
    "axs[1].hist(postfire.nbart_swir_3, bins=b, histtype='stepfilled', color='purple', alpha=a)\n",
    "axs[1].set_title('Shortwave Infrared', y=ydis, fontsize=fs)\n",
    "axs[1].set_xlabel('Surface Reflectance\\n(Scaled x 10,000)')\n",
    "axs[2].hist(postfire.nbr, bins=b, histtype='stepfilled', color='black', alpha=a)\n",
    "axs[2].set_title('Normalised Burn Ratio', y=ydis, fontsize=fs)\n",
    "axs[2].set_xlabel('NBR Ratio\\n(NIR-SWIR)/(NIR+SWIR)')\n",
    "fig.suptitle(name + coordinate)\n",
    "\n",
    "name = './supporting graphics/postfirehists_'+coordinate+'.png'\n",
    "plt.savefig(name)"
   ]
  }
 ],
 "metadata": {
  "kernelspec": {
   "display_name": "Python 3",
   "language": "python",
   "name": "python3"
  },
  "language_info": {
   "codemirror_mode": {
    "name": "ipython",
    "version": 3
   },
   "file_extension": ".py",
   "mimetype": "text/x-python",
   "name": "python",
   "nbconvert_exporter": "python",
   "pygments_lexer": "ipython3",
   "version": "3.8.2"
  }
 },
 "nbformat": 4,
 "nbformat_minor": 4
}
