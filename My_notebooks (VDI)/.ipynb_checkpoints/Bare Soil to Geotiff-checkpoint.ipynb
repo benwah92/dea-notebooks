{
 "cells": [
  {
   "cell_type": "markdown",
   "metadata": {},
   "source": [
    "### Bare Soil (Fractional Cover) 10m resolution\n",
    "Created by Amos Bennett.<br>\n",
    "Last Updated 23 Sep 20. <br>\n",
    "\n",
    "Generates a pre and post fire base soil fractional cover geotiff file by resampling LS8 FC product to 10m resolution."
   ]
  },
  {
   "cell_type": "code",
   "execution_count": null,
   "metadata": {},
   "outputs": [],
   "source": [
    "import sys\n",
    "import datacube\n",
    "from datacube.helpers import write_geotiff\n",
    "from datacube.utils import cog\n",
    "import pandas as pd\n",
    "import xarray as xr\n",
    "import numpy as np\n",
    "import matplotlib.pyplot as plt\n",
    "\n",
    "sys.path.append(\"/home/554/ab4513/dea-notebooks/Scripts\")\n",
    "import dea_datahandling\n",
    "from dea_datahandling import load_ard\n",
    "from dea_plotting import display_map"
   ]
  },
  {
   "cell_type": "code",
   "execution_count": null,
   "metadata": {},
   "outputs": [],
   "source": [
    "print(datacube.__version__)"
   ]
  },
  {
   "cell_type": "code",
   "execution_count": null,
   "metadata": {},
   "outputs": [],
   "source": [
    "dc = datacube.Datacube(app=\"baresoil\")"
   ]
  },
  {
   "cell_type": "code",
   "execution_count": null,
   "metadata": {},
   "outputs": [],
   "source": [
    "# Set the central latitude and longitude\n",
    "central_lat = -35.783333\n",
    "central_lon = 148.016667\n",
    "crs = 'EPSG:32755'\n",
    "\n",
    "# Canberra 148.6547665°E 35.5655761°S\n",
    "# Kosciuszko 148.3517111°E 36.1864717°S\n",
    "# Tumbarumba 148.016667°E 35.783333°S\n",
    "\n",
    "# 0.1° approximately equal to 11.1km distance.\n",
    "\n",
    "# Set the buffer to load around the central coordinates (even numbers such as 0.2, 1.0, 2.2 etc) in degrees (lat, lon)\n",
    "buffer = 0.6\n",
    "\n",
    "# Compute the bounding box for the study area\n",
    "study_area_lat = (central_lat - buffer, central_lat + buffer)\n",
    "study_area_lon = (central_lon - buffer, central_lon + buffer)\n",
    "\n",
    "# display_map(x=study_area_lon, y=study_area_lat, margin=-0.2)"
   ]
  },
  {
   "cell_type": "raw",
   "metadata": {},
   "source": [
    "postfire_pan = xr.open_rasterio('./postfire_PAN_geotiffs/Tumbarumba_S2_pan_postfire.tif')\n",
    "postfire_pan"
   ]
  },
  {
   "cell_type": "code",
   "execution_count": null,
   "metadata": {},
   "outputs": [],
   "source": [
    "# Key dates to load pre and postfire Landsat 8 FC scenes\n",
    "prefire_start = '2019-12-21'\n",
    "prefire_end = '2019-12-23'\n",
    "postfire_start = '2020-01-07'\n",
    "postfire_end = '2020-01-08'"
   ]
  },
  {
   "cell_type": "code",
   "execution_count": null,
   "metadata": {},
   "outputs": [],
   "source": [
    "query = {\"x\": (central_lon - buffer, central_lon + buffer),\n",
    "         \"y\": (central_lat - buffer, central_lat + buffer),\n",
    "         \"time\": (prefire_start, prefire_end),\n",
    "         \"output_crs\": \"EPSG:32755\",\n",
    "         \"resolution\": (-10, 10)}\n",
    "\n",
    "prefire_ls8_fc = dc.load(product=\"ls8_fc_albers\",\n",
    "                         measurements=['BS'],\n",
    "                         **query)\n",
    "\n",
    "prefire_ls8_fc"
   ]
  },
  {
   "cell_type": "code",
   "execution_count": null,
   "metadata": {},
   "outputs": [],
   "source": [
    "prefire_ls8 = prefire_ls8_fc.max(dim='time')\n",
    "del prefire_ls8_fc"
   ]
  },
  {
   "cell_type": "code",
   "execution_count": null,
   "metadata": {},
   "outputs": [],
   "source": [
    "prefire_bs = prefire_ls8.BS.to_dataset(name='prefire_bs')\n",
    "write_geotiff(f'./prefire_BS_geotiffs/Tumbarumba_BS_prefire.tif', prefire_bs)"
   ]
  },
  {
   "cell_type": "code",
   "execution_count": null,
   "metadata": {},
   "outputs": [],
   "source": [
    "query = {\"x\": (central_lon - buffer, central_lon + buffer),\n",
    "         \"y\": (central_lat - buffer, central_lat + buffer),\n",
    "         \"time\": (postfire_start, postfire_end),\n",
    "         \"output_crs\": \"EPSG:32755\",\n",
    "         \"resolution\": (-10, 10)}\n",
    "\n",
    "postfire_ls8_fc = dc.load(product=\"ls8_fc_albers\",\n",
    "                          measurements=['BS'],\n",
    "                          **query)\n",
    "\n",
    "postfire_ls8_fc"
   ]
  },
  {
   "cell_type": "code",
   "execution_count": null,
   "metadata": {},
   "outputs": [],
   "source": [
    "postfire_ls8 = postfire_ls8_fc.max(dim='time')\n",
    "del postfire_ls8_fc"
   ]
  },
  {
   "cell_type": "code",
   "execution_count": null,
   "metadata": {},
   "outputs": [],
   "source": [
    "postfire_bs = postfire_ls8.BS.to_dataset(name='postfire_bs')\n",
    "write_geotiff(f'./postfire_BS_geotiffs/Tumbarumba_BS_postfire.tif', postfire_bs)"
   ]
  },
  {
   "cell_type": "code",
   "execution_count": null,
   "metadata": {},
   "outputs": [],
   "source": [
    "dFCB = postfire_ls8.BS - prefire_ls8.BS\n",
    "dFCB_dataset = dFCB.to_dataset(name='dFCB')\n",
    "write_geotiff(f'./dFBC_geotiffs/Tumbarumba_dFCB.tif', dFCB_dataset)"
   ]
  }
 ],
 "metadata": {
  "kernelspec": {
   "display_name": "Python 3",
   "language": "python",
   "name": "python3"
  },
  "language_info": {
   "codemirror_mode": {
    "name": "ipython",
    "version": 3
   },
   "file_extension": ".py",
   "mimetype": "text/x-python",
   "name": "python",
   "nbconvert_exporter": "python",
   "pygments_lexer": "ipython3",
   "version": "3.8.2"
  }
 },
 "nbformat": 4,
 "nbformat_minor": 4
}
