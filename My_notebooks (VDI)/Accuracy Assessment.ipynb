{
 "cells": [
  {
   "cell_type": "markdown",
   "metadata": {},
   "source": [
    "### Accuracy Assessment\n",
    "Created by Amos Bennett.<br>\n",
    "Last Updated 28 Sep 20. <br>\n",
    "\n",
    "__Updates:__ \n",
    "\n",
    "Calculates the accuracy matrix (crosstab matrix) of the dNBR layer. Histogram shows class separability. By selecting breaks between classes with minimal overlap, the best accuracy result can be assessed for this particular classification. Actual and classified severities are then mapped against each other (per row) and a cross tabulation calculation is conducted."
   ]
  },
  {
   "cell_type": "code",
   "execution_count": 79,
   "metadata": {},
   "outputs": [],
   "source": [
    "import pandas as pd\n",
    "import geopandas as gpd\n",
    "import matplotlib.pyplot as plt"
   ]
  },
  {
   "cell_type": "code",
   "execution_count": 80,
   "metadata": {},
   "outputs": [
    {
     "data": {
      "text/html": [
       "<div>\n",
       "<style scoped>\n",
       "    .dataframe tbody tr th:only-of-type {\n",
       "        vertical-align: middle;\n",
       "    }\n",
       "\n",
       "    .dataframe tbody tr th {\n",
       "        vertical-align: top;\n",
       "    }\n",
       "\n",
       "    .dataframe thead th {\n",
       "        text-align: right;\n",
       "    }\n",
       "</style>\n",
       "<table border=\"1\" class=\"dataframe\">\n",
       "  <thead>\n",
       "    <tr style=\"text-align: right;\">\n",
       "      <th></th>\n",
       "      <th>dNBR</th>\n",
       "      <th>actual_severity</th>\n",
       "      <th>geometry</th>\n",
       "    </tr>\n",
       "  </thead>\n",
       "  <tbody>\n",
       "    <tr>\n",
       "      <th>0</th>\n",
       "      <td>-0.04120</td>\n",
       "      <td>Unburnt</td>\n",
       "      <td>POINT (620890.643 5981712.721)</td>\n",
       "    </tr>\n",
       "    <tr>\n",
       "      <th>1</th>\n",
       "      <td>0.58526</td>\n",
       "      <td>Moderate</td>\n",
       "      <td>POINT (584229.417 5980124.584)</td>\n",
       "    </tr>\n",
       "    <tr>\n",
       "      <th>2</th>\n",
       "      <td>0.20552</td>\n",
       "      <td>Low</td>\n",
       "      <td>POINT (585809.421 5980766.175)</td>\n",
       "    </tr>\n",
       "    <tr>\n",
       "      <th>3</th>\n",
       "      <td>0.31326</td>\n",
       "      <td>Moderate</td>\n",
       "      <td>POINT (623375.568 6070297.326)</td>\n",
       "    </tr>\n",
       "    <tr>\n",
       "      <th>4</th>\n",
       "      <td>0.00954</td>\n",
       "      <td>Unburnt</td>\n",
       "      <td>POINT (619427.841 6050698.299)</td>\n",
       "    </tr>\n",
       "  </tbody>\n",
       "</table>\n",
       "</div>"
      ],
      "text/plain": [
       "      dNBR actual_severity                        geometry\n",
       "0 -0.04120         Unburnt  POINT (620890.643 5981712.721)\n",
       "1  0.58526        Moderate  POINT (584229.417 5980124.584)\n",
       "2  0.20552             Low  POINT (585809.421 5980766.175)\n",
       "3  0.31326        Moderate  POINT (623375.568 6070297.326)\n",
       "4  0.00954         Unburnt  POINT (619427.841 6050698.299)"
      ]
     },
     "execution_count": 80,
     "metadata": {},
     "output_type": "execute_result"
    }
   ],
   "source": [
    "gdf = gpd.read_file('./training_accuracy_data.shp')\n",
    "gdf = gdf.rename(columns={'Tumbarumba': 'dNBR', 'SEVERITY': 'actual_severity'})\n",
    "gdf.head()"
   ]
  },
  {
   "cell_type": "markdown",
   "metadata": {},
   "source": [
    "__From dNBR raster histogram:__<br>\n",
    "mix value = -0.78936<br>\n",
    "max value = 1.2721"
   ]
  },
  {
   "cell_type": "markdown",
   "metadata": {},
   "source": [
    "Separate each class into separate geodataframes based on the actual (measured) classes:"
   ]
  },
  {
   "cell_type": "code",
   "execution_count": 82,
   "metadata": {},
   "outputs": [],
   "source": [
    "actual_unburnt = gdf.loc[(gdf['actual_severity'] == 'Unburnt')]\n",
    "actual_low = gdf.loc[(gdf['actual_severity'] == 'Low')]\n",
    "actual_moderate = gdf.loc[(gdf['actual_severity'] == 'Moderate')]\n",
    "actual_high = gdf.loc[(gdf['actual_severity'] == 'High')]\n",
    "actual_extreme = gdf.loc[(gdf['actual_severity'] == 'Extreme')]"
   ]
  },
  {
   "cell_type": "markdown",
   "metadata": {},
   "source": [
    "Plot the classes (less unburnt) on a histogram to find threshold values for separation:"
   ]
  },
  {
   "cell_type": "code",
   "execution_count": 83,
   "metadata": {},
   "outputs": [
    {
     "data": {
      "image/png": "[encoded data removed]",
      "text/plain": [
       "<Figure size 432x288 with 1 Axes>"
      ]
     },
     "metadata": {
      "needs_background": "light"
     },
     "output_type": "display_data"
    }
   ],
   "source": [
    "#plt.hist(actual_unburnt['dNBR'], bins=30, alpha = 0.5, label='unburnt')\n",
    "plt.hist(actual_low['dNBR'], bins=7, alpha = 0.5, label='low')\n",
    "plt.hist(actual_moderate['dNBR'], bins=16, alpha = 0.5, label='moderate')\n",
    "plt.hist(actual_high['dNBR'], bins=10, alpha = 0.5, label='high')\n",
    "plt.hist(actual_extreme['dNBR'], bins=17, alpha = 0.5, label='extreme')\n",
    "\n",
    "plt.legend(loc='upper left')\n",
    "plt.show()"
   ]
  },
  {
   "cell_type": "markdown",
   "metadata": {},
   "source": [
    "Extremely poor separability between classes. This could be due to the accuracy data that was sourced by visually intepreting 3m resolution Planet Dove data using false colour cues. It was easy to identify 'extreme' classes that were completed charred and also unburnt healthy areas but distinguishing between low, moderate and high was very difficult."
   ]
  },
  {
   "cell_type": "markdown",
   "metadata": {},
   "source": [
    "Apply threshold values and map the categorical matches to the original geodataframe:"
   ]
  },
  {
   "cell_type": "code",
   "execution_count": 84,
   "metadata": {},
   "outputs": [],
   "source": [
    "classified_unburnt = gdf.loc[(gdf['dNBR'] < 0.10)]\n",
    "classified_low = gdf.loc[(gdf['dNBR'] >= 0.10) & (gdf['dNBR'] < 0.30)]\n",
    "classified_moderate = gdf.loc[(gdf['dNBR'] >= 0.30) & (gdf['dNBR'] < 0.50)]\n",
    "classified_high = gdf.loc[(gdf['dNBR'] >= 0.50) & (gdf['dNBR'] < 0.65)]\n",
    "classified_extreme = gdf.loc[(gdf['dNBR'] >= 0.65)]"
   ]
  },
  {
   "cell_type": "code",
   "execution_count": 85,
   "metadata": {},
   "outputs": [
    {
     "name": "stderr",
     "output_type": "stream",
     "text": [
      "/home/yobi/miniconda3/envs/geowhat/lib/python3.8/site-packages/pandas/core/indexing.py:659: SettingWithCopyWarning: \n",
      "A value is trying to be set on a copy of a slice from a DataFrame.\n",
      "Try using .loc[row_indexer,col_indexer] = value instead\n",
      "\n",
      "See the caveats in the documentation: https://pandas.pydata.org/pandas-docs/stable/user_guide/indexing.html#returning-a-view-versus-a-copy\n",
      "  self.obj[k] = np.nan\n",
      "<ipython-input-85-7532ddf11662>:1: SettingWithCopyWarning: \n",
      "A value is trying to be set on a copy of a slice from a DataFrame.\n",
      "Try using .loc[row_indexer,col_indexer] = value instead\n",
      "\n",
      "See the caveats in the documentation: https://pandas.pydata.org/pandas-docs/stable/user_guide/indexing.html#returning-a-view-versus-a-copy\n",
      "  classified_unburnt[['classified_severity']] = 'Unburnt'\n",
      "/home/yobi/miniconda3/envs/geowhat/lib/python3.8/site-packages/pandas/core/indexing.py:1765: SettingWithCopyWarning: \n",
      "A value is trying to be set on a copy of a slice from a DataFrame.\n",
      "Try using .loc[row_indexer,col_indexer] = value instead\n",
      "\n",
      "See the caveats in the documentation: https://pandas.pydata.org/pandas-docs/stable/user_guide/indexing.html#returning-a-view-versus-a-copy\n",
      "  isetter(loc, value)\n",
      "<ipython-input-85-7532ddf11662>:2: SettingWithCopyWarning: \n",
      "A value is trying to be set on a copy of a slice from a DataFrame.\n",
      "Try using .loc[row_indexer,col_indexer] = value instead\n",
      "\n",
      "See the caveats in the documentation: https://pandas.pydata.org/pandas-docs/stable/user_guide/indexing.html#returning-a-view-versus-a-copy\n",
      "  classified_low[['classified_severity']] = 'Low'\n",
      "<ipython-input-85-7532ddf11662>:3: SettingWithCopyWarning: \n",
      "A value is trying to be set on a copy of a slice from a DataFrame.\n",
      "Try using .loc[row_indexer,col_indexer] = value instead\n",
      "\n",
      "See the caveats in the documentation: https://pandas.pydata.org/pandas-docs/stable/user_guide/indexing.html#returning-a-view-versus-a-copy\n",
      "  classified_moderate[['classified_severity']] = 'Moderate'\n",
      "<ipython-input-85-7532ddf11662>:4: SettingWithCopyWarning: \n",
      "A value is trying to be set on a copy of a slice from a DataFrame.\n",
      "Try using .loc[row_indexer,col_indexer] = value instead\n",
      "\n",
      "See the caveats in the documentation: https://pandas.pydata.org/pandas-docs/stable/user_guide/indexing.html#returning-a-view-versus-a-copy\n",
      "  classified_high[['classified_severity']] = 'High'\n",
      "<ipython-input-85-7532ddf11662>:5: SettingWithCopyWarning: \n",
      "A value is trying to be set on a copy of a slice from a DataFrame.\n",
      "Try using .loc[row_indexer,col_indexer] = value instead\n",
      "\n",
      "See the caveats in the documentation: https://pandas.pydata.org/pandas-docs/stable/user_guide/indexing.html#returning-a-view-versus-a-copy\n",
      "  classified_extreme[['classified_severity']] = 'Extreme'\n"
     ]
    }
   ],
   "source": [
    "classified_unburnt[['classified_severity']] = 'Unburnt'\n",
    "classified_low[['classified_severity']] = 'Low'\n",
    "classified_moderate[['classified_severity']] = 'Moderate'\n",
    "classified_high[['classified_severity']] = 'High'\n",
    "classified_extreme[['classified_severity']] = 'Extreme'"
   ]
  },
  {
   "cell_type": "markdown",
   "metadata": {},
   "source": [
    "Combined the results into a new geodataframe and produce a crosstab (accuracy matrix):"
   ]
  },
  {
   "cell_type": "code",
   "execution_count": 86,
   "metadata": {},
   "outputs": [
    {
     "data": {
      "text/html": [
       "<div>\n",
       "<style scoped>\n",
       "    .dataframe tbody tr th:only-of-type {\n",
       "        vertical-align: middle;\n",
       "    }\n",
       "\n",
       "    .dataframe tbody tr th {\n",
       "        vertical-align: top;\n",
       "    }\n",
       "\n",
       "    .dataframe thead th {\n",
       "        text-align: right;\n",
       "    }\n",
       "</style>\n",
       "<table border=\"1\" class=\"dataframe\">\n",
       "  <thead>\n",
       "    <tr style=\"text-align: right;\">\n",
       "      <th></th>\n",
       "      <th>dNBR</th>\n",
       "      <th>actual_severity</th>\n",
       "      <th>classified_severity</th>\n",
       "      <th>geometry</th>\n",
       "    </tr>\n",
       "  </thead>\n",
       "  <tbody>\n",
       "    <tr>\n",
       "      <th>0</th>\n",
       "      <td>-0.04120</td>\n",
       "      <td>Unburnt</td>\n",
       "      <td>Unburnt</td>\n",
       "      <td>POINT (620890.643 5981712.721)</td>\n",
       "    </tr>\n",
       "    <tr>\n",
       "      <th>4</th>\n",
       "      <td>0.00954</td>\n",
       "      <td>Unburnt</td>\n",
       "      <td>Unburnt</td>\n",
       "      <td>POINT (619427.841 6050698.299)</td>\n",
       "    </tr>\n",
       "    <tr>\n",
       "      <th>6</th>\n",
       "      <td>-0.05770</td>\n",
       "      <td>Unburnt</td>\n",
       "      <td>Unburnt</td>\n",
       "      <td>POINT (618872.144 5981099.339)</td>\n",
       "    </tr>\n",
       "    <tr>\n",
       "      <th>7</th>\n",
       "      <td>-0.14799</td>\n",
       "      <td>Unburnt</td>\n",
       "      <td>Unburnt</td>\n",
       "      <td>POINT (614146.389 6011331.299)</td>\n",
       "    </tr>\n",
       "    <tr>\n",
       "      <th>10</th>\n",
       "      <td>-0.07889</td>\n",
       "      <td>Unburnt</td>\n",
       "      <td>Unburnt</td>\n",
       "      <td>POINT (613935.682 6011263.956)</td>\n",
       "    </tr>\n",
       "  </tbody>\n",
       "</table>\n",
       "</div>"
      ],
      "text/plain": [
       "       dNBR actual_severity classified_severity  \\\n",
       "0  -0.04120         Unburnt             Unburnt   \n",
       "4   0.00954         Unburnt             Unburnt   \n",
       "6  -0.05770         Unburnt             Unburnt   \n",
       "7  -0.14799         Unburnt             Unburnt   \n",
       "10 -0.07889         Unburnt             Unburnt   \n",
       "\n",
       "                          geometry  \n",
       "0   POINT (620890.643 5981712.721)  \n",
       "4   POINT (619427.841 6050698.299)  \n",
       "6   POINT (618872.144 5981099.339)  \n",
       "7   POINT (614146.389 6011331.299)  \n",
       "10  POINT (613935.682 6011263.956)  "
      ]
     },
     "execution_count": 86,
     "metadata": {},
     "output_type": "execute_result"
    }
   ],
   "source": [
    "frames = [classified_unburnt, classified_low, classified_moderate, classified_high, classified_extreme]\n",
    "results = pd.concat(frames)\n",
    "results = results[['dNBR', 'actual_severity', 'classified_severity', 'geometry']]\n",
    "results.head()"
   ]
  },
  {
   "cell_type": "code",
   "execution_count": 87,
   "metadata": {},
   "outputs": [
    {
     "data": {
      "text/html": [
       "<div>\n",
       "<style scoped>\n",
       "    .dataframe tbody tr th:only-of-type {\n",
       "        vertical-align: middle;\n",
       "    }\n",
       "\n",
       "    .dataframe tbody tr th {\n",
       "        vertical-align: top;\n",
       "    }\n",
       "\n",
       "    .dataframe thead th {\n",
       "        text-align: right;\n",
       "    }\n",
       "</style>\n",
       "<table border=\"1\" class=\"dataframe\">\n",
       "  <thead>\n",
       "    <tr style=\"text-align: right;\">\n",
       "      <th>classified_severity</th>\n",
       "      <th>Unburnt</th>\n",
       "      <th>Low</th>\n",
       "      <th>Moderate</th>\n",
       "      <th>High</th>\n",
       "      <th>Extreme</th>\n",
       "    </tr>\n",
       "    <tr>\n",
       "      <th>actual_severity</th>\n",
       "      <th></th>\n",
       "      <th></th>\n",
       "      <th></th>\n",
       "      <th></th>\n",
       "      <th></th>\n",
       "    </tr>\n",
       "  </thead>\n",
       "  <tbody>\n",
       "    <tr>\n",
       "      <th>Unburnt</th>\n",
       "      <td>674</td>\n",
       "      <td>45</td>\n",
       "      <td>25</td>\n",
       "      <td>4</td>\n",
       "      <td>0</td>\n",
       "    </tr>\n",
       "    <tr>\n",
       "      <th>Low</th>\n",
       "      <td>16</td>\n",
       "      <td>20</td>\n",
       "      <td>12</td>\n",
       "      <td>0</td>\n",
       "      <td>0</td>\n",
       "    </tr>\n",
       "    <tr>\n",
       "      <th>Moderate</th>\n",
       "      <td>7</td>\n",
       "      <td>11</td>\n",
       "      <td>54</td>\n",
       "      <td>12</td>\n",
       "      <td>29</td>\n",
       "    </tr>\n",
       "    <tr>\n",
       "      <th>High</th>\n",
       "      <td>0</td>\n",
       "      <td>2</td>\n",
       "      <td>22</td>\n",
       "      <td>35</td>\n",
       "      <td>14</td>\n",
       "    </tr>\n",
       "    <tr>\n",
       "      <th>Extreme</th>\n",
       "      <td>0</td>\n",
       "      <td>0</td>\n",
       "      <td>2</td>\n",
       "      <td>21</td>\n",
       "      <td>99</td>\n",
       "    </tr>\n",
       "  </tbody>\n",
       "</table>\n",
       "</div>"
      ],
      "text/plain": [
       "classified_severity  Unburnt  Low  Moderate  High  Extreme\n",
       "actual_severity                                           \n",
       "Unburnt                  674   45        25     4        0\n",
       "Low                       16   20        12     0        0\n",
       "Moderate                   7   11        54    12       29\n",
       "High                       0    2        22    35       14\n",
       "Extreme                    0    0         2    21       99"
      ]
     },
     "execution_count": 87,
     "metadata": {},
     "output_type": "execute_result"
    }
   ],
   "source": [
    "xtab = pd.crosstab(results['actual_severity'], results['classified_severity'])\n",
    "sev = ['Unburnt', 'Low', 'Moderate', 'High', 'Extreme']\n",
    "\n",
    "xtab = xtab.reindex(sev, axis=\"columns\")\n",
    "xtab = xtab.reindex(sev, axis=\"rows\")\n",
    "xtab.to_csv('./dNBR_accuracy.csv')\n",
    "xtab.to_excel('./dNBR_accuracy.xlsx')\n",
    "xtab"
   ]
  },
  {
   "cell_type": "code",
   "execution_count": 88,
   "metadata": {},
   "outputs": [
    {
     "data": {
      "text/plain": [
       "79.8913043478261"
      ]
     },
     "execution_count": 88,
     "metadata": {},
     "output_type": "execute_result"
    }
   ],
   "source": [
    "overall_accuracy = (xtab['Unburnt']['Unburnt'] + xtab['Low']['Low'] + \n",
    "                    xtab['Moderate']['Moderate'] + xtab['High']['High'] + \n",
    "                    xtab['Extreme']['Extreme'])/len(gdf)*100\n",
    "\n",
    "overall_accuracy"
   ]
  },
  {
   "cell_type": "code",
   "execution_count": 89,
   "metadata": {},
   "outputs": [
    {
     "data": {
      "text/html": [
       "<div>\n",
       "<style scoped>\n",
       "    .dataframe tbody tr th:only-of-type {\n",
       "        vertical-align: middle;\n",
       "    }\n",
       "\n",
       "    .dataframe tbody tr th {\n",
       "        vertical-align: top;\n",
       "    }\n",
       "\n",
       "    .dataframe thead th {\n",
       "        text-align: right;\n",
       "    }\n",
       "</style>\n",
       "<table border=\"1\" class=\"dataframe\">\n",
       "  <thead>\n",
       "    <tr style=\"text-align: right;\">\n",
       "      <th></th>\n",
       "      <th>dNBR</th>\n",
       "      <th>geometry</th>\n",
       "    </tr>\n",
       "    <tr>\n",
       "      <th>actual_severity</th>\n",
       "      <th></th>\n",
       "      <th></th>\n",
       "    </tr>\n",
       "  </thead>\n",
       "  <tbody>\n",
       "    <tr>\n",
       "      <th>Extreme</th>\n",
       "      <td>122</td>\n",
       "      <td>122</td>\n",
       "    </tr>\n",
       "    <tr>\n",
       "      <th>High</th>\n",
       "      <td>73</td>\n",
       "      <td>73</td>\n",
       "    </tr>\n",
       "    <tr>\n",
       "      <th>Low</th>\n",
       "      <td>48</td>\n",
       "      <td>48</td>\n",
       "    </tr>\n",
       "    <tr>\n",
       "      <th>Moderate</th>\n",
       "      <td>113</td>\n",
       "      <td>113</td>\n",
       "    </tr>\n",
       "    <tr>\n",
       "      <th>Unburnt</th>\n",
       "      <td>748</td>\n",
       "      <td>748</td>\n",
       "    </tr>\n",
       "  </tbody>\n",
       "</table>\n",
       "</div>"
      ],
      "text/plain": [
       "                 dNBR  geometry\n",
       "actual_severity                \n",
       "Extreme           122       122\n",
       "High               73        73\n",
       "Low                48        48\n",
       "Moderate          113       113\n",
       "Unburnt           748       748"
      ]
     },
     "execution_count": 89,
     "metadata": {},
     "output_type": "execute_result"
    }
   ],
   "source": [
    "gdf.groupby('actual_severity').count()"
   ]
  },
  {
   "cell_type": "markdown",
   "metadata": {},
   "source": [
    "#### Discussion\n",
    "There is a disproportionally high number of unburnt sample points which have likely skewed the results to be very high. We only need to look at the count to see that unburnt samples make up a majority of the points. Let's see what happens if only 40 points from each class are randomly sampled."
   ]
  },
  {
   "cell_type": "code",
   "execution_count": 90,
   "metadata": {},
   "outputs": [],
   "source": [
    "unburnt = results.loc[(gdf['actual_severity'] == 'Unburnt')]\n",
    "unburnt = unburnt.sample(n=40)\n",
    "\n",
    "low = results.loc[(gdf['actual_severity'] == 'Low')]\n",
    "low = low.sample(n=40)\n",
    "\n",
    "moderate = results.loc[(gdf['actual_severity'] == 'Moderate')]\n",
    "moderate = moderate.sample(n=40)\n",
    "\n",
    "high = results.loc[(gdf['actual_severity'] == 'High')]\n",
    "high = high.sample(n=40)\n",
    "\n",
    "extreme = results.loc[(gdf['actual_severity'] == 'Extreme')]\n",
    "extreme = extreme.sample(n=40)"
   ]
  },
  {
   "cell_type": "code",
   "execution_count": 91,
   "metadata": {},
   "outputs": [
    {
     "data": {
      "text/html": [
       "<div>\n",
       "<style scoped>\n",
       "    .dataframe tbody tr th:only-of-type {\n",
       "        vertical-align: middle;\n",
       "    }\n",
       "\n",
       "    .dataframe tbody tr th {\n",
       "        vertical-align: top;\n",
       "    }\n",
       "\n",
       "    .dataframe thead th {\n",
       "        text-align: right;\n",
       "    }\n",
       "</style>\n",
       "<table border=\"1\" class=\"dataframe\">\n",
       "  <thead>\n",
       "    <tr style=\"text-align: right;\">\n",
       "      <th></th>\n",
       "      <th>dNBR</th>\n",
       "      <th>actual_severity</th>\n",
       "      <th>classified_severity</th>\n",
       "      <th>geometry</th>\n",
       "    </tr>\n",
       "  </thead>\n",
       "  <tbody>\n",
       "    <tr>\n",
       "      <th>758</th>\n",
       "      <td>-0.07414</td>\n",
       "      <td>Unburnt</td>\n",
       "      <td>Unburnt</td>\n",
       "      <td>POINT (621263.949 5981560.179)</td>\n",
       "    </tr>\n",
       "    <tr>\n",
       "      <th>1019</th>\n",
       "      <td>-0.06930</td>\n",
       "      <td>Unburnt</td>\n",
       "      <td>Unburnt</td>\n",
       "      <td>POINT (615036.722 6012141.562)</td>\n",
       "    </tr>\n",
       "    <tr>\n",
       "      <th>231</th>\n",
       "      <td>-0.01056</td>\n",
       "      <td>Unburnt</td>\n",
       "      <td>Unburnt</td>\n",
       "      <td>POINT (606617.491 6021677.081)</td>\n",
       "    </tr>\n",
       "    <tr>\n",
       "      <th>944</th>\n",
       "      <td>-0.04090</td>\n",
       "      <td>Unburnt</td>\n",
       "      <td>Unburnt</td>\n",
       "      <td>POINT (621263.793 6080113.610)</td>\n",
       "    </tr>\n",
       "    <tr>\n",
       "      <th>319</th>\n",
       "      <td>-0.07091</td>\n",
       "      <td>Unburnt</td>\n",
       "      <td>Unburnt</td>\n",
       "      <td>POINT (622397.638 6080389.110)</td>\n",
       "    </tr>\n",
       "  </tbody>\n",
       "</table>\n",
       "</div>"
      ],
      "text/plain": [
       "         dNBR actual_severity classified_severity  \\\n",
       "758  -0.07414         Unburnt             Unburnt   \n",
       "1019 -0.06930         Unburnt             Unburnt   \n",
       "231  -0.01056         Unburnt             Unburnt   \n",
       "944  -0.04090         Unburnt             Unburnt   \n",
       "319  -0.07091         Unburnt             Unburnt   \n",
       "\n",
       "                            geometry  \n",
       "758   POINT (621263.949 5981560.179)  \n",
       "1019  POINT (615036.722 6012141.562)  \n",
       "231   POINT (606617.491 6021677.081)  \n",
       "944   POINT (621263.793 6080113.610)  \n",
       "319   POINT (622397.638 6080389.110)  "
      ]
     },
     "execution_count": 91,
     "metadata": {},
     "output_type": "execute_result"
    }
   ],
   "source": [
    "frames = [unburnt, low, moderate, high, extreme]\n",
    "results = pd.concat(frames)\n",
    "results = results[['dNBR', 'actual_severity', 'classified_severity', 'geometry']]\n",
    "results.head()"
   ]
  },
  {
   "cell_type": "code",
   "execution_count": 92,
   "metadata": {},
   "outputs": [
    {
     "data": {
      "text/html": [
       "<div>\n",
       "<style scoped>\n",
       "    .dataframe tbody tr th:only-of-type {\n",
       "        vertical-align: middle;\n",
       "    }\n",
       "\n",
       "    .dataframe tbody tr th {\n",
       "        vertical-align: top;\n",
       "    }\n",
       "\n",
       "    .dataframe thead th {\n",
       "        text-align: right;\n",
       "    }\n",
       "</style>\n",
       "<table border=\"1\" class=\"dataframe\">\n",
       "  <thead>\n",
       "    <tr style=\"text-align: right;\">\n",
       "      <th>classified_severity</th>\n",
       "      <th>Unburnt</th>\n",
       "      <th>Low</th>\n",
       "      <th>Moderate</th>\n",
       "      <th>High</th>\n",
       "      <th>Extreme</th>\n",
       "    </tr>\n",
       "    <tr>\n",
       "      <th>actual_severity</th>\n",
       "      <th></th>\n",
       "      <th></th>\n",
       "      <th></th>\n",
       "      <th></th>\n",
       "      <th></th>\n",
       "    </tr>\n",
       "  </thead>\n",
       "  <tbody>\n",
       "    <tr>\n",
       "      <th>Unburnt</th>\n",
       "      <td>37</td>\n",
       "      <td>1</td>\n",
       "      <td>2</td>\n",
       "      <td>0</td>\n",
       "      <td>0</td>\n",
       "    </tr>\n",
       "    <tr>\n",
       "      <th>Low</th>\n",
       "      <td>15</td>\n",
       "      <td>15</td>\n",
       "      <td>10</td>\n",
       "      <td>0</td>\n",
       "      <td>0</td>\n",
       "    </tr>\n",
       "    <tr>\n",
       "      <th>Moderate</th>\n",
       "      <td>3</td>\n",
       "      <td>5</td>\n",
       "      <td>16</td>\n",
       "      <td>6</td>\n",
       "      <td>10</td>\n",
       "    </tr>\n",
       "    <tr>\n",
       "      <th>High</th>\n",
       "      <td>0</td>\n",
       "      <td>0</td>\n",
       "      <td>10</td>\n",
       "      <td>20</td>\n",
       "      <td>10</td>\n",
       "    </tr>\n",
       "    <tr>\n",
       "      <th>Extreme</th>\n",
       "      <td>0</td>\n",
       "      <td>0</td>\n",
       "      <td>0</td>\n",
       "      <td>5</td>\n",
       "      <td>35</td>\n",
       "    </tr>\n",
       "  </tbody>\n",
       "</table>\n",
       "</div>"
      ],
      "text/plain": [
       "classified_severity  Unburnt  Low  Moderate  High  Extreme\n",
       "actual_severity                                           \n",
       "Unburnt                   37    1         2     0        0\n",
       "Low                       15   15        10     0        0\n",
       "Moderate                   3    5        16     6       10\n",
       "High                       0    0        10    20       10\n",
       "Extreme                    0    0         0     5       35"
      ]
     },
     "execution_count": 92,
     "metadata": {},
     "output_type": "execute_result"
    }
   ],
   "source": [
    "xtab = pd.crosstab(results['actual_severity'], results['classified_severity'])\n",
    "sev = ['Unburnt', 'Low', 'Moderate', 'High', 'Extreme']\n",
    "\n",
    "xtab = xtab.reindex(sev, axis=\"columns\")\n",
    "xtab = xtab.reindex(sev, axis=\"rows\")\n",
    "xtab"
   ]
  },
  {
   "cell_type": "code",
   "execution_count": 93,
   "metadata": {},
   "outputs": [
    {
     "data": {
      "text/plain": [
       "61.5"
      ]
     },
     "execution_count": 93,
     "metadata": {},
     "output_type": "execute_result"
    }
   ],
   "source": [
    "overall_accuracy = (xtab['Unburnt']['Unburnt'] + xtab['Low']['Low'] + \n",
    "                    xtab['Moderate']['Moderate'] + xtab['High']['High'] + \n",
    "                    xtab['Extreme']['Extreme'])/len(results)*100\n",
    "\n",
    "overall_accuracy"
   ]
  },
  {
   "cell_type": "markdown",
   "metadata": {},
   "source": [
    "This is likely a far more accurate representation of the overall accuracy of this classification. This is still not based considering the very minimal processing overhead for a dNBR compared to a multi-band fully connected neural network approach. Unfortunately, with each different location, scene, weather conditions (pre/post), vegetation ecosystems etc; there is significant variability that the chose threshold values would need to be tweaked to suit each scene. This is where a majority of the time would be spent, and normalising severity from one scene to another become very difficult as moderate in one may not neccessarily map well to moderate in another location with a completely different ecosystem of flora."
   ]
  }
 ],
 "metadata": {
  "kernelspec": {
   "display_name": "Python 3",
   "language": "python",
   "name": "python3"
  },
  "language_info": {
   "codemirror_mode": {
    "name": "ipython",
    "version": 3
   },
   "file_extension": ".py",
   "mimetype": "text/x-python",
   "name": "python",
   "nbconvert_exporter": "python",
   "pygments_lexer": "ipython3",
   "version": "3.8.2"
  }
 },
 "nbformat": 4,
 "nbformat_minor": 4
}
