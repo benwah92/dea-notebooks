{
 "cells": [
  {
   "cell_type": "markdown",
   "metadata": {},
   "source": [
    "### dNBR to Geotiff (Dask)\n",
    "Created by Amos Bennett.<br>\n",
    "Last Updated 23 Sep 20. <br>\n",
    "\n",
    "__Updates:__ \n",
    "\n",
    "Generates a dNBR geotiff (process using dask arrays). Unsure about lazy_load."
   ]
  },
  {
   "cell_type": "code",
   "execution_count": null,
   "metadata": {},
   "outputs": [],
   "source": [
    "import sys\n",
    "import datacube\n",
    "from datacube.helpers import write_geotiff\n",
    "from datacube.utils import cog\n",
    "import pandas as pd\n",
    "import xarray as xr\n",
    "import numpy as np\n",
    "import matplotlib.pyplot as plt\n",
    "\n",
    "sys.path.append(\"/home/554/ab4513/dea-notebooks/Scripts\")\n",
    "import dea_datahandling\n",
    "from dea_datahandling import load_ard\n",
    "from dea_plotting import rgb\n",
    "from dea_plotting import display_map\n",
    "from dea_bandindices import calculate_indices"
   ]
  },
  {
   "cell_type": "code",
   "execution_count": null,
   "metadata": {},
   "outputs": [],
   "source": [
    "print(datacube.__version__)"
   ]
  },
  {
   "cell_type": "code",
   "execution_count": null,
   "metadata": {},
   "outputs": [],
   "source": [
    "dc = datacube.Datacube(app=\"dNBR\")"
   ]
  },
  {
   "cell_type": "code",
   "execution_count": null,
   "metadata": {},
   "outputs": [],
   "source": [
    "# Set the central latitude and longitude\n",
    "central_lat = -35.783333\n",
    "central_lon = 148.016667\n",
    "crs = 'EPSG:32755'\n",
    "\n",
    "# Canberra 148.6547665°E 35.5655761°S\n",
    "# Kosciuszko 148.3517111°E 36.1864717°S\n",
    "# Tumbarumba 148.016667°E 35.783333°S\n",
    "\n",
    "# 0.1° approximately equal to 11.1km distance.\n",
    "\n",
    "# Set the buffer to load around the central coordinates (even numbers such as 0.2, 1.0, 2.2 etc) in degrees (lat, lon)\n",
    "buffer = 0.6\n",
    "\n",
    "# Compute the bounding box for the study area\n",
    "study_area_lat = (central_lat - buffer, central_lat + buffer)\n",
    "study_area_lon = (central_lon - buffer, central_lon + buffer)\n",
    "\n",
    "# display_map(x=study_area_lon, y=study_area_lat, margin=-0.2)"
   ]
  },
  {
   "cell_type": "code",
   "execution_count": null,
   "metadata": {},
   "outputs": [],
   "source": [
    "# Key Dates\n",
    "prefire_start = '2019-11-01'\n",
    "prefire_end = '2020-01-06'\n",
    "postfire_start = '2020-01-07'\n",
    "postfire_end = '2020-05-01'"
   ]
  },
  {
   "cell_type": "code",
   "execution_count": null,
   "metadata": {},
   "outputs": [],
   "source": [
    "query_1 = {\"x\": (central_lon - buffer, central_lon + buffer),\n",
    "         \"y\": (central_lat - buffer, central_lat + buffer),\n",
    "         \"time\": (prefire_start, prefire_end),\n",
    "         \"output_crs\": \"EPSG:32755\",\n",
    "         \"resolution\": (-10, 10)}\n",
    "\n",
    "prefire_data = load_ard(dc=dc,\n",
    "    products=['s2a_ard_granule', 's2b_ard_granule'],\n",
    "    measurements=['nbart_nir_1', 'nbart_swir_3'],\n",
    "    min_gooddata=0,\n",
    "    dask_chunks={'x': 'auto', 'y': 'auto'},\n",
    "    lazy_load=True,\n",
    "    group_by='solar_day',**query_1)\n",
    "\n",
    "\n",
    "prefire_image = prefire_data.median(dim='time')\n",
    "prefire_image = calculate_indices(prefire_image,\n",
    "                                  index='NBR', \n",
    "                                  collection='ga_s2_1', \n",
    "                                  drop=False)\n",
    "prefire_burnratio = prefire_image.NBR\n",
    "prefire_burnratio.data"
   ]
  },
  {
   "cell_type": "code",
   "execution_count": null,
   "metadata": {},
   "outputs": [],
   "source": [
    "query_2 = {\"x\": (central_lon - buffer, central_lon + buffer),\n",
    "         \"y\": (central_lat - buffer, central_lat + buffer),\n",
    "         \"time\": (postfire_start, postfire_end),\n",
    "         \"output_crs\": \"EPSG:32755\",\n",
    "         \"resolution\": (-10, 10)}\n",
    "\n",
    "postfire_data = load_ard(dc=dc,\n",
    "    products=['s2a_ard_granule', 's2b_ard_granule'],\n",
    "    measurements=['nbart_nir_1', 'nbart_swir_3'],\n",
    "    min_gooddata=0,\n",
    "    dask_chunks={'x': 'auto', 'y': 'auto'},\n",
    "    lazy_load=True,\n",
    "    group_by='solar_day',**query_2)\n",
    "\n",
    "postfire_image = postfire_data.median(dim='time')\n",
    "postfire_image = calculate_indices(postfire_image,\n",
    "                                  index='NBR', \n",
    "                                  collection='ga_s2_1', \n",
    "                                  drop=False)\n",
    "postfire_burnratio = postfire_image.NBR\n",
    "postfire_burnratio.data"
   ]
  },
  {
   "cell_type": "code",
   "execution_count": null,
   "metadata": {},
   "outputs": [],
   "source": [
    "%%time\n",
    "\n",
    "# delta_NBR = prefire_NBR - postfire_NBR.compute()\n",
    "delta_NBR = prefire_burnratio - postfire_burnratio\n",
    "# delta_NBR.data\n",
    "delta_NBR.compute()\n",
    "dnbr_dataset = delta_NBR.to_dataset(name='delta_NBR')\n",
    "\n",
    "# cog.write_cog(delta_NBR, \"./dask_testing/tumbarumba.tif\")\n",
    "write_geotiff(f'./scratch/wj97/ab4513/dNBR_tiffs/tumbarumba_dNBR_dask.tif', dnbr_dataset)"
   ]
  }
 ],
 "metadata": {
  "kernelspec": {
   "display_name": "Python 3",
   "language": "python",
   "name": "python3"
  },
  "language_info": {
   "codemirror_mode": {
    "name": "ipython",
    "version": 3
   },
   "file_extension": ".py",
   "mimetype": "text/x-python",
   "name": "python",
   "nbconvert_exporter": "python",
   "pygments_lexer": "ipython3",
   "version": "3.8.2"
  }
 },
 "nbformat": 4,
 "nbformat_minor": 4
}
