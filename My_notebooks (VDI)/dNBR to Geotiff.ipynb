{
 "cells": [
  {
   "cell_type": "markdown",
   "metadata": {},
   "source": [
    "### dNBR to Geotiff\n",
    "Created by Amos Bennett.<br>\n",
    "Last Updated 23 Sep 20. <br>\n",
    "\n",
    "__Updates:__ \n",
    "\n",
    "Generates a dNBR from pre and post fire Sentinel 2a/b analysis ready scenes utilising custom memory control."
   ]
  },
  {
   "cell_type": "code",
   "execution_count": null,
   "metadata": {},
   "outputs": [],
   "source": [
    "import sys\n",
    "import datacube\n",
    "from datacube.helpers import write_geotiff\n",
    "from datacube.utils import cog\n",
    "import pandas as pd\n",
    "import xarray as xr\n",
    "import numpy as np\n",
    "import matplotlib.pyplot as plt\n",
    "\n",
    "sys.path.append(\"/home/554/ab4513/dea-notebooks/Scripts\")\n",
    "import dea_datahandling\n",
    "from dea_datahandling import load_ard\n",
    "from dea_plotting import rgb\n",
    "from dea_plotting import display_map\n",
    "from dea_bandindices import calculate_indices"
   ]
  },
  {
   "cell_type": "code",
   "execution_count": null,
   "metadata": {},
   "outputs": [],
   "source": [
    "print(datacube.__version__)"
   ]
  },
  {
   "cell_type": "code",
   "execution_count": null,
   "metadata": {},
   "outputs": [],
   "source": [
    "dc = datacube.Datacube(app=\"dNBR\")"
   ]
  },
  {
   "cell_type": "code",
   "execution_count": null,
   "metadata": {},
   "outputs": [],
   "source": [
    "# Set the central latitude and longitude\n",
    "central_lat = -35.783333\n",
    "central_lon = 148.016667\n",
    "crs = 'EPSG:32755'\n",
    "\n",
    "# Canberra 148.6547665°E 35.5655761°S\n",
    "# Kosciuszko 148.3517111°E 36.1864717°S\n",
    "# Tumbarumba 148.016667°E 35.783333°S\n",
    "\n",
    "# 0.1° approximately equal to 11.1km distance.\n",
    "\n",
    "# Set the buffer to load around the central coordinates (even numbers such as 0.2, 1.0, 2.2 etc) in degrees (lat, lon)\n",
    "buffer = 0.6\n",
    "\n",
    "# Compute the bounding box for the study area\n",
    "study_area_lat = (central_lat - buffer, central_lat + buffer)\n",
    "study_area_lon = (central_lon - buffer, central_lon + buffer)\n",
    "\n",
    "# display_map(x=study_area_lon, y=study_area_lat, margin=-0.2)"
   ]
  },
  {
   "cell_type": "code",
   "execution_count": null,
   "metadata": {},
   "outputs": [],
   "source": [
    "import shapely\n",
    "from shapely.geometry import Point\n",
    "\n",
    "# Create a range for generating point grid.\n",
    "magic_number = int(buffer*10/1)\n",
    "rng = range(int(magic_number/2))\n",
    "\n",
    "x_coord = []\n",
    "y_coord = []\n",
    "\n",
    "# Calculate x and y for point grid.\n",
    "for i in rng:\n",
    "    l = i/5 + 0.1\n",
    "    neg_lat = central_lat - l\n",
    "    neg_lon = central_lon - l\n",
    "    pos_lat = central_lat + l\n",
    "    pos_lon = central_lon + l\n",
    "    x_coord.append(neg_lon)\n",
    "    x_coord.append(pos_lon)\n",
    "    y_coord.append(neg_lat)\n",
    "    y_coord.append(pos_lat)\n",
    "    \n",
    "coords = []\n",
    "\n",
    "# Create list of shapely points.\n",
    "for x in x_coord:\n",
    "    for y in y_coord:\n",
    "        p = Point(x, y)\n",
    "        coords.append(p)"
   ]
  },
  {
   "cell_type": "code",
   "execution_count": null,
   "metadata": {},
   "outputs": [],
   "source": [
    "# Key Dates\n",
    "prefire_start = '2019-11-01'\n",
    "prefire_end = '2020-01-06'\n",
    "postfire_start = '2020-01-07'\n",
    "postfire_end = '2020-05-01'"
   ]
  },
  {
   "cell_type": "code",
   "execution_count": null,
   "metadata": {},
   "outputs": [],
   "source": [
    "# Print dates\n",
    "print('start_date_pre:  '+prefire_start)\n",
    "print('end_date_pre:    '+prefire_end)\n",
    "print('start_date_post: '+postfire_start)\n",
    "print('end_date_post:   '+postfire_end)"
   ]
  },
  {
   "cell_type": "code",
   "execution_count": null,
   "metadata": {},
   "outputs": [],
   "source": [
    "def dNBR_processing(coordinates):\n",
    "    \n",
    "    # Load all data in baseline period available from s2a/b_ard_granule datasets\n",
    "    prefire_ard = load_ard(dc=dc,\n",
    "                  products=['s2a_ard_granule', 's2b_ard_granule'],\n",
    "                  x = (coordinates.x - 0.1, coordinates.x + 0.1),\n",
    "                  y = (coordinates.y - 0.1, coordinates.y + 0.1),\n",
    "                  time=(prefire_start, prefire_end),\n",
    "                  measurements=['nbart_nir_1',\n",
    "                                'nbart_swir_3'],\n",
    "                  min_gooddata=0.1,\n",
    "                  output_crs='EPSG:32755', # UTM Zone 55S\n",
    "                  resolution=(-10,10),\n",
    "                  group_by='solar_day')\n",
    "   \n",
    "    prefire_ard = calculate_indices(prefire_ard,\n",
    "                                    index='NBR', \n",
    "                                    collection='ga_s2_1', \n",
    "                                    drop=False)\n",
    "\n",
    "    # Compute median using all observations in the dataset along the time axis\n",
    "    prefire_image = prefire_ard.median(dim='time')\n",
    "\n",
    "    # Delete baseline_combined\n",
    "    del prefire_ard\n",
    "\n",
    "    # Select NBR\n",
    "    prefire_NBR = prefire_image.NBR\n",
    "\n",
    "    del prefire_image\n",
    "\n",
    "    # Load all data in post-fire period available from s2a/b_ard_granule datasets\n",
    "    postfire_ard = load_ard(dc=dc,\n",
    "                   products=['s2a_ard_granule', 's2b_ard_granule'],\n",
    "                   x = (coordinates.x - 0.1, coordinates.x + 0.1),\n",
    "                   y = (coordinates.y - 0.1, coordinates.y + 0.1),\n",
    "                   time=(postfire_start, postfire_end),\n",
    "                   measurements=['nbart_nir_1',\n",
    "                                 'nbart_swir_3'],\n",
    "                   min_gooddata=0.1,\n",
    "                   output_crs='EPSG:32755', # UTM Zone 55S\n",
    "                   resolution=(-10,10),\n",
    "                   group_by='solar_day')\n",
    "\n",
    "    # Calculate NBR on all post-fire images\n",
    "    postfire_ard = calculate_indices(postfire_ard,\n",
    "                                     index='NBR',\n",
    "                                     collection='ga_s2_1',\n",
    "                                     drop=False)\n",
    "\n",
    "    # Calculate the median post-fire image\n",
    "    postfire_image = postfire_ard.median(dim='time')\n",
    "\n",
    "    del postfire_ard\n",
    "\n",
    "    # Select NBR\n",
    "    postfire_NBR = postfire_image.NBR\n",
    "\n",
    "    del postfire_image\n",
    "\n",
    "    # Calculate delta\n",
    "    delta_NBR = prefire_NBR - postfire_NBR\n",
    "\n",
    "    del prefire_NBR\n",
    "    del postfire_NBR\n",
    "    \n",
    "    x = np.round_(coordinates.x, decimals=4)\n",
    "    y = np.round_(coordinates.y, decimals=4)\n",
    "\n",
    "    # Turn dNBR into a x-array dataset for export to GeoTIFF\n",
    "    dnbr_dataset = delta_NBR.to_dataset(name='delta_NBR')\n",
    "    # cog.write_cog(dnbr_dataset, './NBR_geotiffs/{x}_{y}_dNBR.tif')\n",
    "    write_geotiff(f'./dNBR_geotiffs/{x}_{y}_dNBR.tif', dnbr_dataset)\n",
    "        \n",
    "    del delta_NBR\n",
    "    del dnbr_dataset"
   ]
  },
  {
   "cell_type": "code",
   "execution_count": null,
   "metadata": {},
   "outputs": [],
   "source": [
    "%%time\n",
    "\n",
    "# Iterate through all shapely points to generate a dNBR geotiff.\n",
    "for i in coords:\n",
    "    dNBR_processing(i)"
   ]
  },
  {
   "cell_type": "code",
   "execution_count": null,
   "metadata": {},
   "outputs": [],
   "source": [
    "import rasterio\n",
    "from rasterio.merge import merge\n",
    "from rasterio.plot import show\n",
    "import glob\n",
    "import os"
   ]
  },
  {
   "cell_type": "code",
   "execution_count": null,
   "metadata": {},
   "outputs": [],
   "source": [
    "dirpath = r\"/home/554/ab4513/dea-notebooks/My Notebooks/dNBR_geotiffs\"\n",
    "out_fp = r\"/home/554/ab4513/dea-notebooks/My Notebooks/dNBR_geotiffs/Tumbarumba_dNBR.tif\"\n",
    "\n",
    "# Make a search criteria to select the DEM files\n",
    "search_criteria = \"1*.tif\"\n",
    "q = os.path.join(dirpath, search_criteria)\n",
    "print(q)"
   ]
  },
  {
   "cell_type": "code",
   "execution_count": null,
   "metadata": {},
   "outputs": [],
   "source": [
    "dem_fps = glob.glob(q)"
   ]
  },
  {
   "cell_type": "code",
   "execution_count": null,
   "metadata": {},
   "outputs": [],
   "source": [
    "src_files_to_mosaic = []\n",
    "for fp in dem_fps:\n",
    "    src = rasterio.open(fp)\n",
    "    src_files_to_mosaic.append(src)\n",
    "    \n",
    "src_files_to_mosaic\n",
    "\n",
    "mosaic, out_trans = merge(src_files_to_mosaic)\n",
    "show(mosaic, cmap='plasma')"
   ]
  },
  {
   "cell_type": "code",
   "execution_count": null,
   "metadata": {},
   "outputs": [],
   "source": [
    "out_meta = src.meta.copy()\n",
    "out_meta.update({\"driver\": \"GTiff\",\n",
    "                 \"height\": mosaic.shape[1],\n",
    "                 \"width\": mosaic.shape[2],\n",
    "                 \"transform\": out_trans,\n",
    "                 \"crs\": crs})\n",
    "\n",
    "with rasterio.open(out_fp, \"w\", **out_meta) as dest:\n",
    "    dest.write(mosaic)"
   ]
  }
 ],
 "metadata": {
  "kernelspec": {
   "display_name": "Python 3",
   "language": "python",
   "name": "python3"
  },
  "language_info": {
   "codemirror_mode": {
    "name": "ipython",
    "version": 3
   },
   "file_extension": ".py",
   "mimetype": "text/x-python",
   "name": "python",
   "nbconvert_exporter": "python",
   "pygments_lexer": "ipython3",
   "version": "3.8.2"
  }
 },
 "nbformat": 4,
 "nbformat_minor": 4
}
