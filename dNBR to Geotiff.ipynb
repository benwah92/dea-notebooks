{
 "cells": [
  {
   "cell_type": "markdown",
   "metadata": {},
   "source": [
    "### dNBR to Geotiff\n",
    "Created by Amos Bennett.<br>\n",
    "Last Updated 23 Aug 20. <br>\n",
    "\n",
    "__Updates:__ \n",
    "\n",
    "Script was pulled from DEA sandbox and loaded to NCI VDI after an error with not sourcing s2a/b_ard_granule and s2a/b_nrt_granule correctly. Because the fires being analysed occured several months ago, nrt (near real time) is no longer required and was removed. The DEA startup on the NCI VDI side was set up to be linked to module DEA version 1.8.0 due to a deprecation issue with write_geotiff().\n",
    "\n",
    "Updated coordinates for Tumbarumba, refined dates based on statistical analysis of randomly sampled pixels, updated and corrected CRS to reflect UTM Zone 55S. Wall time of 12min 42 secs (23 Aug 20) do load x-array datasets of ARD (Sentinel 2a/b NBART NIR and SWIR) for pre and post fire periods, create median images, generate NBR layers, calculate dNBR and mosaic dNBR images into a seamless geotiff. 12min and 42 secs to effectively map 4,500 sq km of bushfire affected area (450,000 Ha)!"
   ]
  },
  {
   "cell_type": "code",
   "execution_count": 1,
   "metadata": {},
   "outputs": [
    {
     "name": "stderr",
     "output_type": "stream",
     "text": [
      "/g/data/v10/public/modules/dea/20200605/lib/python3.6/site-packages/datacube/storage/masking.py:4: DeprecationWarning: datacube.storage.masking has moved to datacube.utils.masking\n",
      "  category=DeprecationWarning)\n"
     ]
    }
   ],
   "source": [
    "import sys\n",
    "import datacube\n",
    "from datacube.helpers import write_geotiff\n",
    "from datetime import datetime\n",
    "from datetime import timedelta\n",
    "import pandas as pd\n",
    "import xarray as xr\n",
    "import numpy as np\n",
    "import matplotlib.pyplot as plt\n",
    "\n",
    "sys.path.append(\"/home/554/ab4513/dea-notebooks/Scripts\")\n",
    "import dea_datahandling\n",
    "from dea_datahandling import load_ard\n",
    "from dea_plotting import rgb\n",
    "from dea_plotting import display_map\n",
    "from dea_bandindices import calculate_indices"
   ]
  },
  {
   "cell_type": "code",
   "execution_count": 2,
   "metadata": {},
   "outputs": [
    {
     "name": "stdout",
     "output_type": "stream",
     "text": [
      "1.8.0\n"
     ]
    }
   ],
   "source": [
    "print(datacube.__version__)"
   ]
  },
  {
   "cell_type": "code",
   "execution_count": 3,
   "metadata": {},
   "outputs": [],
   "source": [
    "dc = datacube.Datacube(app=\"dNBR\")"
   ]
  },
  {
   "cell_type": "code",
   "execution_count": 4,
   "metadata": {},
   "outputs": [],
   "source": [
    "# Set the central latitude and longitude\n",
    "central_lat = -35.783333\n",
    "central_lon = 148.016667\n",
    "\n",
    "# Canberra 148.6547665°E 35.5655761°S\n",
    "# Kosciuszko 148.3517111°E 36.1864717°S\n",
    "# Tumbarumba 148.016667°E 35.783333°S\n",
    "\n",
    "# 0.1° approximately equal to 11.1km distance.\n",
    "\n",
    "# Set the buffer to load around the central coordinates (even numbers such as 0.2, 1.0, 2.2 etc) in degrees (lat, lon)\n",
    "buffer = 0.6\n",
    "\n",
    "# Compute the bounding box for the study area\n",
    "study_area_lat = (central_lat - buffer, central_lat + buffer)\n",
    "study_area_lon = (central_lon - buffer, central_lon + buffer)\n",
    "\n",
    "# display_map(x=study_area_lon, y=study_area_lat, margin=-0.2)"
   ]
  },
  {
   "cell_type": "code",
   "execution_count": 5,
   "metadata": {
    "jupyter": {
     "source_hidden": true
    }
   },
   "outputs": [],
   "source": [
    "import shapely\n",
    "from shapely.geometry import Point\n",
    "\n",
    "# Create a range for generating point grid.\n",
    "magic_number = int(buffer*10/1)\n",
    "rng = range(int(magic_number/2))\n",
    "\n",
    "x_coord = []\n",
    "y_coord = []\n",
    "\n",
    "# Calculate x and y for point grid.\n",
    "for i in rng:\n",
    "    l = i/5 + 0.1\n",
    "    neg_lat = central_lat - l\n",
    "    neg_lon = central_lon - l\n",
    "    pos_lat = central_lat + l\n",
    "    pos_lon = central_lon + l\n",
    "    x_coord.append(neg_lon)\n",
    "    x_coord.append(pos_lon)\n",
    "    y_coord.append(neg_lat)\n",
    "    y_coord.append(pos_lat)\n",
    "    \n",
    "coords = []\n",
    "\n",
    "# Create list of shapely points.\n",
    "for x in x_coord:\n",
    "    for y in y_coord:\n",
    "        p = Point(x, y)\n",
    "        coords.append(p)"
   ]
  },
  {
   "cell_type": "code",
   "execution_count": 6,
   "metadata": {},
   "outputs": [],
   "source": [
    "# Key Dates\n",
    "prefire_start = '2019-11-01'\n",
    "prefire_end = '2020-01-06'\n",
    "postfire_start = '2020-01-07'\n",
    "postfire_end = '2020-05-01'"
   ]
  },
  {
   "cell_type": "code",
   "execution_count": 7,
   "metadata": {},
   "outputs": [
    {
     "name": "stdout",
     "output_type": "stream",
     "text": [
      "start_date_pre:  2019-11-01\n",
      "end_date_pre:    2020-01-06\n",
      "start_date_post: 2020-01-07\n",
      "end_date_post:   2020-05-01\n"
     ]
    }
   ],
   "source": [
    "# Print dates\n",
    "print('start_date_pre:  '+prefire_start)\n",
    "print('end_date_pre:    '+prefire_end)\n",
    "print('start_date_post: '+postfire_start)\n",
    "print('end_date_post:   '+postfire_end)"
   ]
  },
  {
   "cell_type": "code",
   "execution_count": 8,
   "metadata": {
    "jupyter": {
     "source_hidden": true
    }
   },
   "outputs": [],
   "source": [
    "def dNBR_processing(coordinates):\n",
    "    \n",
    "    # Load all data in baseline period available from s2a/b_ard_granule datasets\n",
    "    baseline_ard = load_ard(dc=dc,\n",
    "                   products=['s2a_ard_granule', 's2b_ard_granule'],\n",
    "                   x = (coordinates.x - 0.1, coordinates.x + 0.1),\n",
    "                   y = (coordinates.y - 0.1, coordinates.y + 0.1),\n",
    "                   time=(prefire_start, prefire_end),\n",
    "                   measurements=['nbart_nir_1',\n",
    "                                 'nbart_swir_3'],\n",
    "                   min_gooddata=0.1,\n",
    "                   output_crs='EPSG:32755', # UTM Zone 55S\n",
    "                   resolution=(-10,10),\n",
    "                   group_by='solar_day')\n",
    "\n",
    "    # Remove milliseconds \n",
    "    baseline_ard['time'] = baseline_ard.indexes['time'].normalize()\n",
    "    \n",
    "    baseline_ard = calculate_indices(baseline_ard,\n",
    "                                     index='NBR', \n",
    "                                     collection='ga_s2_1', \n",
    "                                     drop=False)\n",
    "\n",
    "    # Compute median using all observations in the dataset along the time axis\n",
    "    baseline_image = baseline_ard.median(dim='time')\n",
    "\n",
    "    # Delete baseline_combined\n",
    "    del baseline_ard\n",
    "\n",
    "    # Select NBR\n",
    "    baseline_NBR = baseline_image.NBR\n",
    "\n",
    "    del baseline_image\n",
    "\n",
    "    # Load all data in post-fire period available from s2a/b_ard_granule datasets\n",
    "    post_col = load_ard(dc=dc,\n",
    "               products=['s2a_ard_granule', 's2b_ard_granule'],\n",
    "               x = (coordinates.x - 0.1, coordinates.x + 0.1),\n",
    "               y = (coordinates.y - 0.1, coordinates.y + 0.1),\n",
    "               time=(postfire_start, postfire_end),\n",
    "               measurements=['nbart_nir_1',\n",
    "                             'nbart_swir_3'],\n",
    "               min_gooddata=0.1,\n",
    "               output_crs='EPSG:32755', # UTM Zone 55S\n",
    "               resolution=(-10,10),\n",
    "               group_by='solar_day')\n",
    "\n",
    "    # Calculate NBR on all post-fire images\n",
    "    post_combined = calculate_indices(post_col, index='NBR', collection='ga_s2_1', drop=False)\n",
    "\n",
    "    del post_col\n",
    "\n",
    "    # Calculate the median post-fire image\n",
    "    post_image = post_combined.median(dim='time')\n",
    "\n",
    "    del post_combined\n",
    "\n",
    "    # Select NBR\n",
    "    post_NBR = post_image.NBR\n",
    "\n",
    "    del post_image\n",
    "\n",
    "    # Calculate delta\n",
    "    delta_NBR = baseline_NBR - post_NBR\n",
    "\n",
    "    del baseline_NBR\n",
    "    del post_NBR\n",
    "    \n",
    "    x = np.round_(coordinates.x, decimals=4)\n",
    "    y = np.round_(coordinates.y, decimals=4)\n",
    "\n",
    "    # Turn dNBR into a x-array dataset for export to GeoTIFF\n",
    "    dnbr_dataset = delta_NBR.to_dataset(name='burnt_area')\n",
    "    write_geotiff(f'./geotiffs/{x}_{y}_dNBR.tif', dnbr_dataset)\n",
    "        \n",
    "    del delta_NBR\n",
    "    del dnbr_dataset"
   ]
  },
  {
   "cell_type": "code",
   "execution_count": 9,
   "metadata": {
    "collapsed": true,
    "jupyter": {
     "outputs_hidden": true
    }
   },
   "outputs": [
    {
     "name": "stdout",
     "output_type": "stream",
     "text": [
      "Loading s2a_ard_granule data\n",
      "    Filtering to 13 out of 14 observations\n",
      "    Applying pixel quality mask\n",
      "Loading s2b_ard_granule data\n",
      "    Filtering to 8 out of 12 observations\n",
      "    Applying pixel quality mask\n",
      "Combining and sorting data\n",
      "Masking out invalid values\n",
      "    Returning 21 observations \n",
      "Loading s2a_ard_granule data\n",
      "    Filtering to 16 out of 22 observations\n",
      "    Applying pixel quality mask\n",
      "Loading s2b_ard_granule data\n",
      "    Filtering to 17 out of 23 observations\n",
      "    Applying pixel quality mask\n",
      "Combining and sorting data\n",
      "Masking out invalid values\n",
      "    Returning 33 observations \n"
     ]
    },
    {
     "name": "stderr",
     "output_type": "stream",
     "text": [
      "/g/data/v10/public/modules/dea/20200605/lib/python3.6/site-packages/datacube/helpers.py:34: DeprecationWarning: Function datacube.helpers.write_geotiff is deprecated,\n",
      "please use datacube.utils.cog.write_cog instead\n",
      "  category=DeprecationWarning)\n"
     ]
    },
    {
     "name": "stdout",
     "output_type": "stream",
     "text": [
      "Loading s2a_ard_granule data\n",
      "    Filtering to 11 out of 14 observations\n",
      "    Applying pixel quality mask\n",
      "Loading s2b_ard_granule data\n",
      "    Filtering to 8 out of 12 observations\n",
      "    Applying pixel quality mask\n",
      "Combining and sorting data\n",
      "Masking out invalid values\n",
      "    Returning 19 observations \n",
      "Loading s2a_ard_granule data\n",
      "    Filtering to 10 out of 22 observations\n",
      "    Applying pixel quality mask\n",
      "Loading s2b_ard_granule data\n",
      "    Filtering to 15 out of 23 observations\n",
      "    Applying pixel quality mask\n",
      "Combining and sorting data\n",
      "Masking out invalid values\n",
      "    Returning 25 observations \n"
     ]
    },
    {
     "name": "stderr",
     "output_type": "stream",
     "text": [
      "/g/data/v10/public/modules/dea/20200605/lib/python3.6/site-packages/datacube/helpers.py:34: DeprecationWarning: Function datacube.helpers.write_geotiff is deprecated,\n",
      "please use datacube.utils.cog.write_cog instead\n",
      "  category=DeprecationWarning)\n"
     ]
    },
    {
     "name": "stdout",
     "output_type": "stream",
     "text": [
      "Loading s2a_ard_granule data\n",
      "    Filtering to 13 out of 14 observations\n",
      "    Applying pixel quality mask\n",
      "Loading s2b_ard_granule data\n",
      "    Filtering to 7 out of 12 observations\n",
      "    Applying pixel quality mask\n",
      "Combining and sorting data\n",
      "Masking out invalid values\n",
      "    Returning 20 observations \n",
      "Loading s2a_ard_granule data\n",
      "    Filtering to 14 out of 22 observations\n",
      "    Applying pixel quality mask\n",
      "Loading s2b_ard_granule data\n",
      "    Filtering to 18 out of 23 observations\n",
      "    Applying pixel quality mask\n",
      "Combining and sorting data\n",
      "Masking out invalid values\n",
      "    Returning 32 observations \n"
     ]
    },
    {
     "name": "stderr",
     "output_type": "stream",
     "text": [
      "/g/data/v10/public/modules/dea/20200605/lib/python3.6/site-packages/datacube/helpers.py:34: DeprecationWarning: Function datacube.helpers.write_geotiff is deprecated,\n",
      "please use datacube.utils.cog.write_cog instead\n",
      "  category=DeprecationWarning)\n"
     ]
    },
    {
     "name": "stdout",
     "output_type": "stream",
     "text": [
      "Loading s2a_ard_granule data\n",
      "    Filtering to 7 out of 14 observations\n",
      "    Applying pixel quality mask\n",
      "Loading s2b_ard_granule data\n",
      "    Filtering to 4 out of 11 observations\n",
      "    Applying pixel quality mask\n",
      "Combining and sorting data\n",
      "Masking out invalid values\n",
      "    Returning 11 observations \n",
      "Loading s2a_ard_granule data\n",
      "    Filtering to 8 out of 20 observations\n",
      "    Applying pixel quality mask\n",
      "Loading s2b_ard_granule data\n",
      "    Filtering to 11 out of 21 observations\n",
      "    Applying pixel quality mask\n",
      "Combining and sorting data\n",
      "Masking out invalid values\n",
      "    Returning 19 observations \n"
     ]
    },
    {
     "name": "stderr",
     "output_type": "stream",
     "text": [
      "/g/data/v10/public/modules/dea/20200605/lib/python3.6/site-packages/datacube/helpers.py:34: DeprecationWarning: Function datacube.helpers.write_geotiff is deprecated,\n",
      "please use datacube.utils.cog.write_cog instead\n",
      "  category=DeprecationWarning)\n"
     ]
    },
    {
     "name": "stdout",
     "output_type": "stream",
     "text": [
      "Loading s2a_ard_granule data\n",
      "    Filtering to 11 out of 14 observations\n",
      "    Applying pixel quality mask\n",
      "Loading s2b_ard_granule data\n",
      "    Filtering to 6 out of 12 observations\n",
      "    Applying pixel quality mask\n",
      "Combining and sorting data\n",
      "Masking out invalid values\n",
      "    Returning 17 observations \n",
      "Loading s2a_ard_granule data\n",
      "    Filtering to 13 out of 22 observations\n",
      "    Applying pixel quality mask\n",
      "Loading s2b_ard_granule data\n",
      "    Filtering to 17 out of 23 observations\n",
      "    Applying pixel quality mask\n",
      "Combining and sorting data\n",
      "Masking out invalid values\n",
      "    Returning 30 observations \n"
     ]
    },
    {
     "name": "stderr",
     "output_type": "stream",
     "text": [
      "/g/data/v10/public/modules/dea/20200605/lib/python3.6/site-packages/datacube/helpers.py:34: DeprecationWarning: Function datacube.helpers.write_geotiff is deprecated,\n",
      "please use datacube.utils.cog.write_cog instead\n",
      "  category=DeprecationWarning)\n"
     ]
    },
    {
     "name": "stdout",
     "output_type": "stream",
     "text": [
      "Loading s2a_ard_granule data\n",
      "    Filtering to 7 out of 7 observations\n",
      "    Applying pixel quality mask\n",
      "Loading s2b_ard_granule data\n",
      "    Filtering to 4 out of 6 observations\n",
      "    Applying pixel quality mask\n",
      "Combining and sorting data\n",
      "Masking out invalid values\n",
      "    Returning 11 observations \n",
      "Loading s2a_ard_granule data\n",
      "    Filtering to 7 out of 11 observations\n",
      "    Applying pixel quality mask\n",
      "Loading s2b_ard_granule data\n",
      "    Filtering to 9 out of 12 observations\n",
      "    Applying pixel quality mask\n",
      "Combining and sorting data\n",
      "Masking out invalid values\n",
      "    Returning 16 observations \n"
     ]
    },
    {
     "name": "stderr",
     "output_type": "stream",
     "text": [
      "/g/data/v10/public/modules/dea/20200605/lib/python3.6/site-packages/datacube/helpers.py:34: DeprecationWarning: Function datacube.helpers.write_geotiff is deprecated,\n",
      "please use datacube.utils.cog.write_cog instead\n",
      "  category=DeprecationWarning)\n"
     ]
    },
    {
     "name": "stdout",
     "output_type": "stream",
     "text": [
      "Loading s2a_ard_granule data\n",
      "    Filtering to 11 out of 14 observations\n",
      "    Applying pixel quality mask\n",
      "Loading s2b_ard_granule data\n",
      "    Filtering to 9 out of 12 observations\n",
      "    Applying pixel quality mask\n",
      "Combining and sorting data\n",
      "Masking out invalid values\n",
      "    Returning 20 observations \n",
      "Loading s2a_ard_granule data\n",
      "    Filtering to 16 out of 22 observations\n",
      "    Applying pixel quality mask\n",
      "Loading s2b_ard_granule data\n",
      "    Filtering to 15 out of 23 observations\n",
      "    Applying pixel quality mask\n",
      "Combining and sorting data\n",
      "Masking out invalid values\n",
      "    Returning 31 observations \n"
     ]
    },
    {
     "name": "stderr",
     "output_type": "stream",
     "text": [
      "/g/data/v10/public/modules/dea/20200605/lib/python3.6/site-packages/datacube/helpers.py:34: DeprecationWarning: Function datacube.helpers.write_geotiff is deprecated,\n",
      "please use datacube.utils.cog.write_cog instead\n",
      "  category=DeprecationWarning)\n"
     ]
    },
    {
     "name": "stdout",
     "output_type": "stream",
     "text": [
      "Loading s2a_ard_granule data\n",
      "    Filtering to 13 out of 14 observations\n",
      "    Applying pixel quality mask\n",
      "Loading s2b_ard_granule data\n",
      "    Filtering to 9 out of 12 observations\n",
      "    Applying pixel quality mask\n",
      "Combining and sorting data\n",
      "Masking out invalid values\n",
      "    Returning 22 observations \n",
      "Loading s2a_ard_granule data\n",
      "    Filtering to 14 out of 22 observations\n",
      "    Applying pixel quality mask\n",
      "Loading s2b_ard_granule data\n",
      "    Filtering to 16 out of 23 observations\n",
      "    Applying pixel quality mask\n",
      "Combining and sorting data\n",
      "Masking out invalid values\n",
      "    Returning 30 observations \n"
     ]
    },
    {
     "name": "stderr",
     "output_type": "stream",
     "text": [
      "/g/data/v10/public/modules/dea/20200605/lib/python3.6/site-packages/datacube/helpers.py:34: DeprecationWarning: Function datacube.helpers.write_geotiff is deprecated,\n",
      "please use datacube.utils.cog.write_cog instead\n",
      "  category=DeprecationWarning)\n"
     ]
    },
    {
     "name": "stdout",
     "output_type": "stream",
     "text": [
      "Loading s2a_ard_granule data\n",
      "    Filtering to 12 out of 14 observations\n",
      "    Applying pixel quality mask\n",
      "Loading s2b_ard_granule data\n",
      "    Filtering to 8 out of 12 observations\n",
      "    Applying pixel quality mask\n",
      "Combining and sorting data\n",
      "Masking out invalid values\n",
      "    Returning 20 observations \n",
      "Loading s2a_ard_granule data\n",
      "    Filtering to 16 out of 22 observations\n",
      "    Applying pixel quality mask\n",
      "Loading s2b_ard_granule data\n",
      "    Filtering to 17 out of 23 observations\n",
      "    Applying pixel quality mask\n",
      "Combining and sorting data\n",
      "Masking out invalid values\n",
      "    Returning 33 observations \n"
     ]
    },
    {
     "name": "stderr",
     "output_type": "stream",
     "text": [
      "/g/data/v10/public/modules/dea/20200605/lib/python3.6/site-packages/datacube/helpers.py:34: DeprecationWarning: Function datacube.helpers.write_geotiff is deprecated,\n",
      "please use datacube.utils.cog.write_cog instead\n",
      "  category=DeprecationWarning)\n"
     ]
    },
    {
     "name": "stdout",
     "output_type": "stream",
     "text": [
      "Loading s2a_ard_granule data\n",
      "    Filtering to 12 out of 14 observations\n",
      "    Applying pixel quality mask\n",
      "Loading s2b_ard_granule data\n",
      "    Filtering to 9 out of 12 observations\n",
      "    Applying pixel quality mask\n",
      "Combining and sorting data\n",
      "Masking out invalid values\n",
      "    Returning 21 observations \n",
      "Loading s2a_ard_granule data\n",
      "    Filtering to 12 out of 22 observations\n",
      "    Applying pixel quality mask\n",
      "Loading s2b_ard_granule data\n",
      "    Filtering to 18 out of 23 observations\n",
      "    Applying pixel quality mask\n",
      "Combining and sorting data\n",
      "Masking out invalid values\n",
      "    Returning 30 observations \n"
     ]
    },
    {
     "name": "stderr",
     "output_type": "stream",
     "text": [
      "/g/data/v10/public/modules/dea/20200605/lib/python3.6/site-packages/datacube/helpers.py:34: DeprecationWarning: Function datacube.helpers.write_geotiff is deprecated,\n",
      "please use datacube.utils.cog.write_cog instead\n",
      "  category=DeprecationWarning)\n"
     ]
    },
    {
     "name": "stdout",
     "output_type": "stream",
     "text": [
      "Loading s2a_ard_granule data\n",
      "    Filtering to 11 out of 14 observations\n",
      "    Applying pixel quality mask\n",
      "Loading s2b_ard_granule data\n",
      "    Filtering to 7 out of 12 observations\n",
      "    Applying pixel quality mask\n",
      "Combining and sorting data\n",
      "Masking out invalid values\n",
      "    Returning 18 observations \n",
      "Loading s2a_ard_granule data\n",
      "    Filtering to 16 out of 22 observations\n",
      "    Applying pixel quality mask\n",
      "Loading s2b_ard_granule data\n",
      "    Filtering to 15 out of 23 observations\n",
      "    Applying pixel quality mask\n",
      "Combining and sorting data\n",
      "Masking out invalid values\n",
      "    Returning 31 observations \n"
     ]
    },
    {
     "name": "stderr",
     "output_type": "stream",
     "text": [
      "/g/data/v10/public/modules/dea/20200605/lib/python3.6/site-packages/datacube/helpers.py:34: DeprecationWarning: Function datacube.helpers.write_geotiff is deprecated,\n",
      "please use datacube.utils.cog.write_cog instead\n",
      "  category=DeprecationWarning)\n"
     ]
    },
    {
     "name": "stdout",
     "output_type": "stream",
     "text": [
      "Loading s2a_ard_granule data\n",
      "    Filtering to 13 out of 14 observations\n",
      "    Applying pixel quality mask\n",
      "Loading s2b_ard_granule data\n",
      "    Filtering to 7 out of 12 observations\n",
      "    Applying pixel quality mask\n",
      "Combining and sorting data\n",
      "Masking out invalid values\n",
      "    Returning 20 observations \n",
      "Loading s2a_ard_granule data\n",
      "    Filtering to 12 out of 22 observations\n",
      "    Applying pixel quality mask\n",
      "Loading s2b_ard_granule data\n",
      "    Filtering to 18 out of 23 observations\n",
      "    Applying pixel quality mask\n",
      "Combining and sorting data\n",
      "Masking out invalid values\n",
      "    Returning 30 observations \n"
     ]
    },
    {
     "name": "stderr",
     "output_type": "stream",
     "text": [
      "/g/data/v10/public/modules/dea/20200605/lib/python3.6/site-packages/datacube/helpers.py:34: DeprecationWarning: Function datacube.helpers.write_geotiff is deprecated,\n",
      "please use datacube.utils.cog.write_cog instead\n",
      "  category=DeprecationWarning)\n"
     ]
    },
    {
     "name": "stdout",
     "output_type": "stream",
     "text": [
      "Loading s2a_ard_granule data\n",
      "    Filtering to 7 out of 7 observations\n",
      "    Applying pixel quality mask\n",
      "Loading s2b_ard_granule data\n",
      "    Filtering to 4 out of 6 observations\n",
      "    Applying pixel quality mask\n",
      "Combining and sorting data\n",
      "Masking out invalid values\n",
      "    Returning 11 observations \n",
      "Loading s2a_ard_granule data\n",
      "    Filtering to 9 out of 11 observations\n",
      "    Applying pixel quality mask\n",
      "Loading s2b_ard_granule data\n",
      "    Filtering to 10 out of 12 observations\n",
      "    Applying pixel quality mask\n",
      "Combining and sorting data\n",
      "Masking out invalid values\n",
      "    Returning 19 observations \n"
     ]
    },
    {
     "name": "stderr",
     "output_type": "stream",
     "text": [
      "/g/data/v10/public/modules/dea/20200605/lib/python3.6/site-packages/datacube/helpers.py:34: DeprecationWarning: Function datacube.helpers.write_geotiff is deprecated,\n",
      "please use datacube.utils.cog.write_cog instead\n",
      "  category=DeprecationWarning)\n"
     ]
    },
    {
     "name": "stdout",
     "output_type": "stream",
     "text": [
      "Loading s2a_ard_granule data\n",
      "    Filtering to 7 out of 7 observations\n",
      "    Applying pixel quality mask\n",
      "Loading s2b_ard_granule data\n",
      "    Filtering to 4 out of 6 observations\n",
      "    Applying pixel quality mask\n",
      "Combining and sorting data\n",
      "Masking out invalid values\n",
      "    Returning 11 observations \n",
      "Loading s2a_ard_granule data\n",
      "    Filtering to 8 out of 11 observations\n",
      "    Applying pixel quality mask\n",
      "Loading s2b_ard_granule data\n",
      "    Filtering to 10 out of 12 observations\n",
      "    Applying pixel quality mask\n",
      "Combining and sorting data\n",
      "Masking out invalid values\n",
      "    Returning 18 observations \n"
     ]
    },
    {
     "name": "stderr",
     "output_type": "stream",
     "text": [
      "/g/data/v10/public/modules/dea/20200605/lib/python3.6/site-packages/datacube/helpers.py:34: DeprecationWarning: Function datacube.helpers.write_geotiff is deprecated,\n",
      "please use datacube.utils.cog.write_cog instead\n",
      "  category=DeprecationWarning)\n"
     ]
    },
    {
     "name": "stdout",
     "output_type": "stream",
     "text": [
      "Loading s2a_ard_granule data\n",
      "    Filtering to 7 out of 11 observations\n",
      "    Applying pixel quality mask\n",
      "Loading s2b_ard_granule data\n",
      "    Filtering to 4 out of 7 observations\n",
      "    Applying pixel quality mask\n",
      "Combining and sorting data\n",
      "Masking out invalid values\n",
      "    Returning 11 observations \n",
      "Loading s2a_ard_granule data\n",
      "    Filtering to 8 out of 14 observations\n",
      "    Applying pixel quality mask\n",
      "Loading s2b_ard_granule data\n",
      "    Filtering to 10 out of 14 observations\n",
      "    Applying pixel quality mask\n",
      "Combining and sorting data\n",
      "Masking out invalid values\n",
      "    Returning 18 observations \n"
     ]
    },
    {
     "name": "stderr",
     "output_type": "stream",
     "text": [
      "/g/data/v10/public/modules/dea/20200605/lib/python3.6/site-packages/datacube/helpers.py:34: DeprecationWarning: Function datacube.helpers.write_geotiff is deprecated,\n",
      "please use datacube.utils.cog.write_cog instead\n",
      "  category=DeprecationWarning)\n"
     ]
    },
    {
     "name": "stdout",
     "output_type": "stream",
     "text": [
      "Loading s2a_ard_granule data\n",
      "    Filtering to 7 out of 7 observations\n",
      "    Applying pixel quality mask\n",
      "Loading s2b_ard_granule data\n",
      "    Filtering to 4 out of 6 observations\n",
      "    Applying pixel quality mask\n",
      "Combining and sorting data\n",
      "Masking out invalid values\n",
      "    Returning 11 observations \n",
      "Loading s2a_ard_granule data\n",
      "    Filtering to 8 out of 11 observations\n",
      "    Applying pixel quality mask\n",
      "Loading s2b_ard_granule data\n",
      "    Filtering to 10 out of 12 observations\n",
      "    Applying pixel quality mask\n",
      "Combining and sorting data\n",
      "Masking out invalid values\n",
      "    Returning 18 observations \n"
     ]
    },
    {
     "name": "stderr",
     "output_type": "stream",
     "text": [
      "/g/data/v10/public/modules/dea/20200605/lib/python3.6/site-packages/datacube/helpers.py:34: DeprecationWarning: Function datacube.helpers.write_geotiff is deprecated,\n",
      "please use datacube.utils.cog.write_cog instead\n",
      "  category=DeprecationWarning)\n"
     ]
    },
    {
     "name": "stdout",
     "output_type": "stream",
     "text": [
      "Loading s2a_ard_granule data\n",
      "    Filtering to 11 out of 14 observations\n",
      "    Applying pixel quality mask\n",
      "Loading s2b_ard_granule data\n",
      "    Filtering to 7 out of 12 observations\n",
      "    Applying pixel quality mask\n",
      "Combining and sorting data\n",
      "Masking out invalid values\n",
      "    Returning 18 observations \n",
      "Loading s2a_ard_granule data\n",
      "    Filtering to 13 out of 22 observations\n",
      "    Applying pixel quality mask\n",
      "Loading s2b_ard_granule data\n",
      "    Filtering to 14 out of 23 observations\n",
      "    Applying pixel quality mask\n",
      "Combining and sorting data\n",
      "Masking out invalid values\n",
      "    Returning 27 observations \n"
     ]
    },
    {
     "name": "stderr",
     "output_type": "stream",
     "text": [
      "/g/data/v10/public/modules/dea/20200605/lib/python3.6/site-packages/datacube/helpers.py:34: DeprecationWarning: Function datacube.helpers.write_geotiff is deprecated,\n",
      "please use datacube.utils.cog.write_cog instead\n",
      "  category=DeprecationWarning)\n"
     ]
    },
    {
     "name": "stdout",
     "output_type": "stream",
     "text": [
      "Loading s2a_ard_granule data\n",
      "    Filtering to 7 out of 7 observations\n",
      "    Applying pixel quality mask\n",
      "Loading s2b_ard_granule data\n",
      "    Filtering to 4 out of 6 observations\n",
      "    Applying pixel quality mask\n",
      "Combining and sorting data\n",
      "Masking out invalid values\n",
      "    Returning 11 observations \n",
      "Loading s2a_ard_granule data\n",
      "    Filtering to 7 out of 11 observations\n",
      "    Applying pixel quality mask\n",
      "Loading s2b_ard_granule data\n",
      "    Filtering to 9 out of 12 observations\n",
      "    Applying pixel quality mask\n",
      "Combining and sorting data\n",
      "Masking out invalid values\n",
      "    Returning 16 observations \n"
     ]
    },
    {
     "name": "stderr",
     "output_type": "stream",
     "text": [
      "/g/data/v10/public/modules/dea/20200605/lib/python3.6/site-packages/datacube/helpers.py:34: DeprecationWarning: Function datacube.helpers.write_geotiff is deprecated,\n",
      "please use datacube.utils.cog.write_cog instead\n",
      "  category=DeprecationWarning)\n"
     ]
    },
    {
     "name": "stdout",
     "output_type": "stream",
     "text": [
      "Loading s2a_ard_granule data\n",
      "    Filtering to 11 out of 14 observations\n",
      "    Applying pixel quality mask\n",
      "Loading s2b_ard_granule data\n",
      "    Filtering to 7 out of 12 observations\n",
      "    Applying pixel quality mask\n",
      "Combining and sorting data\n",
      "Masking out invalid values\n",
      "    Returning 18 observations \n",
      "Loading s2a_ard_granule data\n",
      "    Filtering to 13 out of 22 observations\n",
      "    Applying pixel quality mask\n",
      "Loading s2b_ard_granule data\n",
      "    Filtering to 18 out of 23 observations\n",
      "    Applying pixel quality mask\n",
      "Combining and sorting data\n",
      "Masking out invalid values\n",
      "    Returning 31 observations \n"
     ]
    },
    {
     "name": "stderr",
     "output_type": "stream",
     "text": [
      "/g/data/v10/public/modules/dea/20200605/lib/python3.6/site-packages/datacube/helpers.py:34: DeprecationWarning: Function datacube.helpers.write_geotiff is deprecated,\n",
      "please use datacube.utils.cog.write_cog instead\n",
      "  category=DeprecationWarning)\n"
     ]
    },
    {
     "name": "stdout",
     "output_type": "stream",
     "text": [
      "Loading s2a_ard_granule data\n",
      "    Filtering to 11 out of 14 observations\n",
      "    Applying pixel quality mask\n",
      "Loading s2b_ard_granule data\n",
      "    Filtering to 9 out of 12 observations\n",
      "    Applying pixel quality mask\n",
      "Combining and sorting data\n",
      "Masking out invalid values\n",
      "    Returning 20 observations \n",
      "Loading s2a_ard_granule data\n",
      "    Filtering to 11 out of 22 observations\n",
      "    Applying pixel quality mask\n",
      "Loading s2b_ard_granule data\n",
      "    Filtering to 17 out of 23 observations\n",
      "    Applying pixel quality mask\n",
      "Combining and sorting data\n",
      "Masking out invalid values\n",
      "    Returning 28 observations \n"
     ]
    },
    {
     "name": "stderr",
     "output_type": "stream",
     "text": [
      "/g/data/v10/public/modules/dea/20200605/lib/python3.6/site-packages/datacube/helpers.py:34: DeprecationWarning: Function datacube.helpers.write_geotiff is deprecated,\n",
      "please use datacube.utils.cog.write_cog instead\n",
      "  category=DeprecationWarning)\n"
     ]
    },
    {
     "name": "stdout",
     "output_type": "stream",
     "text": [
      "Loading s2a_ard_granule data\n",
      "    Filtering to 10 out of 14 observations\n",
      "    Applying pixel quality mask\n",
      "Loading s2b_ard_granule data\n",
      "    Filtering to 7 out of 12 observations\n",
      "    Applying pixel quality mask\n",
      "Combining and sorting data\n",
      "Masking out invalid values\n",
      "    Returning 17 observations \n",
      "Loading s2a_ard_granule data\n",
      "    Filtering to 14 out of 22 observations\n",
      "    Applying pixel quality mask\n",
      "Loading s2b_ard_granule data\n",
      "    Filtering to 17 out of 23 observations\n",
      "    Applying pixel quality mask\n",
      "Combining and sorting data\n",
      "Masking out invalid values\n",
      "    Returning 31 observations \n"
     ]
    },
    {
     "name": "stderr",
     "output_type": "stream",
     "text": [
      "/g/data/v10/public/modules/dea/20200605/lib/python3.6/site-packages/datacube/helpers.py:34: DeprecationWarning: Function datacube.helpers.write_geotiff is deprecated,\n",
      "please use datacube.utils.cog.write_cog instead\n",
      "  category=DeprecationWarning)\n"
     ]
    },
    {
     "name": "stdout",
     "output_type": "stream",
     "text": [
      "Loading s2a_ard_granule data\n",
      "    Filtering to 13 out of 14 observations\n",
      "    Applying pixel quality mask\n",
      "Loading s2b_ard_granule data\n",
      "    Filtering to 9 out of 12 observations\n",
      "    Applying pixel quality mask\n",
      "Combining and sorting data\n",
      "Masking out invalid values\n",
      "    Returning 22 observations \n",
      "Loading s2a_ard_granule data\n",
      "    Filtering to 13 out of 22 observations\n",
      "    Applying pixel quality mask\n",
      "Loading s2b_ard_granule data\n",
      "    Filtering to 18 out of 23 observations\n",
      "    Applying pixel quality mask\n",
      "Combining and sorting data\n",
      "Masking out invalid values\n",
      "    Returning 31 observations \n"
     ]
    },
    {
     "name": "stderr",
     "output_type": "stream",
     "text": [
      "/g/data/v10/public/modules/dea/20200605/lib/python3.6/site-packages/datacube/helpers.py:34: DeprecationWarning: Function datacube.helpers.write_geotiff is deprecated,\n",
      "please use datacube.utils.cog.write_cog instead\n",
      "  category=DeprecationWarning)\n"
     ]
    },
    {
     "name": "stdout",
     "output_type": "stream",
     "text": [
      "Loading s2a_ard_granule data\n",
      "    Filtering to 10 out of 14 observations\n",
      "    Applying pixel quality mask\n",
      "Loading s2b_ard_granule data\n",
      "    Filtering to 7 out of 12 observations\n",
      "    Applying pixel quality mask\n",
      "Combining and sorting data\n",
      "Masking out invalid values\n",
      "    Returning 17 observations \n",
      "Loading s2a_ard_granule data\n",
      "    Filtering to 13 out of 22 observations\n",
      "    Applying pixel quality mask\n",
      "Loading s2b_ard_granule data\n",
      "    Filtering to 16 out of 23 observations\n",
      "    Applying pixel quality mask\n",
      "Combining and sorting data\n",
      "Masking out invalid values\n",
      "    Returning 29 observations \n"
     ]
    },
    {
     "name": "stderr",
     "output_type": "stream",
     "text": [
      "/g/data/v10/public/modules/dea/20200605/lib/python3.6/site-packages/datacube/helpers.py:34: DeprecationWarning: Function datacube.helpers.write_geotiff is deprecated,\n",
      "please use datacube.utils.cog.write_cog instead\n",
      "  category=DeprecationWarning)\n"
     ]
    },
    {
     "name": "stdout",
     "output_type": "stream",
     "text": [
      "Loading s2a_ard_granule data\n",
      "    Filtering to 13 out of 14 observations\n",
      "    Applying pixel quality mask\n",
      "Loading s2b_ard_granule data\n",
      "    Filtering to 11 out of 12 observations\n",
      "    Applying pixel quality mask\n",
      "Combining and sorting data\n",
      "Masking out invalid values\n",
      "    Returning 24 observations \n",
      "Loading s2a_ard_granule data\n",
      "    Filtering to 14 out of 22 observations\n",
      "    Applying pixel quality mask\n",
      "Loading s2b_ard_granule data\n",
      "    Filtering to 17 out of 23 observations\n",
      "    Applying pixel quality mask\n",
      "Combining and sorting data\n",
      "Masking out invalid values\n",
      "    Returning 31 observations \n"
     ]
    },
    {
     "name": "stderr",
     "output_type": "stream",
     "text": [
      "/g/data/v10/public/modules/dea/20200605/lib/python3.6/site-packages/datacube/helpers.py:34: DeprecationWarning: Function datacube.helpers.write_geotiff is deprecated,\n",
      "please use datacube.utils.cog.write_cog instead\n",
      "  category=DeprecationWarning)\n"
     ]
    },
    {
     "name": "stdout",
     "output_type": "stream",
     "text": [
      "Loading s2a_ard_granule data\n",
      "    Filtering to 7 out of 7 observations\n",
      "    Applying pixel quality mask\n",
      "Loading s2b_ard_granule data\n",
      "    Filtering to 4 out of 6 observations\n",
      "    Applying pixel quality mask\n",
      "Combining and sorting data\n",
      "Masking out invalid values\n",
      "    Returning 11 observations \n",
      "Loading s2a_ard_granule data\n",
      "    Filtering to 8 out of 11 observations\n",
      "    Applying pixel quality mask\n",
      "Loading s2b_ard_granule data\n",
      "    Filtering to 9 out of 12 observations\n",
      "    Applying pixel quality mask\n",
      "Combining and sorting data\n",
      "Masking out invalid values\n",
      "    Returning 17 observations \n"
     ]
    },
    {
     "name": "stderr",
     "output_type": "stream",
     "text": [
      "/g/data/v10/public/modules/dea/20200605/lib/python3.6/site-packages/datacube/helpers.py:34: DeprecationWarning: Function datacube.helpers.write_geotiff is deprecated,\n",
      "please use datacube.utils.cog.write_cog instead\n",
      "  category=DeprecationWarning)\n"
     ]
    },
    {
     "name": "stdout",
     "output_type": "stream",
     "text": [
      "Loading s2a_ard_granule data\n",
      "    Filtering to 7 out of 7 observations\n",
      "    Applying pixel quality mask\n",
      "Loading s2b_ard_granule data\n",
      "    Filtering to 5 out of 6 observations\n",
      "    Applying pixel quality mask\n",
      "Combining and sorting data\n",
      "Masking out invalid values\n",
      "    Returning 12 observations \n",
      "Loading s2a_ard_granule data\n",
      "    Filtering to 8 out of 11 observations\n",
      "    Applying pixel quality mask\n",
      "Loading s2b_ard_granule data\n",
      "    Filtering to 10 out of 12 observations\n",
      "    Applying pixel quality mask\n",
      "Combining and sorting data\n",
      "Masking out invalid values\n",
      "    Returning 18 observations \n"
     ]
    },
    {
     "name": "stderr",
     "output_type": "stream",
     "text": [
      "/g/data/v10/public/modules/dea/20200605/lib/python3.6/site-packages/datacube/helpers.py:34: DeprecationWarning: Function datacube.helpers.write_geotiff is deprecated,\n",
      "please use datacube.utils.cog.write_cog instead\n",
      "  category=DeprecationWarning)\n"
     ]
    },
    {
     "name": "stdout",
     "output_type": "stream",
     "text": [
      "Loading s2a_ard_granule data\n",
      "    Filtering to 7 out of 7 observations\n",
      "    Applying pixel quality mask\n",
      "Loading s2b_ard_granule data\n",
      "    Filtering to 5 out of 6 observations\n",
      "    Applying pixel quality mask\n",
      "Combining and sorting data\n",
      "Masking out invalid values\n",
      "    Returning 12 observations \n",
      "Loading s2a_ard_granule data\n",
      "    Filtering to 8 out of 11 observations\n",
      "    Applying pixel quality mask\n",
      "Loading s2b_ard_granule data\n",
      "    Filtering to 10 out of 12 observations\n",
      "    Applying pixel quality mask\n",
      "Combining and sorting data\n",
      "Masking out invalid values\n",
      "    Returning 18 observations \n"
     ]
    },
    {
     "name": "stderr",
     "output_type": "stream",
     "text": [
      "/g/data/v10/public/modules/dea/20200605/lib/python3.6/site-packages/datacube/helpers.py:34: DeprecationWarning: Function datacube.helpers.write_geotiff is deprecated,\n",
      "please use datacube.utils.cog.write_cog instead\n",
      "  category=DeprecationWarning)\n"
     ]
    },
    {
     "name": "stdout",
     "output_type": "stream",
     "text": [
      "Loading s2a_ard_granule data\n",
      "    Filtering to 7 out of 7 observations\n",
      "    Applying pixel quality mask\n",
      "Loading s2b_ard_granule data\n",
      "    Filtering to 5 out of 6 observations\n",
      "    Applying pixel quality mask\n",
      "Combining and sorting data\n",
      "Masking out invalid values\n",
      "    Returning 12 observations \n",
      "Loading s2a_ard_granule data\n",
      "    Filtering to 8 out of 11 observations\n",
      "    Applying pixel quality mask\n",
      "Loading s2b_ard_granule data\n",
      "    Filtering to 10 out of 12 observations\n",
      "    Applying pixel quality mask\n",
      "Combining and sorting data\n",
      "Masking out invalid values\n",
      "    Returning 18 observations \n"
     ]
    },
    {
     "name": "stderr",
     "output_type": "stream",
     "text": [
      "/g/data/v10/public/modules/dea/20200605/lib/python3.6/site-packages/datacube/helpers.py:34: DeprecationWarning: Function datacube.helpers.write_geotiff is deprecated,\n",
      "please use datacube.utils.cog.write_cog instead\n",
      "  category=DeprecationWarning)\n"
     ]
    },
    {
     "name": "stdout",
     "output_type": "stream",
     "text": [
      "Loading s2a_ard_granule data\n",
      "    Filtering to 6 out of 7 observations\n",
      "    Applying pixel quality mask\n",
      "Loading s2b_ard_granule data\n",
      "    Filtering to 5 out of 6 observations\n",
      "    Applying pixel quality mask\n",
      "Combining and sorting data\n",
      "Masking out invalid values\n",
      "    Returning 11 observations \n",
      "Loading s2a_ard_granule data\n",
      "    Filtering to 8 out of 11 observations\n",
      "    Applying pixel quality mask\n",
      "Loading s2b_ard_granule data\n",
      "    Filtering to 12 out of 12 observations\n",
      "    Applying pixel quality mask\n",
      "Combining and sorting data\n",
      "Masking out invalid values\n",
      "    Returning 20 observations \n"
     ]
    },
    {
     "name": "stderr",
     "output_type": "stream",
     "text": [
      "/g/data/v10/public/modules/dea/20200605/lib/python3.6/site-packages/datacube/helpers.py:34: DeprecationWarning: Function datacube.helpers.write_geotiff is deprecated,\n",
      "please use datacube.utils.cog.write_cog instead\n",
      "  category=DeprecationWarning)\n"
     ]
    },
    {
     "name": "stdout",
     "output_type": "stream",
     "text": [
      "Loading s2a_ard_granule data\n",
      "    Filtering to 7 out of 7 observations\n",
      "    Applying pixel quality mask\n",
      "Loading s2b_ard_granule data\n",
      "    Filtering to 5 out of 6 observations\n",
      "    Applying pixel quality mask\n",
      "Combining and sorting data\n",
      "Masking out invalid values\n",
      "    Returning 12 observations \n",
      "Loading s2a_ard_granule data\n",
      "    Filtering to 8 out of 11 observations\n",
      "    Applying pixel quality mask\n",
      "Loading s2b_ard_granule data\n",
      "    Filtering to 9 out of 12 observations\n",
      "    Applying pixel quality mask\n",
      "Combining and sorting data\n",
      "Masking out invalid values\n",
      "    Returning 17 observations \n"
     ]
    },
    {
     "name": "stderr",
     "output_type": "stream",
     "text": [
      "/g/data/v10/public/modules/dea/20200605/lib/python3.6/site-packages/datacube/helpers.py:34: DeprecationWarning: Function datacube.helpers.write_geotiff is deprecated,\n",
      "please use datacube.utils.cog.write_cog instead\n",
      "  category=DeprecationWarning)\n"
     ]
    },
    {
     "name": "stdout",
     "output_type": "stream",
     "text": [
      "Loading s2a_ard_granule data\n",
      "    Filtering to 13 out of 14 observations\n",
      "    Applying pixel quality mask\n",
      "Loading s2b_ard_granule data\n",
      "    Filtering to 8 out of 12 observations\n",
      "    Applying pixel quality mask\n",
      "Combining and sorting data\n",
      "Masking out invalid values\n",
      "    Returning 21 observations \n",
      "Loading s2a_ard_granule data\n",
      "    Filtering to 12 out of 22 observations\n",
      "    Applying pixel quality mask\n",
      "Loading s2b_ard_granule data\n",
      "    Filtering to 16 out of 23 observations\n",
      "    Applying pixel quality mask\n",
      "Combining and sorting data\n",
      "Masking out invalid values\n",
      "    Returning 28 observations \n"
     ]
    },
    {
     "name": "stderr",
     "output_type": "stream",
     "text": [
      "/g/data/v10/public/modules/dea/20200605/lib/python3.6/site-packages/datacube/helpers.py:34: DeprecationWarning: Function datacube.helpers.write_geotiff is deprecated,\n",
      "please use datacube.utils.cog.write_cog instead\n",
      "  category=DeprecationWarning)\n"
     ]
    },
    {
     "name": "stdout",
     "output_type": "stream",
     "text": [
      "Loading s2a_ard_granule data\n",
      "    Filtering to 14 out of 14 observations\n",
      "    Applying pixel quality mask\n",
      "Loading s2b_ard_granule data\n",
      "    Filtering to 9 out of 12 observations\n",
      "    Applying pixel quality mask\n",
      "Combining and sorting data\n",
      "Masking out invalid values\n",
      "    Returning 23 observations \n",
      "Loading s2a_ard_granule data\n",
      "    Filtering to 13 out of 22 observations\n",
      "    Applying pixel quality mask\n",
      "Loading s2b_ard_granule data\n",
      "    Filtering to 15 out of 23 observations\n",
      "    Applying pixel quality mask\n",
      "Combining and sorting data\n",
      "Masking out invalid values\n",
      "    Returning 28 observations \n"
     ]
    },
    {
     "name": "stderr",
     "output_type": "stream",
     "text": [
      "/g/data/v10/public/modules/dea/20200605/lib/python3.6/site-packages/datacube/helpers.py:34: DeprecationWarning: Function datacube.helpers.write_geotiff is deprecated,\n",
      "please use datacube.utils.cog.write_cog instead\n",
      "  category=DeprecationWarning)\n"
     ]
    },
    {
     "name": "stdout",
     "output_type": "stream",
     "text": [
      "Loading s2a_ard_granule data\n",
      "    Filtering to 13 out of 14 observations\n",
      "    Applying pixel quality mask\n",
      "Loading s2b_ard_granule data\n",
      "    Filtering to 8 out of 12 observations\n",
      "    Applying pixel quality mask\n",
      "Combining and sorting data\n",
      "Masking out invalid values\n",
      "    Returning 21 observations \n",
      "Loading s2a_ard_granule data\n",
      "    Filtering to 13 out of 22 observations\n",
      "    Applying pixel quality mask\n",
      "Loading s2b_ard_granule data\n",
      "    Filtering to 14 out of 23 observations\n",
      "    Applying pixel quality mask\n",
      "Combining and sorting data\n",
      "Masking out invalid values\n",
      "    Returning 27 observations \n"
     ]
    },
    {
     "name": "stderr",
     "output_type": "stream",
     "text": [
      "/g/data/v10/public/modules/dea/20200605/lib/python3.6/site-packages/datacube/helpers.py:34: DeprecationWarning: Function datacube.helpers.write_geotiff is deprecated,\n",
      "please use datacube.utils.cog.write_cog instead\n",
      "  category=DeprecationWarning)\n"
     ]
    },
    {
     "name": "stdout",
     "output_type": "stream",
     "text": [
      "Loading s2a_ard_granule data\n",
      "    Filtering to 11 out of 14 observations\n",
      "    Applying pixel quality mask\n",
      "Loading s2b_ard_granule data\n",
      "    Filtering to 11 out of 12 observations\n",
      "    Applying pixel quality mask\n",
      "Combining and sorting data\n",
      "Masking out invalid values\n",
      "    Returning 22 observations \n",
      "Loading s2a_ard_granule data\n",
      "    Filtering to 13 out of 22 observations\n",
      "    Applying pixel quality mask\n",
      "Loading s2b_ard_granule data\n",
      "    Filtering to 17 out of 23 observations\n",
      "    Applying pixel quality mask\n",
      "Combining and sorting data\n",
      "Masking out invalid values\n",
      "    Returning 30 observations \n"
     ]
    },
    {
     "name": "stderr",
     "output_type": "stream",
     "text": [
      "/g/data/v10/public/modules/dea/20200605/lib/python3.6/site-packages/datacube/helpers.py:34: DeprecationWarning: Function datacube.helpers.write_geotiff is deprecated,\n",
      "please use datacube.utils.cog.write_cog instead\n",
      "  category=DeprecationWarning)\n"
     ]
    },
    {
     "name": "stdout",
     "output_type": "stream",
     "text": [
      "Loading s2a_ard_granule data\n",
      "    Filtering to 12 out of 14 observations\n",
      "    Applying pixel quality mask\n",
      "Loading s2b_ard_granule data\n",
      "    Filtering to 8 out of 12 observations\n",
      "    Applying pixel quality mask\n",
      "Combining and sorting data\n",
      "Masking out invalid values\n",
      "    Returning 20 observations \n",
      "Loading s2a_ard_granule data\n",
      "    Filtering to 16 out of 22 observations\n",
      "    Applying pixel quality mask\n",
      "Loading s2b_ard_granule data\n",
      "    Filtering to 17 out of 23 observations\n",
      "    Applying pixel quality mask\n",
      "Combining and sorting data\n",
      "Masking out invalid values\n",
      "    Returning 33 observations \n"
     ]
    },
    {
     "name": "stderr",
     "output_type": "stream",
     "text": [
      "/g/data/v10/public/modules/dea/20200605/lib/python3.6/site-packages/datacube/helpers.py:34: DeprecationWarning: Function datacube.helpers.write_geotiff is deprecated,\n",
      "please use datacube.utils.cog.write_cog instead\n",
      "  category=DeprecationWarning)\n"
     ]
    },
    {
     "name": "stdout",
     "output_type": "stream",
     "text": [
      "Loading s2a_ard_granule data\n",
      "    Filtering to 13 out of 14 observations\n",
      "    Applying pixel quality mask\n",
      "Loading s2b_ard_granule data\n",
      "    Filtering to 11 out of 12 observations\n",
      "    Applying pixel quality mask\n",
      "Combining and sorting data\n",
      "Masking out invalid values\n",
      "    Returning 24 observations \n",
      "Loading s2a_ard_granule data\n",
      "    Filtering to 14 out of 22 observations\n",
      "    Applying pixel quality mask\n",
      "Loading s2b_ard_granule data\n",
      "    Filtering to 17 out of 23 observations\n",
      "    Applying pixel quality mask\n",
      "Combining and sorting data\n",
      "Masking out invalid values\n",
      "    Returning 31 observations \n"
     ]
    },
    {
     "name": "stderr",
     "output_type": "stream",
     "text": [
      "/g/data/v10/public/modules/dea/20200605/lib/python3.6/site-packages/datacube/helpers.py:34: DeprecationWarning: Function datacube.helpers.write_geotiff is deprecated,\n",
      "please use datacube.utils.cog.write_cog instead\n",
      "  category=DeprecationWarning)\n"
     ]
    },
    {
     "name": "stdout",
     "output_type": "stream",
     "text": [
      "CPU times: user 31min 41s, sys: 6min 57s, total: 38min 38s\n",
      "Wall time: 12min 42s\n"
     ]
    }
   ],
   "source": [
    "%%time\n",
    "\n",
    "# Iterate through all shapely points to generate a dNBR geotiff.\n",
    "for i in coords:\n",
    "    dNBR_processing(i)"
   ]
  },
  {
   "cell_type": "code",
   "execution_count": 10,
   "metadata": {},
   "outputs": [],
   "source": [
    "import rasterio\n",
    "from rasterio.merge import merge\n",
    "from rasterio.plot import show\n",
    "import glob\n",
    "import os"
   ]
  },
  {
   "cell_type": "code",
   "execution_count": 11,
   "metadata": {},
   "outputs": [
    {
     "name": "stdout",
     "output_type": "stream",
     "text": [
      "/home/554/ab4513/dea-notebooks/My Notebooks/geotiffs/1*.tif\n"
     ]
    }
   ],
   "source": [
    "dirpath = r\"/home/554/ab4513/dea-notebooks/My Notebooks/geotiffs\"\n",
    "out_fp = r\"/home/554/ab4513/dea-notebooks/My Notebooks/geotiffs/Tumbarumba_dNBR.tif\"\n",
    "\n",
    "# Make a search criteria to select the DEM files\n",
    "search_criteria = \"1*.tif\"\n",
    "q = os.path.join(dirpath, search_criteria)\n",
    "print(q)"
   ]
  },
  {
   "cell_type": "code",
   "execution_count": 12,
   "metadata": {},
   "outputs": [],
   "source": [
    "dem_fps = glob.glob(q)\n",
    "# dem_fps"
   ]
  },
  {
   "cell_type": "code",
   "execution_count": 13,
   "metadata": {},
   "outputs": [
    {
     "data": {
      "text/plain": [
       "[<open DatasetReader name='/home/554/ab4513/dea-notebooks/My Notebooks/geotiffs/147.9167_-35.8833_dNBR.tif' mode='r'>,\n",
       " <open DatasetReader name='/home/554/ab4513/dea-notebooks/My Notebooks/geotiffs/147.9167_-35.6833_dNBR.tif' mode='r'>,\n",
       " <open DatasetReader name='/home/554/ab4513/dea-notebooks/My Notebooks/geotiffs/147.9167_-36.0833_dNBR.tif' mode='r'>,\n",
       " <open DatasetReader name='/home/554/ab4513/dea-notebooks/My Notebooks/geotiffs/147.9167_-35.4833_dNBR.tif' mode='r'>,\n",
       " <open DatasetReader name='/home/554/ab4513/dea-notebooks/My Notebooks/geotiffs/147.9167_-36.2833_dNBR.tif' mode='r'>,\n",
       " <open DatasetReader name='/home/554/ab4513/dea-notebooks/My Notebooks/geotiffs/147.9167_-35.2833_dNBR.tif' mode='r'>,\n",
       " <open DatasetReader name='/home/554/ab4513/dea-notebooks/My Notebooks/geotiffs/148.1167_-35.8833_dNBR.tif' mode='r'>,\n",
       " <open DatasetReader name='/home/554/ab4513/dea-notebooks/My Notebooks/geotiffs/148.1167_-35.6833_dNBR.tif' mode='r'>,\n",
       " <open DatasetReader name='/home/554/ab4513/dea-notebooks/My Notebooks/geotiffs/148.1167_-36.0833_dNBR.tif' mode='r'>,\n",
       " <open DatasetReader name='/home/554/ab4513/dea-notebooks/My Notebooks/geotiffs/148.1167_-35.4833_dNBR.tif' mode='r'>,\n",
       " <open DatasetReader name='/home/554/ab4513/dea-notebooks/My Notebooks/geotiffs/148.1167_-36.2833_dNBR.tif' mode='r'>,\n",
       " <open DatasetReader name='/home/554/ab4513/dea-notebooks/My Notebooks/geotiffs/148.1167_-35.2833_dNBR.tif' mode='r'>,\n",
       " <open DatasetReader name='/home/554/ab4513/dea-notebooks/My Notebooks/geotiffs/147.7167_-35.8833_dNBR.tif' mode='r'>,\n",
       " <open DatasetReader name='/home/554/ab4513/dea-notebooks/My Notebooks/geotiffs/147.7167_-35.6833_dNBR.tif' mode='r'>,\n",
       " <open DatasetReader name='/home/554/ab4513/dea-notebooks/My Notebooks/geotiffs/147.7167_-36.0833_dNBR.tif' mode='r'>,\n",
       " <open DatasetReader name='/home/554/ab4513/dea-notebooks/My Notebooks/geotiffs/147.7167_-35.4833_dNBR.tif' mode='r'>,\n",
       " <open DatasetReader name='/home/554/ab4513/dea-notebooks/My Notebooks/geotiffs/147.7167_-36.2833_dNBR.tif' mode='r'>,\n",
       " <open DatasetReader name='/home/554/ab4513/dea-notebooks/My Notebooks/geotiffs/147.7167_-35.2833_dNBR.tif' mode='r'>,\n",
       " <open DatasetReader name='/home/554/ab4513/dea-notebooks/My Notebooks/geotiffs/148.3167_-35.8833_dNBR.tif' mode='r'>,\n",
       " <open DatasetReader name='/home/554/ab4513/dea-notebooks/My Notebooks/geotiffs/148.3167_-35.6833_dNBR.tif' mode='r'>,\n",
       " <open DatasetReader name='/home/554/ab4513/dea-notebooks/My Notebooks/geotiffs/148.3167_-36.0833_dNBR.tif' mode='r'>,\n",
       " <open DatasetReader name='/home/554/ab4513/dea-notebooks/My Notebooks/geotiffs/148.3167_-35.4833_dNBR.tif' mode='r'>,\n",
       " <open DatasetReader name='/home/554/ab4513/dea-notebooks/My Notebooks/geotiffs/148.3167_-36.2833_dNBR.tif' mode='r'>,\n",
       " <open DatasetReader name='/home/554/ab4513/dea-notebooks/My Notebooks/geotiffs/148.3167_-35.2833_dNBR.tif' mode='r'>,\n",
       " <open DatasetReader name='/home/554/ab4513/dea-notebooks/My Notebooks/geotiffs/147.5167_-35.8833_dNBR.tif' mode='r'>,\n",
       " <open DatasetReader name='/home/554/ab4513/dea-notebooks/My Notebooks/geotiffs/147.5167_-35.6833_dNBR.tif' mode='r'>,\n",
       " <open DatasetReader name='/home/554/ab4513/dea-notebooks/My Notebooks/geotiffs/147.5167_-36.0833_dNBR.tif' mode='r'>,\n",
       " <open DatasetReader name='/home/554/ab4513/dea-notebooks/My Notebooks/geotiffs/147.5167_-35.4833_dNBR.tif' mode='r'>,\n",
       " <open DatasetReader name='/home/554/ab4513/dea-notebooks/My Notebooks/geotiffs/147.5167_-36.2833_dNBR.tif' mode='r'>,\n",
       " <open DatasetReader name='/home/554/ab4513/dea-notebooks/My Notebooks/geotiffs/147.5167_-35.2833_dNBR.tif' mode='r'>,\n",
       " <open DatasetReader name='/home/554/ab4513/dea-notebooks/My Notebooks/geotiffs/148.5167_-35.8833_dNBR.tif' mode='r'>,\n",
       " <open DatasetReader name='/home/554/ab4513/dea-notebooks/My Notebooks/geotiffs/148.5167_-35.6833_dNBR.tif' mode='r'>,\n",
       " <open DatasetReader name='/home/554/ab4513/dea-notebooks/My Notebooks/geotiffs/148.5167_-36.0833_dNBR.tif' mode='r'>,\n",
       " <open DatasetReader name='/home/554/ab4513/dea-notebooks/My Notebooks/geotiffs/148.5167_-35.4833_dNBR.tif' mode='r'>,\n",
       " <open DatasetReader name='/home/554/ab4513/dea-notebooks/My Notebooks/geotiffs/148.5167_-36.2833_dNBR.tif' mode='r'>,\n",
       " <open DatasetReader name='/home/554/ab4513/dea-notebooks/My Notebooks/geotiffs/148.5167_-35.2833_dNBR.tif' mode='r'>]"
      ]
     },
     "execution_count": 13,
     "metadata": {},
     "output_type": "execute_result"
    }
   ],
   "source": [
    "src_files_to_mosaic = []\n",
    "for fp in dem_fps:\n",
    "    src = rasterio.open(fp)\n",
    "    src_files_to_mosaic.append(src)\n",
    "    \n",
    "src_files_to_mosaic"
   ]
  },
  {
   "cell_type": "code",
   "execution_count": 14,
   "metadata": {},
   "outputs": [],
   "source": [
    "mosaic, out_trans = merge(src_files_to_mosaic)"
   ]
  },
  {
   "cell_type": "code",
   "execution_count": 15,
   "metadata": {},
   "outputs": [
    {
     "data": {
      "image/png": "[encoded data removed]",
      "text/plain": [
       "<Figure size 432x288 with 1 Axes>"
      ]
     },
     "metadata": {
      "needs_background": "light"
     },
     "output_type": "display_data"
    },
    {
     "data": {
      "text/plain": [
       "<matplotlib.axes._subplots.AxesSubplot at 0x7f857ac9cc50>"
      ]
     },
     "execution_count": 15,
     "metadata": {},
     "output_type": "execute_result"
    }
   ],
   "source": [
    "show(mosaic, cmap='plasma')"
   ]
  },
  {
   "cell_type": "code",
   "execution_count": 16,
   "metadata": {},
   "outputs": [],
   "source": [
    "out_meta = src.meta.copy()\n",
    "out_meta.update({\"driver\": \"GTiff\",\n",
    "                 \"height\": mosaic.shape[1],\n",
    "                 \"width\": mosaic.shape[2],\n",
    "                 \"transform\": out_trans,\n",
    "                 \"crs\": \"+proj=utm +zone=55 +ellps=WGS84 +units=m +no_defs \"})"
   ]
  },
  {
   "cell_type": "code",
   "execution_count": 17,
   "metadata": {},
   "outputs": [],
   "source": [
    "with rasterio.open(out_fp, \"w\", **out_meta) as dest:\n",
    "    dest.write(mosaic)"
   ]
  }
 ],
 "metadata": {
  "kernelspec": {
   "display_name": "Python 3",
   "language": "python",
   "name": "python3"
  },
  "language_info": {
   "codemirror_mode": {
    "name": "ipython",
    "version": 3
   },
   "file_extension": ".py",
   "mimetype": "text/x-python",
   "name": "python",
   "nbconvert_exporter": "python",
   "pygments_lexer": "ipython3",
   "version": "3.6.10"
  }
 },
 "nbformat": 4,
 "nbformat_minor": 4
}
