{
 "cells": [
  {
   "cell_type": "markdown",
   "metadata": {},
   "source": [
    "### Median Sentinel 2 Pan to Geotiff\n",
    "Created by Amos Bennett.<br>\n",
    "Last Updated 23 Sep 20. <br>\n",
    "\n",
    "Although Sentinel-2 provides a high range of multispectral bands, the lack of panchromatic band disables the production of a set of fine-resolution (10 m) bands. However, few methods have been developed for increasing the spatial resolution of the 20 m bands up to 10 m. In this study, three different methods of producing panchromatic bands have been compared. The first method uses the closest higher spatial resolution band to the lowest spatial resolution band as a panchromatic band, the second method uses one single band as the panchromatic band produced as an average value out of all fine resolution bands, while the third method uses linear correlation for the selection of the panchromatic band. The 60 m bands have not been taken into consideration in this study. In order to compare these methods, three image fusion techniques from different fusion subsections (Component substitution—Intensity Hue Saturation IHS; Numerical method—High Pass Filter HPF; Hybrid Technique—Wavelet Principal Component WPC) have been applied on two Sentinel-2 images over the same study area, on different dates. For the accuracy assessment, both qualitative and quantitative analyses have been made. It has been concluded that using the average value of the visual and the near infrared bands can be accepted as a panchromatic band in the Sentinel-2 dataset.\n",
    "\n",
    "https://www.mdpi.com/2504-3900/2/7/345#:~:text=Although%20Sentinel%2D2%20provides%20a,resolution%20(10%20m)%20bands.&text=It%20has%20been%20concluded%20that,in%20the%20Sentinel%2D2%20dataset"
   ]
  },
  {
   "cell_type": "code",
   "execution_count": null,
   "metadata": {},
   "outputs": [],
   "source": [
    "import sys\n",
    "import datacube\n",
    "from datacube.helpers import write_geotiff\n",
    "from datacube.utils import cog\n",
    "import pandas as pd\n",
    "import xarray as xr\n",
    "import numpy as np\n",
    "import geopandas as gpd\n",
    "import matplotlib.pyplot as plt\n",
    "\n",
    "sys.path.append(\"/home/554/ab4513/dea-notebooks/Scripts\")\n",
    "import dea_datahandling\n",
    "from dea_datahandling import load_ard\n",
    "from dea_plotting import rgb\n",
    "from dea_plotting import display_map\n",
    "from dea_plotting import map_shapefile\n",
    "from dea_bandindices import calculate_indices"
   ]
  },
  {
   "cell_type": "code",
   "execution_count": null,
   "metadata": {},
   "outputs": [],
   "source": [
    "print(datacube.__version__)"
   ]
  },
  {
   "cell_type": "code",
   "execution_count": null,
   "metadata": {},
   "outputs": [],
   "source": [
    "dc = datacube.Datacube(app=\"pan\")"
   ]
  },
  {
   "cell_type": "code",
   "execution_count": null,
   "metadata": {},
   "outputs": [],
   "source": [
    "# Set the central latitude and longitude\n",
    "central_lat = -35.783333\n",
    "central_lon = 148.016667\n",
    "crs = 'EPSG:32755'\n",
    "\n",
    "# Canberra 148.6547665°E 35.5655761°S\n",
    "# Kosciuszko 148.3517111°E 36.1864717°S\n",
    "# Tumbarumba 148.016667°E 35.783333°S\n",
    "\n",
    "# 0.1° approximately equal to 11.1km distance.\n",
    "\n",
    "# Set the buffer to load around the central coordinates (even numbers such as 0.2, 1.0, 2.2 etc) in degrees (lat, lon)\n",
    "buffer = 0.6\n",
    "\n",
    "# Compute the bounding box for the study area\n",
    "study_area_lat = (central_lat - buffer, central_lat + buffer)\n",
    "study_area_lon = (central_lon - buffer, central_lon + buffer)\n",
    "\n",
    "# display_map(x=study_area_lon, y=study_area_lat, margin=-0.2)"
   ]
  },
  {
   "cell_type": "code",
   "execution_count": null,
   "metadata": {},
   "outputs": [],
   "source": [
    "import shapely\n",
    "from shapely.geometry import Point\n",
    "\n",
    "# Create a range for generating point grid.\n",
    "magic_number = int(buffer*10/1)\n",
    "rng = range(int(magic_number/2))\n",
    "\n",
    "x_coord = []\n",
    "y_coord = []\n",
    "\n",
    "# Calculate x and y for point grid.\n",
    "for i in rng:\n",
    "    l = i/5 + 0.1\n",
    "    neg_lat = central_lat - l\n",
    "    neg_lon = central_lon - l\n",
    "    pos_lat = central_lat + l\n",
    "    pos_lon = central_lon + l\n",
    "    x_coord.append(neg_lon)\n",
    "    x_coord.append(pos_lon)\n",
    "    y_coord.append(neg_lat)\n",
    "    y_coord.append(pos_lat)\n",
    "    \n",
    "coords = []\n",
    "\n",
    "# Create list of shapely points.\n",
    "for x in x_coord:\n",
    "    for y in y_coord:\n",
    "        p = Point(x, y)\n",
    "        coords.append(p)"
   ]
  },
  {
   "cell_type": "code",
   "execution_count": null,
   "metadata": {},
   "outputs": [],
   "source": [
    "# Key Dates (only require postfire)\n",
    "prefire_start = '2019-11-01'\n",
    "prefire_end = '2020-01-06'\n",
    "postfire_start = '2020-01-07'\n",
    "postfire_end = '2020-05-01'"
   ]
  },
  {
   "cell_type": "code",
   "execution_count": null,
   "metadata": {},
   "outputs": [],
   "source": [
    "def pan_processing(coordinates):\n",
    "    \n",
    "    # Load all data in baseline period available from s2a/b_ard_granule datasets\n",
    "    fire_ard = load_ard(dc=dc,\n",
    "               products=['s2a_ard_granule', 's2b_ard_granule'],\n",
    "               x = (coordinates.x - 0.1, coordinates.x + 0.1),\n",
    "               y = (coordinates.y - 0.1, coordinates.y + 0.1),\n",
    "               time=(postfire_start, postfire_end),\n",
    "               measurements=['nbart_blue','nbart_green','nbart_red','nbart_nir_1'],\n",
    "               min_gooddata=0.1,\n",
    "               output_crs='EPSG:32755', # UTM Zone 55S\n",
    "               resolution=(-10,10),\n",
    "               group_by='solar_day')\n",
    "    \n",
    "    fire_image = fire_ard.median(dim='time')\n",
    "    \n",
    "    del fire_ard\n",
    "    \n",
    "    fire_pan = (fire_image.nbart_blue + fire_image.nbart_green + fire_image.nbart_red + fire_image.nbart_nir_1)/4\n",
    "    \n",
    "    del fire_image\n",
    "   \n",
    "    x = np.round_(coordinates.x, decimals=4)\n",
    "    y = np.round_(coordinates.y, decimals=4)\n",
    "\n",
    "    # Turn dNBR into a x-array dataset for export to GeoTIFF\n",
    "    pan_dataset = fire_pan.to_dataset(name='s2_pan')\n",
    "    # cog.write_cog(pan_dataset, './PAN_geotiffs/{x}_{y}_PAN.tif')\n",
    "    write_geotiff(f'./postfire_PAN_geotiffs/{x}_{y}_PAN.tif', pan_dataset)\n",
    "        \n",
    "    del fire_pan\n",
    "    del pan_dataset"
   ]
  },
  {
   "cell_type": "code",
   "execution_count": null,
   "metadata": {},
   "outputs": [],
   "source": [
    "%%time\n",
    "\n",
    "# Iterate through all shapely points to generate a panchromatic geotiff.\n",
    "for i in coords:\n",
    "    pan_processing(i)"
   ]
  },
  {
   "cell_type": "code",
   "execution_count": null,
   "metadata": {},
   "outputs": [],
   "source": [
    "import rasterio\n",
    "from rasterio.merge import merge\n",
    "from rasterio.plot import show\n",
    "import glob\n",
    "import os"
   ]
  },
  {
   "cell_type": "code",
   "execution_count": null,
   "metadata": {},
   "outputs": [],
   "source": [
    "dirpath = r\"/home/554/ab4513/dea-notebooks/My Notebooks/postfire_PAN_geotiffs\"\n",
    "out_fp = r\"/home/554/ab4513/dea-notebooks/My Notebooks/postfire_PAN_geotiffs/Tumbarumba_S2_pan_postfire.tif\"\n",
    "\n",
    "# Make a search criteria to select the DEM files\n",
    "search_criteria = \"1*.tif\"\n",
    "q = os.path.join(dirpath, search_criteria)\n",
    "print(q)"
   ]
  },
  {
   "cell_type": "code",
   "execution_count": null,
   "metadata": {},
   "outputs": [],
   "source": [
    "dem_fps = glob.glob(q)"
   ]
  },
  {
   "cell_type": "code",
   "execution_count": null,
   "metadata": {},
   "outputs": [],
   "source": [
    "src_files_to_mosaic = []\n",
    "for fp in dem_fps:\n",
    "    src = rasterio.open(fp)\n",
    "    src_files_to_mosaic.append(src)\n",
    "    \n",
    "src_files_to_mosaic\n",
    "\n",
    "mosaic, out_trans = merge(src_files_to_mosaic)\n",
    "show(mosaic, cmap='gray')"
   ]
  },
  {
   "cell_type": "code",
   "execution_count": null,
   "metadata": {},
   "outputs": [],
   "source": [
    "out_meta = src.meta.copy()\n",
    "out_meta.update({\"driver\": \"GTiff\",\n",
    "                 \"height\": mosaic.shape[1],\n",
    "                 \"width\": mosaic.shape[2],\n",
    "                 \"transform\": out_trans,\n",
    "                 \"crs\": crs})\n",
    "\n",
    "with rasterio.open(out_fp, \"w\", **out_meta) as dest:\n",
    "    dest.write(mosaic)"
   ]
  }
 ],
 "metadata": {
  "kernelspec": {
   "display_name": "Python 3",
   "language": "python",
   "name": "python3"
  },
  "language_info": {
   "codemirror_mode": {
    "name": "ipython",
    "version": 3
   },
   "file_extension": ".py",
   "mimetype": "text/x-python",
   "name": "python",
   "nbconvert_exporter": "python",
   "pygments_lexer": "ipython3",
   "version": "3.8.2"
  }
 },
 "nbformat": 4,
 "nbformat_minor": 4
}
