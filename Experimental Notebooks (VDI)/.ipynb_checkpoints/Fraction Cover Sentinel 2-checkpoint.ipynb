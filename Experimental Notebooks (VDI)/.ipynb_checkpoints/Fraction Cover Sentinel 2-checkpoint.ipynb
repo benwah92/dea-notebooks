{
 "cells": [
  {
   "cell_type": "markdown",
   "metadata": {},
   "source": [
    "### Fractional Cover Sentinel 2a/b\n",
    "Created by Amos Bennett.<br>\n",
    "Last Updated 15 Sep 20. <br>\n",
    "\n",
    "__Updates:__ \n",
    "\n",
    "This script loads a pre and postfire Landsat 8 fractional cover product, and pansharpens the product using a pseudo Sentinel 2 panchromatic band in order to generate a Sentinel 2 equivalent fractional cover product. This will then be used in additional classifications with a dNBR in order to improve the accuracy of a fire severity assessment.\n",
    "\n",
    "Hanging on to this code for the random sampling functionality built in."
   ]
  },
  {
   "cell_type": "code",
   "execution_count": null,
   "metadata": {},
   "outputs": [],
   "source": [
    "import sys\n",
    "import datacube\n",
    "from datacube.helpers import write_geotiff\n",
    "from datacube.utils import cog\n",
    "import pandas as pd\n",
    "import xarray as xr\n",
    "import numpy as np\n",
    "import geopandas as gpd\n",
    "import matplotlib.pyplot as plt\n",
    "\n",
    "sys.path.append(\"/home/554/ab4513/dea-notebooks/Scripts\")\n",
    "import dea_datahandling\n",
    "from dea_datahandling import load_ard\n",
    "from dea_plotting import rgb\n",
    "from dea_plotting import display_map\n",
    "from dea_plotting import map_shapefile\n",
    "from dea_bandindices import calculate_indices"
   ]
  },
  {
   "cell_type": "code",
   "execution_count": null,
   "metadata": {},
   "outputs": [],
   "source": [
    "print(datacube.__version__)"
   ]
  },
  {
   "cell_type": "code",
   "execution_count": null,
   "metadata": {},
   "outputs": [],
   "source": [
    "dc = datacube.Datacube(app=\"fractionalCover\")"
   ]
  },
  {
   "cell_type": "code",
   "execution_count": null,
   "metadata": {},
   "outputs": [],
   "source": [
    "# Set the central latitude and longitude\n",
    "central_lat = -35.783333\n",
    "central_lon = 148.016667\n",
    "crs = 'EPSG:32755'\n",
    "\n",
    "# Canberra 148.6547665°E 35.5655761°S\n",
    "# Kosciuszko 148.3517111°E 36.1864717°S\n",
    "# Tumbarumba 148.016667°E 35.783333°S\n",
    "\n",
    "# 0.1° approximately equal to 11.1km distance.\n",
    "\n",
    "# Set the buffer to load around the central coordinates (even numbers such as 0.2, 1.0, 2.2 etc) in degrees (lat, lon)\n",
    "buffer = 0.6\n",
    "\n",
    "# Compute the bounding box for the study area\n",
    "study_area_lat = (central_lat - buffer, central_lat + buffer)\n",
    "study_area_lon = (central_lon - buffer, central_lon + buffer)\n",
    "\n",
    "# display_map(x=study_area_lon, y=study_area_lat, margin=-0.2)"
   ]
  },
  {
   "cell_type": "markdown",
   "metadata": {},
   "source": [
    "Due to the way that Landsat 8 fractional cover scenes are processed, the fractional cover products cannot be loaded across a wide timespan and statistically calculated with a mean or median. As such, only a few scenes are loaded by limiting the date range and selected the 'max' pixel values across the extent to mitigate the issue of NaN or 0 values distorting the dataset."
   ]
  },
  {
   "cell_type": "code",
   "execution_count": null,
   "metadata": {},
   "outputs": [],
   "source": [
    "# Key dates to load pre and postfire Landsat 8 FC scenes\n",
    "prefire_start = '2019-12-21'\n",
    "prefire_end = '2019-12-23'\n",
    "postfire_start = '2020-01-07'\n",
    "postfire_end = '2020-01-08'"
   ]
  },
  {
   "cell_type": "markdown",
   "metadata": {},
   "source": [
    "The prefire Landsat 8 fractional cover product is retrieved using the normal dc.load() and query functions. Because the ls8_fc_albers is in an albers projection, the output coordinate reference system is specified to match UTM zone 55S."
   ]
  },
  {
   "cell_type": "code",
   "execution_count": null,
   "metadata": {},
   "outputs": [],
   "source": [
    "query = {\"x\": (central_lon - buffer, central_lon + buffer),\n",
    "         \"y\": (central_lat - buffer, central_lat + buffer),\n",
    "         \"time\": (prefire_start, prefire_end),\n",
    "         \"output_crs\": \"EPSG:32755\",\n",
    "         \"resolution\": (-25, 25)}\n",
    "\n",
    "prefire_ls8fc_ds = dc.load(product=\"ls8_fc_albers\",\n",
    "                           measurements=['BS'],\n",
    "                           **query)\n",
    "\n",
    "prefire_ls8fc_ds"
   ]
  },
  {
   "cell_type": "markdown",
   "metadata": {},
   "source": [
    "Code in contigency used to visually assess which images and dates should be used."
   ]
  },
  {
   "cell_type": "raw",
   "metadata": {},
   "source": [
    "rgb(prefire_ls8fc_ds, bands=[\"BS\", \"PV\", \"NPV\"], col='time')"
   ]
  },
  {
   "cell_type": "markdown",
   "metadata": {},
   "source": [
    "As described above, the prefire ls8fc image is calculated using a 'max' statistical calculation. The prefire fractional cover image is then plotted to quickly check for any unusual or glaring artefacts."
   ]
  },
  {
   "cell_type": "code",
   "execution_count": null,
   "metadata": {},
   "outputs": [],
   "source": [
    "prefire_ls8fc_image = prefire_ls8fc_ds.max(dim='time')\n",
    "rgb(prefire_ls8fc_image, bands=[\"BS\", \"PV\", \"NPV\"])"
   ]
  },
  {
   "cell_type": "markdown",
   "metadata": {},
   "source": [
    "Red = Bare, Green = Photosynthetic, Blue = Non-Photosynthetic"
   ]
  },
  {
   "cell_type": "code",
   "execution_count": null,
   "metadata": {},
   "outputs": [],
   "source": [
    "query = {\"x\": (central_lon - buffer, central_lon + buffer),\n",
    "         \"y\": (central_lat - buffer, central_lat + buffer),\n",
    "         \"time\": (postfire_start, postfire_end),\n",
    "         \"output_crs\": \"EPSG:32755\",\n",
    "         \"resolution\": (-25, 25)}\n",
    "\n",
    "postfire_ls8fc_ds = dc.load(product=\"ls8_fc_albers\",\n",
    "                            measurements=['BS'],\n",
    "                            **query)\n",
    "\n",
    "postfire_ls8fc_ds"
   ]
  },
  {
   "cell_type": "markdown",
   "metadata": {},
   "source": [
    "Code in contigency used to visually assess which images and dates should be used."
   ]
  },
  {
   "cell_type": "raw",
   "metadata": {},
   "source": [
    "rgb(postfire_ls8fc_ds, bands=[\"BS\", \"PV\", \"NPV\"], col='time')"
   ]
  },
  {
   "cell_type": "markdown",
   "metadata": {},
   "source": [
    "Postfire ls8 fractional cover image is also generated using the 'max' statistical calcuation. It becomes glaringly obvious that much of the biomass in the scene was burnt given that the red is a measure of bare soil as a percentage of a pixel indicating significant bare ground exposure after the fire (due to loss in canopy cover, biomass etc)."
   ]
  },
  {
   "cell_type": "code",
   "execution_count": null,
   "metadata": {},
   "outputs": [],
   "source": [
    "postfire_ls8fc_image = postfire_ls8fc_ds.max(dim='time')\n",
    "rgb(postfire_ls8fc_image, bands=[\"BS\", \"PV\", \"NPV\"])"
   ]
  },
  {
   "cell_type": "markdown",
   "metadata": {},
   "source": [
    "The next bit of code is used to randomly sample points across the pre and postfire fractional cover images in the event that data can be used to train a classifier to 'infer' a fractional cover product from Sentinel 2 ARD."
   ]
  },
  {
   "cell_type": "code",
   "execution_count": null,
   "metadata": {},
   "outputs": [],
   "source": [
    "prefire_datapoints = pd.DataFrame(columns=['y','x','crs','bs','pv','npv'])\n",
    "\n",
    "for i in range(0,500):\n",
    "    y = np.random.randint(0,5370, size=1)\n",
    "    x = np.random.randint(0,4394, size=1)\n",
    "    bs_df = prefire_ls8fc_image.BS[y,x].to_dataframe()\n",
    "    pv_df = prefire_ls8fc_image.PV[y,x].to_dataframe()\n",
    "    npv_df = prefire_ls8fc_image.NPV[y,x].to_dataframe()\n",
    "    row = [bs_df.index[0][0], bs_df.index[0][1], bs_df.spatial_ref[0], bs_df.BS[0], pv_df.PV[0], npv_df.NPV[0]]\n",
    "    series = pd.Series(row, index = prefire_datapoints.columns)\n",
    "    prefire_datapoints = prefire_datapoints.append(series, ignore_index=True)"
   ]
  },
  {
   "cell_type": "code",
   "execution_count": null,
   "metadata": {},
   "outputs": [],
   "source": [
    "postfire_datapoints = pd.DataFrame(columns=['y','x','crs','bs','pv','npv'])\n",
    "\n",
    "for i in range(0,500):\n",
    "    y = np.random.randint(0,5370, size=1)\n",
    "    x = np.random.randint(0,4394, size=1)\n",
    "    bs_df = postfire_ls8fc_image.BS[y,x].to_dataframe()\n",
    "    pv_df = postfire_ls8fc_image.PV[y,x].to_dataframe()\n",
    "    npv_df = postfire_ls8fc_image.NPV[y,x].to_dataframe()\n",
    "    row = [bs_df.index[0][0], bs_df.index[0][1], bs_df.spatial_ref[0], bs_df.BS[0], pv_df.PV[0], npv_df.NPV[0]]\n",
    "    series = pd.Series(row, index = postfire_datapoints.columns)\n",
    "    postfire_datapoints = postfire_datapoints.append(series, ignore_index=True)"
   ]
  },
  {
   "cell_type": "code",
   "execution_count": null,
   "metadata": {},
   "outputs": [],
   "source": [
    "prefire_datapoints_gdf = gpd.GeoDataFrame(prefire_datapoints, \n",
    "                                          geometry=gpd.points_from_xy(prefire_datapoints.x, prefire_datapoints.y), \n",
    "                                          crs={'init': 'epsg:32755'})\n",
    "postfire_datapoints_gdf = gpd.GeoDataFrame(postfire_datapoints, \n",
    "                                           geometry=gpd.points_from_xy(postfire_datapoints.x, postfire_datapoints.y), \n",
    "                                           crs={'init': 'epsg:32755'})"
   ]
  },
  {
   "cell_type": "markdown",
   "metadata": {},
   "source": [
    "Example of how to change the crs of a geodataframe if required."
   ]
  },
  {
   "cell_type": "raw",
   "metadata": {},
   "source": [
    "postfire_datapoints_gdf = postfire_datapoints_gdf.to_crs(epsg=4326)\n",
    "postfire_datapoints_gdf"
   ]
  },
  {
   "cell_type": "code",
   "execution_count": null,
   "metadata": {},
   "outputs": [],
   "source": [
    "# Key dates to load Sentinel-2 ARD (as per dNBR based on statistical analysis)\n",
    "prefire_start = '2019-11-01'\n",
    "prefire_end = '2020-01-06'\n",
    "postfire_start = '2020-01-07'\n",
    "postfire_end = '2020-05-01'"
   ]
  },
  {
   "cell_type": "markdown",
   "metadata": {},
   "source": [
    "Load the prefire Sentinel 2 images into an x-array. Because the NCI limits memory allocations, the x-array dataset will be dask chunked by x and y coordinates (500 x 500 x t). This ensures that all processing occurs within the memory allocation."
   ]
  }
 ],
 "metadata": {
  "kernelspec": {
   "display_name": "Python 3",
   "language": "python",
   "name": "python3"
  },
  "language_info": {
   "codemirror_mode": {
    "name": "ipython",
    "version": 3
   },
   "file_extension": ".py",
   "mimetype": "text/x-python",
   "name": "python",
   "nbconvert_exporter": "python",
   "pygments_lexer": "ipython3",
   "version": "3.8.2"
  }
 },
 "nbformat": 4,
 "nbformat_minor": 4
}
