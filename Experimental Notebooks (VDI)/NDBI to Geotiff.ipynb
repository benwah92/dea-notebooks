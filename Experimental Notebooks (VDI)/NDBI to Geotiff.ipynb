{
 "cells": [
  {
   "cell_type": "markdown",
   "metadata": {},
   "source": [
    "### NDBI to Geotiff\n",
    "Created by Amos Bennett.<br>\n",
    "Last Updated 12 Jun 20."
   ]
  },
  {
   "cell_type": "code",
   "execution_count": null,
   "metadata": {},
   "outputs": [],
   "source": [
    "import sys\n",
    "import datacube\n",
    "from datacube.helpers import write_geotiff\n",
    "from datacube.utils import cog\n",
    "import pandas as pd\n",
    "import xarray as xr\n",
    "import numpy as np\n",
    "import matplotlib.pyplot as plt\n",
    "\n",
    "sys.path.append(\"/home/554/ab4513/dea-notebooks/Scripts\")\n",
    "from dea_datahandling import load_ard\n",
    "from dea_plotting import rgb\n",
    "from dea_plotting import display_map\n",
    "from dea_bandindices import calculate_indices"
   ]
  },
  {
   "cell_type": "code",
   "execution_count": null,
   "metadata": {},
   "outputs": [],
   "source": [
    "print(datacube.__version__)"
   ]
  },
  {
   "cell_type": "code",
   "execution_count": null,
   "metadata": {},
   "outputs": [],
   "source": [
    "dc = datacube.Datacube(app=\"NDBI\")"
   ]
  },
  {
   "cell_type": "code",
   "execution_count": null,
   "metadata": {},
   "outputs": [],
   "source": [
    "# Set the central latitude and longitude\n",
    "central_lat = -28.1904\n",
    "central_lon = 152.8880\n",
    "\n",
    "# Beaudesert 152.8880°E 28.1904°S\n",
    "\n",
    "# Set the buffer to load around the central coordinates (even numbers such as 0.2, 1.0, 2.2 etc)\n",
    "buffer = 0.6\n",
    "\n",
    "# Compute the bounding box for the study area\n",
    "study_area_lat = (central_lat - buffer, central_lat + buffer)\n",
    "study_area_lon = (central_lon - buffer, central_lon + buffer)\n",
    "\n",
    "display_map(x=study_area_lon, y=study_area_lat, margin=-0.2)"
   ]
  },
  {
   "cell_type": "code",
   "execution_count": null,
   "metadata": {},
   "outputs": [],
   "source": [
    "import shapely\n",
    "from shapely.geometry import Point\n",
    "\n",
    "# Create a range for generating point grid.\n",
    "magic_number = int(buffer*10/1)\n",
    "rng = range(int(magic_number/2))\n",
    "\n",
    "x_coord = []\n",
    "y_coord = []\n",
    "\n",
    "# Calculate x and y for point grid.\n",
    "for i in rng:\n",
    "    l = i/5 + 0.1\n",
    "    neg_lat = central_lat - l\n",
    "    neg_lon = central_lon - l\n",
    "    pos_lat = central_lat + l\n",
    "    pos_lon = central_lon + l\n",
    "    x_coord.append(neg_lon)\n",
    "    x_coord.append(pos_lon)\n",
    "    y_coord.append(neg_lat)\n",
    "    y_coord.append(pos_lat)\n",
    "    \n",
    "coords = []\n",
    "\n",
    "# Create list of shapely points.\n",
    "for x in x_coord:\n",
    "    for y in y_coord:\n",
    "        p = Point(x, y)\n",
    "        coords.append(p)"
   ]
  },
  {
   "cell_type": "code",
   "execution_count": null,
   "metadata": {},
   "outputs": [],
   "source": [
    "# Fire event date\n",
    "todays_date = '2020-02-29'\n",
    "\n",
    "# Length of baseline period\n",
    "baseline_length = '3 months'"
   ]
  },
  {
   "cell_type": "code",
   "execution_count": null,
   "metadata": {},
   "outputs": [],
   "source": [
    "# Define dates for loading data\n",
    "if baseline_length == '12 months':\n",
    "    time_step = timedelta(days=365)\n",
    "if baseline_length == '6 months':\n",
    "    time_step = timedelta(days=182.5)\n",
    "if baseline_length == '3 months':\n",
    "    time_step = timedelta(days=91)\n",
    "\n",
    "# Calculate the start and end date for baseline data load\n",
    "start_date = datetime.strftime(((datetime.strptime(todays_date, '%Y-%m-%d'))-time_step), '%Y-%m-%d')\n",
    "end_date = datetime.strftime(((datetime.strptime(todays_date, '%Y-%m-%d'))-timedelta(days=1)), '%Y-%m-%d')"
   ]
  },
  {
   "cell_type": "code",
   "execution_count": null,
   "metadata": {},
   "outputs": [],
   "source": [
    "# Print dates\n",
    "print('start_date:  '+start_date)\n",
    "print('end_date:    '+end_date)"
   ]
  },
  {
   "cell_type": "code",
   "execution_count": null,
   "metadata": {},
   "outputs": [],
   "source": [
    "def NDBI_processing(coordinates):\n",
    "    # Load all data in basline period avalible from ARD data\n",
    "    baseline_ard = load_ard(dc=dc,\n",
    "                   products=['s2a_ard_granule', 's2b_ard_granule'],\n",
    "                   x = (coordinates.x - 0.1, coordinates.x + 0.1),\n",
    "                   y = (coordinates.y - 0.1, coordinates.y + 0.1),\n",
    "                   time=(start_date, end_date),\n",
    "                   measurements=['nbart_swir_2',\n",
    "                                 'nbart_nir_1'],\n",
    "                   #min_gooddata=0.1,\n",
    "                   output_crs='EPSG:32756',\n",
    "                   resolution=(-10,10),\n",
    "                   group_by='solar_day')\n",
    "\n",
    "    # Find the earliest date from which an observation has been returned from NRT collection\n",
    "    last_ard_date = (pd.to_datetime((baseline_ard.time[-1]).values)).strftime('%Y-%m-%d')\n",
    "\n",
    "    # Load remaining data in baseline period available from ARD collection\n",
    "    baseline_nrt = load_ard(dc=dc,\n",
    "                   products=['s2a_nrt_granule', 's2b_nrt_granule'],\n",
    "                   x = (coordinates.x - 0.1, coordinates.x + 0.1),\n",
    "                   y = (coordinates.y - 0.1, coordinates.y + 0.1),\n",
    "                   time=(last_ard_date,end_date),\n",
    "                   measurements=['nbart_swir_2',\n",
    "                                 'nbart_nir_1'],\n",
    "                   #min_gooddata=0.1,\n",
    "                   output_crs='EPSG:32756',\n",
    "                   resolution=(-10,10),\n",
    "                   group_by='solar_day')\n",
    "\n",
    "    # Remove milliseconds \n",
    "    baseline_ard['time'] = baseline_ard.indexes['time'].normalize()\n",
    "    baseline_nrt['time'] = baseline_nrt.indexes['time'].normalize()\n",
    "\n",
    "    # Find duplicates\n",
    "    duplicate_dates = baseline_nrt['time'].isin(baseline_ard['time'].values)\n",
    "\n",
    "    # Only select NRT that is not duplicated in ARD\n",
    "    baseline_nrt = baseline_nrt.sel(time=~duplicate_dates)\n",
    "\n",
    "    # Concantenate NRT and ARD data together \n",
    "    baseline_combined = xr.concat([baseline_ard, baseline_nrt], dim='time').sortby('time')\n",
    "\n",
    "    del baseline_ard\n",
    "    del baseline_nrt\n",
    "\n",
    "    # Calculate NDBI for the baseline images\n",
    "    baseline_combined = calculate_indices(baseline_combined, \n",
    "                                          index='NDBI', \n",
    "                                          collection='ga_s2_1', \n",
    "                                          drop=False)\n",
    "\n",
    "    # Compute median using all observations in the dataset along the time axis\n",
    "    baseline_image = baseline_combined.median(dim='time')\n",
    "\n",
    "    del baseline_combined\n",
    "\n",
    "    # Select NDBI\n",
    "    baseline_NDBI = baseline_image.NDBI\n",
    "\n",
    "    del baseline_image\n",
    "\n",
    "    # Turn NDBI into a Xarray Dataset for export to GeoTIFF\n",
    "    ndbi_dataset = baseline_NDBI.to_dataset(name='ndbi')\n",
    "    write_geotiff(f'./geotiffs/{coordinates.x}_{coordinates.y}_NDBI.tif', ndbi_dataset)\n",
    "\n",
    "    del baseline_NDBI\n",
    "    del ndbi_dataset"
   ]
  },
  {
   "cell_type": "code",
   "execution_count": null,
   "metadata": {},
   "outputs": [],
   "source": [
    "# Iterate through all shapely points to generate a NDBI geotiff.\n",
    "for i in coords:\n",
    "    NDBI_processing(i)"
   ]
  }
 ],
 "metadata": {
  "kernelspec": {
   "display_name": "Python 3",
   "language": "python",
   "name": "python3"
  },
  "language_info": {
   "codemirror_mode": {
    "name": "ipython",
    "version": 3
   },
   "file_extension": ".py",
   "mimetype": "text/x-python",
   "name": "python",
   "nbconvert_exporter": "python",
   "pygments_lexer": "ipython3",
   "version": "3.8.2"
  }
 },
 "nbformat": 4,
 "nbformat_minor": 4
}
