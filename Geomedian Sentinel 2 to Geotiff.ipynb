{
 "cells": [
  {
   "cell_type": "markdown",
   "metadata": {},
   "source": [
    "### Geomedian Sentinel 2 to Geotiff\n",
    "Created by Amos Bennett.<br>\n",
    "Last Updated 08 Jul 20<br>\n",
    "**write_geotiff function not working."
   ]
  },
  {
   "cell_type": "code",
   "execution_count": null,
   "metadata": {},
   "outputs": [],
   "source": [
    "%matplotlib inline\n",
    "\n",
    "import datacube\n",
    "from datacube_stats.statistics import GeoMedian\n",
    "from datacube.helpers import write_geotiff\n",
    "from odc.ui import with_ui_cbk\n",
    "import sys\n",
    "\n",
    "sys.path.append(\"../Scripts\")\n",
    "from dea_datahandling import load_ard\n",
    "from dea_plotting import display_map\n",
    "from dea_plotting import rgb"
   ]
  },
  {
   "cell_type": "code",
   "execution_count": null,
   "metadata": {},
   "outputs": [],
   "source": [
    "print(datacube.__version__)"
   ]
  },
  {
   "cell_type": "code",
   "execution_count": null,
   "metadata": {},
   "outputs": [],
   "source": [
    "dc = datacube.Datacube(app=\"beaudesert_s2\")"
   ]
  },
  {
   "cell_type": "code",
   "execution_count": null,
   "metadata": {},
   "outputs": [],
   "source": [
    "# Set the central latitude and longitude\n",
    "\n",
    "central_lat = -28.0\n",
    "central_lon = 153.0\n",
    "\n",
    "# Set the buffer to load around the central coordinates - max 0.1 deg\n",
    "buffer = 0.275\n",
    "\n",
    "# Compute the bounding box for the study area\n",
    "study_area_lat = (central_lat - buffer, central_lat + buffer)\n",
    "study_area_lon = (central_lon - buffer, central_lon + buffer)"
   ]
  },
  {
   "cell_type": "code",
   "execution_count": null,
   "metadata": {},
   "outputs": [],
   "source": [
    "display_map(x=study_area_lon, y=study_area_lat)"
   ]
  },
  {
   "cell_type": "code",
   "execution_count": null,
   "metadata": {},
   "outputs": [],
   "source": [
    "# Create a query object\n",
    "query = {\n",
    "    \"x\": (central_lon - buffer, central_lon + buffer),\n",
    "    \"y\": (central_lat - buffer, central_lat + buffer),\n",
    "    \"time\": (\"2020-01-01\", \"2020-06-01\"),\n",
    "    \"measurements\": [\n",
    "        \"nbart_blue\",\n",
    "        \"nbart_green\",\n",
    "        \"nbart_red\",\n",
    "        \"nbart_nir_1\",\n",
    "        \"nbart_nir_2\",\n",
    "        \"nbart_swir_2\",\n",
    "        \"nbart_swir_3\",\n",
    "    ],\n",
    "    \"output_crs\": \"EPSG:32756\",\n",
    "    \"resolution\": (-30, 30),\n",
    "    \"group_by\": \"solar_day\",\n",
    "}\n",
    "\n",
    "# Load available data\n",
    "ds = load_ard(\n",
    "    dc=dc,\n",
    "    products=[\"s2a_ard_granule\", \"s2b_ard_granule\"],\n",
    "    # lazy_load = True,\n",
    "    # dask_chunks = {'x':1000, 'y':1000},\n",
    "    **query\n",
    ")"
   ]
  },
  {
   "cell_type": "code",
   "execution_count": null,
   "metadata": {},
   "outputs": [],
   "source": [
    "print(ds)"
   ]
  },
  {
   "cell_type": "code",
   "execution_count": null,
   "metadata": {},
   "outputs": [],
   "source": [
    "# Compute geomedian using all observations in the dataset\n",
    "geomedian = GeoMedian().compute(ds)"
   ]
  },
  {
   "cell_type": "code",
   "execution_count": null,
   "metadata": {},
   "outputs": [],
   "source": [
    "# Plot the result\n",
    "rgb(geomedian, size=10)"
   ]
  },
  {
   "cell_type": "raw",
   "metadata": {},
   "source": [
    "import datetime\n",
    "\n",
    "write_geotiff('{datetime.datetime.now():%Y%m%d}_Beaudesert_Sentinel_Geomedian.tif', geomedian)"
   ]
  }
 ],
 "metadata": {
  "kernelspec": {
   "display_name": "Python 3",
   "language": "python",
   "name": "python3"
  },
  "language_info": {
   "codemirror_mode": {
    "name": "ipython",
    "version": 3
   },
   "file_extension": ".py",
   "mimetype": "text/x-python",
   "name": "python",
   "nbconvert_exporter": "python",
   "pygments_lexer": "ipython3",
   "version": "3.6.10"
  }
 },
 "nbformat": 4,
 "nbformat_minor": 4
}
